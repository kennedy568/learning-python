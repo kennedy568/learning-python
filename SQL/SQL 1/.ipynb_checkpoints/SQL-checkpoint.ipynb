{
 "cells": [
  {
   "cell_type": "code",
   "execution_count": 17,
   "metadata": {},
   "outputs": [],
   "source": [
    "import sqlite3\n",
    "conn = sqlite3.connect('James.db')\n",
    "c = conn.cursor()"
   ]
  },
  {
   "cell_type": "code",
   "execution_count": 18,
   "metadata": {},
   "outputs": [
    {
     "name": "stderr",
     "output_type": "stream",
     "text": [
      "C:\\Users\\Maria\\AppData\\Roaming\\Python\\Python39\\site-packages\\IPython\\core\\interactiveshell.py:3146: DtypeWarning: Columns (0,47) have mixed types.Specify dtype option on import or set low_memory=False.\n",
      "  has_raised = await self.run_ast_nodes(code_ast.body, cell_name,\n"
     ]
    },
    {
     "data": {
      "text/plain": [
       "(42542, 144)"
      ]
     },
     "execution_count": 18,
     "metadata": {},
     "output_type": "execute_result"
    }
   ],
   "source": [
    "import pandas as pd\n",
    "import os\n",
    "os.listdir()\n",
    "df = pd.read_csv('LoanStats3a.csv')\n",
    "df.shape"
   ]
  },
  {
   "cell_type": "code",
   "execution_count": 22,
   "metadata": {},
   "outputs": [
    {
     "data": {
      "text/html": [
       "<div>\n",
       "<style scoped>\n",
       "    .dataframe tbody tr th:only-of-type {\n",
       "        vertical-align: middle;\n",
       "    }\n",
       "\n",
       "    .dataframe tbody tr th {\n",
       "        vertical-align: top;\n",
       "    }\n",
       "\n",
       "    .dataframe thead th {\n",
       "        text-align: right;\n",
       "    }\n",
       "</style>\n",
       "<table border=\"1\" class=\"dataframe\">\n",
       "  <thead>\n",
       "    <tr style=\"text-align: right;\">\n",
       "      <th></th>\n",
       "      <th>grade</th>\n",
       "      <th>term</th>\n",
       "    </tr>\n",
       "  </thead>\n",
       "  <tbody>\n",
       "    <tr>\n",
       "      <th>0</th>\n",
       "      <td>B</td>\n",
       "      <td>36 months</td>\n",
       "    </tr>\n",
       "    <tr>\n",
       "      <th>1</th>\n",
       "      <td>C</td>\n",
       "      <td>60 months</td>\n",
       "    </tr>\n",
       "    <tr>\n",
       "      <th>2</th>\n",
       "      <td>C</td>\n",
       "      <td>36 months</td>\n",
       "    </tr>\n",
       "    <tr>\n",
       "      <th>3</th>\n",
       "      <td>C</td>\n",
       "      <td>36 months</td>\n",
       "    </tr>\n",
       "    <tr>\n",
       "      <th>4</th>\n",
       "      <td>B</td>\n",
       "      <td>60 months</td>\n",
       "    </tr>\n",
       "    <tr>\n",
       "      <th>...</th>\n",
       "      <td>...</td>\n",
       "      <td>...</td>\n",
       "    </tr>\n",
       "    <tr>\n",
       "      <th>42537</th>\n",
       "      <td>A</td>\n",
       "      <td>36 months</td>\n",
       "    </tr>\n",
       "    <tr>\n",
       "      <th>42538</th>\n",
       "      <td>NaN</td>\n",
       "      <td>NaN</td>\n",
       "    </tr>\n",
       "    <tr>\n",
       "      <th>42539</th>\n",
       "      <td>NaN</td>\n",
       "      <td>NaN</td>\n",
       "    </tr>\n",
       "    <tr>\n",
       "      <th>42540</th>\n",
       "      <td>NaN</td>\n",
       "      <td>NaN</td>\n",
       "    </tr>\n",
       "    <tr>\n",
       "      <th>42541</th>\n",
       "      <td>NaN</td>\n",
       "      <td>NaN</td>\n",
       "    </tr>\n",
       "  </tbody>\n",
       "</table>\n",
       "<p>42542 rows × 2 columns</p>\n",
       "</div>"
      ],
      "text/plain": [
       "      grade        term\n",
       "0         B   36 months\n",
       "1         C   60 months\n",
       "2         C   36 months\n",
       "3         C   36 months\n",
       "4         B   60 months\n",
       "...     ...         ...\n",
       "42537     A   36 months\n",
       "42538   NaN         NaN\n",
       "42539   NaN         NaN\n",
       "42540   NaN         NaN\n",
       "42541   NaN         NaN\n",
       "\n",
       "[42542 rows x 2 columns]"
      ]
     },
     "execution_count": 22,
     "metadata": {},
     "output_type": "execute_result"
    }
   ],
   "source": [
    "df.head()\n",
    "df[[\"grade\",\"term\"]]"
   ]
  },
  {
   "cell_type": "code",
   "execution_count": 20,
   "metadata": {},
   "outputs": [],
   "source": [
    "df.to_sql(\"Njau\",conn)"
   ]
  },
  {
   "cell_type": "markdown",
   "metadata": {},
   "source": [
    "# Quering the database\n",
    "SELECT column name\n",
    "FROM  name of the table\n",
    "GROUPBY # helps do groupby\n",
    "LIMIT - specifies how many rows to return"
   ]
  },
  {
   "cell_type": "code",
   "execution_count": 23,
   "metadata": {},
   "outputs": [
    {
     "data": {
      "text/plain": [
       "[('B', ' 36 months'),\n",
       " ('C', ' 60 months'),\n",
       " ('C', ' 36 months'),\n",
       " ('C', ' 36 months'),\n",
       " ('B', ' 60 months')]"
      ]
     },
     "execution_count": 23,
     "metadata": {},
     "output_type": "execute_result"
    }
   ],
   "source": [
    "conn.execute(\"select grade,term from Njau limit 5\").fetchall()"
   ]
  },
  {
   "cell_type": "code",
   "execution_count": 25,
   "metadata": {},
   "outputs": [
    {
     "name": "stdout",
     "output_type": "stream",
     "text": [
      "2\n"
     ]
    }
   ],
   "source": [
    "tables  = conn.execute(\"select * from sqlite_master\").fetchall();print(len(tables))"
   ]
  },
  {
   "cell_type": "code",
   "execution_count": 40,
   "metadata": {},
   "outputs": [
    {
     "data": {
      "text/html": [
       "<div>\n",
       "<style scoped>\n",
       "    .dataframe tbody tr th:only-of-type {\n",
       "        vertical-align: middle;\n",
       "    }\n",
       "\n",
       "    .dataframe tbody tr th {\n",
       "        vertical-align: top;\n",
       "    }\n",
       "\n",
       "    .dataframe thead th {\n",
       "        text-align: right;\n",
       "    }\n",
       "</style>\n",
       "<table border=\"1\" class=\"dataframe\">\n",
       "  <thead>\n",
       "    <tr style=\"text-align: right;\">\n",
       "      <th></th>\n",
       "      <th>Names</th>\n",
       "      <th>Age</th>\n",
       "      <th>Gender</th>\n",
       "    </tr>\n",
       "  </thead>\n",
       "  <tbody>\n",
       "    <tr>\n",
       "      <th>0</th>\n",
       "      <td>John</td>\n",
       "      <td>23</td>\n",
       "      <td>M</td>\n",
       "    </tr>\n",
       "    <tr>\n",
       "      <th>1</th>\n",
       "      <td>james</td>\n",
       "      <td>78</td>\n",
       "      <td>F</td>\n",
       "    </tr>\n",
       "    <tr>\n",
       "      <th>2</th>\n",
       "      <td>jim</td>\n",
       "      <td>11</td>\n",
       "      <td>F</td>\n",
       "    </tr>\n",
       "    <tr>\n",
       "      <th>3</th>\n",
       "      <td>jane</td>\n",
       "      <td>10</td>\n",
       "      <td>M</td>\n",
       "    </tr>\n",
       "  </tbody>\n",
       "</table>\n",
       "</div>"
      ],
      "text/plain": [
       "   Names Age Gender\n",
       "0   John  23      M\n",
       "1  james  78      F\n",
       "2    jim  11      F\n",
       "3   jane  10      M"
      ]
     },
     "execution_count": 40,
     "metadata": {},
     "output_type": "execute_result"
    }
   ],
   "source": [
    "import numpy as np\n",
    "j = pd.DataFrame(np.array([[\"John\",\"james\",\"jim\",\"jane\"],\n",
    "                          [23,78,11,10],\n",
    "                          [\"M\",\"F\",\"F\",\"M\"]]).T,columns = [\"Names\",\"Age\",\"Gender\"])\n",
    "j.to_sql(\"Names1\",conn)\n",
    "j"
   ]
  },
  {
   "cell_type": "code",
   "execution_count": 41,
   "metadata": {},
   "outputs": [
    {
     "data": {
      "text/plain": [
       "[('table',\n",
       "  'Njau',\n",
       "  'Njau',\n",
       "  2,\n",
       "  'CREATE TABLE \"Njau\" (\\n\"index\" INTEGER,\\n  \"id\" TEXT,\\n  \"member_id\" REAL,\\n  \"loan_amnt\" REAL,\\n  \"funded_amnt\" REAL,\\n  \"funded_amnt_inv\" REAL,\\n  \"term\" TEXT,\\n  \"int_rate\" TEXT,\\n  \"installment\" REAL,\\n  \"grade\" TEXT,\\n  \"sub_grade\" TEXT,\\n  \"emp_title\" TEXT,\\n  \"emp_length\" TEXT,\\n  \"home_ownership\" TEXT,\\n  \"annual_inc\" REAL,\\n  \"verification_status\" TEXT,\\n  \"issue_d\" TEXT,\\n  \"loan_status\" TEXT,\\n  \"pymnt_plan\" TEXT,\\n  \"url\" REAL,\\n  \"desc\" TEXT,\\n  \"purpose\" TEXT,\\n  \"title\" TEXT,\\n  \"zip_code\" TEXT,\\n  \"addr_state\" TEXT,\\n  \"dti\" REAL,\\n  \"delinq_2yrs\" REAL,\\n  \"earliest_cr_line\" TEXT,\\n  \"inq_last_6mths\" REAL,\\n  \"mths_since_last_delinq\" REAL,\\n  \"mths_since_last_record\" REAL,\\n  \"open_acc\" REAL,\\n  \"pub_rec\" REAL,\\n  \"revol_bal\" REAL,\\n  \"revol_util\" TEXT,\\n  \"total_acc\" REAL,\\n  \"initial_list_status\" TEXT,\\n  \"out_prncp\" REAL,\\n  \"out_prncp_inv\" REAL,\\n  \"total_pymnt\" REAL,\\n  \"total_pymnt_inv\" REAL,\\n  \"total_rec_prncp\" REAL,\\n  \"total_rec_int\" REAL,\\n  \"total_rec_late_fee\" REAL,\\n  \"recoveries\" REAL,\\n  \"collection_recovery_fee\" REAL,\\n  \"last_pymnt_d\" TEXT,\\n  \"last_pymnt_amnt\" REAL,\\n  \"next_pymnt_d\" TEXT,\\n  \"last_credit_pull_d\" TEXT,\\n  \"collections_12_mths_ex_med\" REAL,\\n  \"mths_since_last_major_derog\" REAL,\\n  \"policy_code\" REAL,\\n  \"application_type\" TEXT,\\n  \"annual_inc_joint\" REAL,\\n  \"dti_joint\" REAL,\\n  \"verification_status_joint\" REAL,\\n  \"acc_now_delinq\" REAL,\\n  \"tot_coll_amt\" REAL,\\n  \"tot_cur_bal\" REAL,\\n  \"open_acc_6m\" REAL,\\n  \"open_act_il\" REAL,\\n  \"open_il_12m\" REAL,\\n  \"open_il_24m\" REAL,\\n  \"mths_since_rcnt_il\" REAL,\\n  \"total_bal_il\" REAL,\\n  \"il_util\" REAL,\\n  \"open_rv_12m\" REAL,\\n  \"open_rv_24m\" REAL,\\n  \"max_bal_bc\" REAL,\\n  \"all_util\" REAL,\\n  \"total_rev_hi_lim\" REAL,\\n  \"inq_fi\" REAL,\\n  \"total_cu_tl\" REAL,\\n  \"inq_last_12m\" REAL,\\n  \"acc_open_past_24mths\" REAL,\\n  \"avg_cur_bal\" REAL,\\n  \"bc_open_to_buy\" REAL,\\n  \"bc_util\" REAL,\\n  \"chargeoff_within_12_mths\" REAL,\\n  \"delinq_amnt\" REAL,\\n  \"mo_sin_old_il_acct\" REAL,\\n  \"mo_sin_old_rev_tl_op\" REAL,\\n  \"mo_sin_rcnt_rev_tl_op\" REAL,\\n  \"mo_sin_rcnt_tl\" REAL,\\n  \"mort_acc\" REAL,\\n  \"mths_since_recent_bc\" REAL,\\n  \"mths_since_recent_bc_dlq\" REAL,\\n  \"mths_since_recent_inq\" REAL,\\n  \"mths_since_recent_revol_delinq\" REAL,\\n  \"num_accts_ever_120_pd\" REAL,\\n  \"num_actv_bc_tl\" REAL,\\n  \"num_actv_rev_tl\" REAL,\\n  \"num_bc_sats\" REAL,\\n  \"num_bc_tl\" REAL,\\n  \"num_il_tl\" REAL,\\n  \"num_op_rev_tl\" REAL,\\n  \"num_rev_accts\" REAL,\\n  \"num_rev_tl_bal_gt_0\" REAL,\\n  \"num_sats\" REAL,\\n  \"num_tl_120dpd_2m\" REAL,\\n  \"num_tl_30dpd\" REAL,\\n  \"num_tl_90g_dpd_24m\" REAL,\\n  \"num_tl_op_past_12m\" REAL,\\n  \"pct_tl_nvr_dlq\" REAL,\\n  \"percent_bc_gt_75\" REAL,\\n  \"pub_rec_bankruptcies\" REAL,\\n  \"tax_liens\" REAL,\\n  \"tot_hi_cred_lim\" REAL,\\n  \"total_bal_ex_mort\" REAL,\\n  \"total_bc_limit\" REAL,\\n  \"total_il_high_credit_limit\" REAL,\\n  \"revol_bal_joint\" REAL,\\n  \"sec_app_earliest_cr_line\" REAL,\\n  \"sec_app_inq_last_6mths\" REAL,\\n  \"sec_app_mort_acc\" REAL,\\n  \"sec_app_open_acc\" REAL,\\n  \"sec_app_revol_util\" REAL,\\n  \"sec_app_open_act_il\" REAL,\\n  \"sec_app_num_rev_accts\" REAL,\\n  \"sec_app_chargeoff_within_12_mths\" REAL,\\n  \"sec_app_collections_12_mths_ex_med\" REAL,\\n  \"sec_app_mths_since_last_major_derog\" REAL,\\n  \"hardship_flag\" TEXT,\\n  \"hardship_type\" REAL,\\n  \"hardship_reason\" REAL,\\n  \"hardship_status\" REAL,\\n  \"deferral_term\" REAL,\\n  \"hardship_amount\" REAL,\\n  \"hardship_start_date\" REAL,\\n  \"hardship_end_date\" REAL,\\n  \"payment_plan_start_date\" REAL,\\n  \"hardship_length\" REAL,\\n  \"hardship_dpd\" REAL,\\n  \"hardship_loan_status\" REAL,\\n  \"orig_projected_additional_accrued_interest\" REAL,\\n  \"hardship_payoff_balance_amount\" REAL,\\n  \"hardship_last_payment_amount\" REAL,\\n  \"debt_settlement_flag\" TEXT,\\n  \"debt_settlement_flag_date\" TEXT,\\n  \"settlement_status\" TEXT,\\n  \"settlement_date\" TEXT,\\n  \"settlement_amount\" REAL,\\n  \"settlement_percentage\" REAL,\\n  \"settlement_term\" REAL\\n)'),\n",
       " ('index',\n",
       "  'ix_Njau_index',\n",
       "  'Njau',\n",
       "  3,\n",
       "  'CREATE INDEX \"ix_Njau_index\"ON \"Njau\" (\"index\")'),\n",
       " ('table',\n",
       "  'Names',\n",
       "  'Names',\n",
       "  8017,\n",
       "  'CREATE TABLE \"Names\" (\\n\"index\" INTEGER,\\n  \"Names\" TEXT,\\n  \"Age\" TEXT\\n)'),\n",
       " ('index',\n",
       "  'ix_Names_index',\n",
       "  'Names',\n",
       "  8018,\n",
       "  'CREATE INDEX \"ix_Names_index\"ON \"Names\" (\"index\")'),\n",
       " ('table',\n",
       "  'Names1',\n",
       "  'Names1',\n",
       "  8020,\n",
       "  'CREATE TABLE \"Names1\" (\\n\"index\" INTEGER,\\n  \"Names\" TEXT,\\n  \"Age\" TEXT,\\n  \"Gender\" TEXT\\n)'),\n",
       " ('index',\n",
       "  'ix_Names1_index',\n",
       "  'Names1',\n",
       "  8022,\n",
       "  'CREATE INDEX \"ix_Names1_index\"ON \"Names1\" (\"index\")')]"
      ]
     },
     "execution_count": 41,
     "metadata": {},
     "output_type": "execute_result"
    }
   ],
   "source": [
    "conn.execute(\"select * from sqlite_master\").fetchall()"
   ]
  },
  {
   "cell_type": "code",
   "execution_count": 45,
   "metadata": {},
   "outputs": [
    {
     "data": {
      "text/plain": [
       "[(0, 'John', '23', 'M'),\n",
       " (1, 'james', '78', 'F'),\n",
       " (2, 'jim', '11', 'F'),\n",
       " (3, 'jane', '10', 'M')]"
      ]
     },
     "execution_count": 45,
     "metadata": {},
     "output_type": "execute_result"
    }
   ],
   "source": [
    "conn.execute(\"select * from names1\").fetchall()"
   ]
  },
  {
   "cell_type": "code",
   "execution_count": 54,
   "metadata": {},
   "outputs": [
    {
     "data": {
      "text/plain": [
       "[('F', 44.5), ('M', 16.5)]"
      ]
     },
     "execution_count": 54,
     "metadata": {},
     "output_type": "execute_result"
    }
   ],
   "source": [
    "conn.execute(\"select gender,AVG(age) from names1 group by gender ORDER BY AVG(age) DESC\").fetchall()"
   ]
  },
  {
   "cell_type": "code",
   "execution_count": null,
   "metadata": {},
   "outputs": [],
   "source": []
  }
 ],
 "metadata": {
  "kernelspec": {
   "display_name": "Python 3",
   "language": "python",
   "name": "python3"
  },
  "language_info": {
   "codemirror_mode": {
    "name": "ipython",
    "version": 3
   },
   "file_extension": ".py",
   "mimetype": "text/x-python",
   "name": "python",
   "nbconvert_exporter": "python",
   "pygments_lexer": "ipython3",
   "version": "3.8.5"
  }
 },
 "nbformat": 4,
 "nbformat_minor": 4
}
