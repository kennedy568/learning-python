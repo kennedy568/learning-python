{
 "cells": [
  {
   "cell_type": "markdown",
   "metadata": {},
   "source": [
    "FUNTIONS"
   ]
  },
  {
   "cell_type": "code",
   "execution_count": 12,
   "metadata": {},
   "outputs": [],
   "source": [
    "def BMi(height,weight):\n",
    "    bmi=(weight/(height**2))\n",
    "    return bmi\n",
    "    "
   ]
  },
  {
   "cell_type": "code",
   "execution_count": 13,
   "metadata": {},
   "outputs": [
    {
     "name": "stdout",
     "output_type": "stream",
     "text": [
      "21.64532402096181\n"
     ]
    }
   ],
   "source": [
    "\n",
    "print(BMi(1.79832,70))"
   ]
  },
  {
   "cell_type": "code",
   "execution_count": 11,
   "metadata": {},
   "outputs": [
    {
     "name": "stdout",
     "output_type": "stream",
     "text": [
      "speed in miles / hr is  86.996\n",
      "speed in km / hr is  120.7005\n"
     ]
    }
   ],
   "source": [
    "#2.A\n",
    "def kmphTOmph(kmph): \n",
    "    mph = 0.6214 * kmph \n",
    "    return mph  \n",
    "  \n",
    "    \n",
    "def mphTOkmph(mph): \n",
    "    kmph =(float)(mph * 1.60934) \n",
    "    return kmph \n",
    "  \n",
    "kmph = 140\n",
    "mph = 75\n",
    "print (\"speed in miles / hr is \", kmphTOmph(kmph) ) \n",
    "  \n",
    "print (\"speed in km / hr is \", mphTOkmph(mph))  \n",
    "    \n",
    "    \n",
    "    "
   ]
  },
  {
   "cell_type": "code",
   "execution_count": 18,
   "metadata": {},
   "outputs": [
    {
     "name": "stdout",
     "output_type": "stream",
     "text": [
      "speed in miles / hr is  86.996\n",
      "speed in km / hr is  120.7005\n",
      "pounds equals to 22.046\n",
      "kilo  equal to 10.0\n",
      "centimeters  equal to 645.16\n",
      "inches equal to 253.99999999999997\n"
     ]
    }
   ],
   "source": [
    "#2.B\n",
    "\n",
    "def kmphTOmph(kmph): \n",
    "    mph = 0.6214 * kmph \n",
    "    return mph  \n",
    "  \n",
    "    \n",
    "def mphTOkmph(mph): \n",
    "    kmph =(float)(mph * 1.60934) \n",
    "    return kmph \n",
    "\n",
    "def kilo_pound(kilo):\n",
    "    pound = 2.2046* kilo\n",
    "    return pound\n",
    "\n",
    "def pound_to_kilo(pound):\n",
    "    kilo = pound/2.2046\n",
    "    return kilo\n",
    "\n",
    "def inches_to_centimeters(inches):\n",
    "    centimeters = inches*2.54\n",
    "    return centimeters\n",
    "\n",
    "def centimeters_to_inches(centimeters):\n",
    "    inches = centimeters/2.54\n",
    "    return inches\n",
    "  \n",
    "kmph = 140\n",
    "mph = 75\n",
    "kilo = 10\n",
    "pound = 22.046\n",
    "inches = 254\n",
    "centimeters = 645.16\n",
    "\n",
    "\n",
    "print (\"speed in miles / hr is \", kmphTOmph(kmph) ) \n",
    "  \n",
    "print (\"speed in km / hr is \", mphTOkmph(mph))  \n",
    "\n",
    "print (\"pounds equals to\", kilo_pound(kilo))\n",
    "\n",
    "print (\"kilo  equal to\",pound_to_kilo(pound))\n",
    "\n",
    "print (\"centimeters  equal to\",inches_to_centimeters(inches))\n",
    "\n",
    "print (\"inches equal to\",centimeters_to_inches(centimeters))\n"
   ]
  },
  {
   "cell_type": "code",
   "execution_count": null,
   "metadata": {},
   "outputs": [],
   "source": []
  }
 ],
 "metadata": {
  "kernelspec": {
   "display_name": "Python 3",
   "language": "python",
   "name": "python3"
  },
  "language_info": {
   "codemirror_mode": {
    "name": "ipython",
    "version": 3
   },
   "file_extension": ".py",
   "mimetype": "text/x-python",
   "name": "python",
   "nbconvert_exporter": "python",
   "pygments_lexer": "ipython3",
   "version": "3.7.6"
  }
 },
 "nbformat": 4,
 "nbformat_minor": 4
}
