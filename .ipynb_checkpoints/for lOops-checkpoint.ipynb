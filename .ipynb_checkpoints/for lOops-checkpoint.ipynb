{
 "cells": [
  {
   "cell_type": "code",
   "execution_count": 5,
   "metadata": {},
   "outputs": [
    {
     "name": "stdout",
     "output_type": "stream",
     "text": [
      "12\n",
      "85\n",
      "46\n",
      "54\n",
      "32\n"
     ]
    }
   ],
   "source": [
    "ages = [12,85,46,54,12000,32]\n",
    "for age in ages:\n",
    "    if len(str(age))>2:\n",
    "        pass\n",
    "    else:\n",
    "        print(age)"
   ]
  },
  {
   "cell_type": "code",
   "execution_count": 6,
   "metadata": {},
   "outputs": [
    {
     "name": "stdout",
     "output_type": "stream",
     "text": [
      "12\n",
      "85\n",
      "46\n",
      "54\n",
      "32\n"
     ]
    }
   ],
   "source": [
    "for age in ages:\n",
    "    if age>100:\n",
    "        pass\n",
    "    else:\n",
    "        print(age)"
   ]
  },
  {
   "cell_type": "code",
   "execution_count": 10,
   "metadata": {},
   "outputs": [
    {
     "name": "stdout",
     "output_type": "stream",
     "text": [
      "kamau ni nugu\n",
      "hallo njau\n",
      "hallo kennedy\n",
      "hallo john\n",
      "hallo mumbi\n"
     ]
    }
   ],
   "source": [
    "names = [\"kamau\", \"njau\", \"kennedy\", \"john\" , \"mumbi\"]\n",
    "\n",
    "for name in names:\n",
    "    \n",
    "    if name == \"kamau\":\n",
    "        print(\"kamau ni nugu\")\n",
    "    else:\n",
    "        print(\"hallo {}\".format(name))"
   ]
  },
  {
   "cell_type": "code",
   "execution_count": 13,
   "metadata": {},
   "outputs": [],
   "source": [
    "import random\n",
    "\n",
    "numbers = [random.random()*100 for i in range(100)]"
   ]
  },
  {
   "cell_type": "markdown",
   "metadata": {},
   "source": []
  },
  {
   "cell_type": "raw",
   "metadata": {},
   "source": []
  }
 ],
 "metadata": {
  "kernelspec": {
   "display_name": "Python 3",
   "language": "python",
   "name": "python3"
  },
  "language_info": {
   "codemirror_mode": {
    "name": "ipython",
    "version": 3
   },
   "file_extension": ".py",
   "mimetype": "text/x-python",
   "name": "python",
   "nbconvert_exporter": "python",
   "pygments_lexer": "ipython3",
   "version": "3.7.6"
  }
 },
 "nbformat": 4,
 "nbformat_minor": 4
}
