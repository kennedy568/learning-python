{
 "cells": [
  {
   "cell_type": "code",
   "execution_count": 5,
   "metadata": {
    "colab": {
     "base_uri": "https://localhost:8080/"
    },
    "id": "MHgqW2cO8H7h",
    "outputId": "26d01e13-663f-4f44-cb1e-71cde9916b9b"
   },
   "outputs": [
    {
     "data": {
      "text/plain": [
       "array([ 264, 1240, 1649, 1177,  693])"
      ]
     },
     "execution_count": 5,
     "metadata": {},
     "output_type": "execute_result"
    }
   ],
   "source": [
    "import numpy as np\n",
    "import pandas as pd\n",
    "\n",
    "numbers = np.random.randint(0,2000,200)\n",
    "numbers[:5]"
   ]
  },
  {
   "cell_type": "code",
   "execution_count": 6,
   "metadata": {
    "id": "6IOwOfHU8inl"
   },
   "outputs": [],
   "source": [
    "# write a function  that takes in a list and returns std,mean,median,min,max\n",
    "def describer(n):\n",
    "  dx=pd.DataFrame(np.random.randint(100,1560,300))\n",
    "  return dx.describe().reset_index().iloc[[1,2,3,7,5],:]"
   ]
  },
  {
   "cell_type": "code",
   "execution_count": 7,
   "metadata": {
    "id": "MKMGyiOi-NED"
   },
   "outputs": [],
   "source": [
    "def describer(n):\n",
    "  nump = np.array(n)\n",
    "  return(nump.mean(),nump.std(),nump.max())"
   ]
  },
  {
   "cell_type": "code",
   "execution_count": 8,
   "metadata": {
    "colab": {
     "base_uri": "https://localhost:8080/"
    },
    "id": "3r_YzSdt-U8K",
    "outputId": "f913bdcc-1413-44b7-f9b1-7a5ae13240a9"
   },
   "outputs": [
    {
     "name": "stdout",
     "output_type": "stream",
     "text": [
      "959.63\n"
     ]
    }
   ],
   "source": [
    "mean,std,max = describer(numbers)\n",
    "print(mean)"
   ]
  },
  {
   "cell_type": "code",
   "execution_count": 10,
   "metadata": {
    "colab": {
     "base_uri": "https://localhost:8080/"
    },
    "id": "UT2wbnSxBES7",
    "outputId": "d3298e14-5c09-4c9f-a58d-b73de7b5fff2"
   },
   "outputs": [
    {
     "ename": "AttributeError",
     "evalue": "'tuple' object has no attribute 'iloc'",
     "output_type": "error",
     "traceback": [
      "\u001b[0;31m---------------------------------------------------------------------------\u001b[0m",
      "\u001b[0;31mAttributeError\u001b[0m                            Traceback (most recent call last)",
      "\u001b[0;32m<ipython-input-10-aa5d49c06913>\u001b[0m in \u001b[0;36m<module>\u001b[0;34m\u001b[0m\n\u001b[1;32m      1\u001b[0m \u001b[0mj\u001b[0m \u001b[0;34m=\u001b[0m \u001b[0mdescriber\u001b[0m\u001b[0;34m(\u001b[0m\u001b[0mnumbers\u001b[0m\u001b[0;34m)\u001b[0m\u001b[0;34m\u001b[0m\u001b[0;34m\u001b[0m\u001b[0m\n\u001b[0;32m----> 2\u001b[0;31m \u001b[0mj\u001b[0m\u001b[0;34m.\u001b[0m\u001b[0miloc\u001b[0m\u001b[0;34m[\u001b[0m\u001b[0;36m2\u001b[0m\u001b[0;34m,\u001b[0m\u001b[0;34m:\u001b[0m\u001b[0;34m]\u001b[0m\u001b[0;34m[\u001b[0m\u001b[0;36m0\u001b[0m\u001b[0;34m]\u001b[0m\u001b[0;34m\u001b[0m\u001b[0;34m\u001b[0m\u001b[0m\n\u001b[0m",
      "\u001b[0;31mAttributeError\u001b[0m: 'tuple' object has no attribute 'iloc'"
     ]
    }
   ],
   "source": [
    "j = describer(numbers)\n",
    "j.iloc[2,:][0]"
   ]
  },
  {
   "cell_type": "code",
   "execution_count": null,
   "metadata": {
    "colab": {
     "base_uri": "https://localhost:8080/",
     "height": 173
    },
    "id": "oSZ7MHInBedz",
    "outputId": "097f03ca-36c1-4496-b4be-f64e98af0cae"
   },
   "outputs": [
    {
     "data": {
      "text/html": [
       "<div>\n",
       "<style scoped>\n",
       "    .dataframe tbody tr th:only-of-type {\n",
       "        vertical-align: middle;\n",
       "    }\n",
       "\n",
       "    .dataframe tbody tr th {\n",
       "        vertical-align: top;\n",
       "    }\n",
       "\n",
       "    .dataframe thead th {\n",
       "        text-align: right;\n",
       "    }\n",
       "</style>\n",
       "<table border=\"1\" class=\"dataframe\">\n",
       "  <thead>\n",
       "    <tr style=\"text-align: right;\">\n",
       "      <th></th>\n",
       "      <th>c1</th>\n",
       "      <th>c2</th>\n",
       "      <th>c3</th>\n",
       "      <th>Toss</th>\n",
       "      <th>Thende</th>\n",
       "    </tr>\n",
       "  </thead>\n",
       "  <tbody>\n",
       "    <tr>\n",
       "      <th>0</th>\n",
       "      <td>678</td>\n",
       "      <td>462</td>\n",
       "      <td>341</td>\n",
       "      <td>head</td>\n",
       "      <td>hole</td>\n",
       "    </tr>\n",
       "    <tr>\n",
       "      <th>1</th>\n",
       "      <td>777</td>\n",
       "      <td>822</td>\n",
       "      <td>998</td>\n",
       "      <td>head</td>\n",
       "      <td>hole</td>\n",
       "    </tr>\n",
       "    <tr>\n",
       "      <th>2</th>\n",
       "      <td>136</td>\n",
       "      <td>465</td>\n",
       "      <td>442</td>\n",
       "      <td>head</td>\n",
       "      <td>Ass</td>\n",
       "    </tr>\n",
       "    <tr>\n",
       "      <th>3</th>\n",
       "      <td>888</td>\n",
       "      <td>994</td>\n",
       "      <td>656</td>\n",
       "      <td>head</td>\n",
       "      <td>wipe</td>\n",
       "    </tr>\n",
       "  </tbody>\n",
       "</table>\n",
       "</div>"
      ],
      "text/plain": [
       "    c1   c2   c3  Toss Thende\n",
       "0  678  462  341  head   hole\n",
       "1  777  822  998  head   hole\n",
       "2  136  465  442  head    Ass\n",
       "3  888  994  656  head   wipe"
      ]
     },
     "execution_count": 83,
     "metadata": {
      "tags": []
     },
     "output_type": "execute_result"
    }
   ],
   "source": [
    "dx = pd.DataFrame(np.random.randint(100,1000,(200,3)),columns = ['c1','c2','c3'])\n",
    "dx['Toss'] = np.random.choice(['head','head','tail'],200)\n",
    "dx['Thende'] = np.random.choice(['Ass','hole','wipe'],200)\n",
    "dx.head(4)"
   ]
  },
  {
   "cell_type": "code",
   "execution_count": null,
   "metadata": {
    "id": "rDQZZLzmCgVt"
   },
   "outputs": [],
   "source": [
    "def subsetter(s,n):\n",
    "  return s.iloc[0:n,:]"
   ]
  },
  {
   "cell_type": "code",
   "execution_count": null,
   "metadata": {
    "colab": {
     "base_uri": "https://localhost:8080/",
     "height": 173
    },
    "id": "em3xAXxSCEDy",
    "outputId": "fa1186e2-5141-4696-d3de-d3da978e293e"
   },
   "outputs": [
    {
     "data": {
      "text/html": [
       "<div>\n",
       "<style scoped>\n",
       "    .dataframe tbody tr th:only-of-type {\n",
       "        vertical-align: middle;\n",
       "    }\n",
       "\n",
       "    .dataframe tbody tr th {\n",
       "        vertical-align: top;\n",
       "    }\n",
       "\n",
       "    .dataframe thead th {\n",
       "        text-align: right;\n",
       "    }\n",
       "</style>\n",
       "<table border=\"1\" class=\"dataframe\">\n",
       "  <thead>\n",
       "    <tr style=\"text-align: right;\">\n",
       "      <th></th>\n",
       "      <th>c1</th>\n",
       "      <th>c2</th>\n",
       "      <th>c3</th>\n",
       "    </tr>\n",
       "  </thead>\n",
       "  <tbody>\n",
       "    <tr>\n",
       "      <th>0</th>\n",
       "      <td>545</td>\n",
       "      <td>447</td>\n",
       "      <td>730</td>\n",
       "    </tr>\n",
       "    <tr>\n",
       "      <th>1</th>\n",
       "      <td>935</td>\n",
       "      <td>301</td>\n",
       "      <td>580</td>\n",
       "    </tr>\n",
       "    <tr>\n",
       "      <th>2</th>\n",
       "      <td>936</td>\n",
       "      <td>921</td>\n",
       "      <td>590</td>\n",
       "    </tr>\n",
       "    <tr>\n",
       "      <th>3</th>\n",
       "      <td>340</td>\n",
       "      <td>850</td>\n",
       "      <td>312</td>\n",
       "    </tr>\n",
       "  </tbody>\n",
       "</table>\n",
       "</div>"
      ],
      "text/plain": [
       "    c1   c2   c3\n",
       "0  545  447  730\n",
       "1  935  301  580\n",
       "2  936  921  590\n",
       "3  340  850  312"
      ]
     },
     "execution_count": 54,
     "metadata": {
      "tags": []
     },
     "output_type": "execute_result"
    }
   ],
   "source": [
    "subsetter(dx,4)"
   ]
  },
  {
   "cell_type": "code",
   "execution_count": null,
   "metadata": {
    "colab": {
     "base_uri": "https://localhost:8080/",
     "height": 419
    },
    "id": "vtxITe76EQrI",
    "outputId": "28596a8f-b6d9-431f-eaff-4b2d6ab00b81"
   },
   "outputs": [
    {
     "data": {
      "text/html": [
       "<div>\n",
       "<style scoped>\n",
       "    .dataframe tbody tr th:only-of-type {\n",
       "        vertical-align: middle;\n",
       "    }\n",
       "\n",
       "    .dataframe tbody tr th {\n",
       "        vertical-align: top;\n",
       "    }\n",
       "\n",
       "    .dataframe thead th {\n",
       "        text-align: right;\n",
       "    }\n",
       "</style>\n",
       "<table border=\"1\" class=\"dataframe\">\n",
       "  <thead>\n",
       "    <tr style=\"text-align: right;\">\n",
       "      <th></th>\n",
       "      <th>c1</th>\n",
       "      <th>c2</th>\n",
       "      <th>c3</th>\n",
       "    </tr>\n",
       "  </thead>\n",
       "  <tbody>\n",
       "    <tr>\n",
       "      <th>0</th>\n",
       "      <td>545</td>\n",
       "      <td>447</td>\n",
       "      <td>730</td>\n",
       "    </tr>\n",
       "    <tr>\n",
       "      <th>1</th>\n",
       "      <td>935</td>\n",
       "      <td>301</td>\n",
       "      <td>580</td>\n",
       "    </tr>\n",
       "    <tr>\n",
       "      <th>2</th>\n",
       "      <td>936</td>\n",
       "      <td>921</td>\n",
       "      <td>590</td>\n",
       "    </tr>\n",
       "    <tr>\n",
       "      <th>3</th>\n",
       "      <td>340</td>\n",
       "      <td>850</td>\n",
       "      <td>312</td>\n",
       "    </tr>\n",
       "    <tr>\n",
       "      <th>4</th>\n",
       "      <td>975</td>\n",
       "      <td>463</td>\n",
       "      <td>309</td>\n",
       "    </tr>\n",
       "    <tr>\n",
       "      <th>...</th>\n",
       "      <td>...</td>\n",
       "      <td>...</td>\n",
       "      <td>...</td>\n",
       "    </tr>\n",
       "    <tr>\n",
       "      <th>195</th>\n",
       "      <td>957</td>\n",
       "      <td>204</td>\n",
       "      <td>883</td>\n",
       "    </tr>\n",
       "    <tr>\n",
       "      <th>196</th>\n",
       "      <td>498</td>\n",
       "      <td>498</td>\n",
       "      <td>379</td>\n",
       "    </tr>\n",
       "    <tr>\n",
       "      <th>197</th>\n",
       "      <td>283</td>\n",
       "      <td>762</td>\n",
       "      <td>698</td>\n",
       "    </tr>\n",
       "    <tr>\n",
       "      <th>198</th>\n",
       "      <td>947</td>\n",
       "      <td>232</td>\n",
       "      <td>379</td>\n",
       "    </tr>\n",
       "    <tr>\n",
       "      <th>199</th>\n",
       "      <td>180</td>\n",
       "      <td>696</td>\n",
       "      <td>671</td>\n",
       "    </tr>\n",
       "  </tbody>\n",
       "</table>\n",
       "<p>200 rows × 3 columns</p>\n",
       "</div>"
      ],
      "text/plain": [
       "      c1   c2   c3\n",
       "0    545  447  730\n",
       "1    935  301  580\n",
       "2    936  921  590\n",
       "3    340  850  312\n",
       "4    975  463  309\n",
       "..   ...  ...  ...\n",
       "195  957  204  883\n",
       "196  498  498  379\n",
       "197  283  762  698\n",
       "198  947  232  379\n",
       "199  180  696  671\n",
       "\n",
       "[200 rows x 3 columns]"
      ]
     },
     "execution_count": 55,
     "metadata": {
      "tags": []
     },
     "output_type": "execute_result"
    }
   ],
   "source": [
    "dx.fillna(0)"
   ]
  },
  {
   "cell_type": "code",
   "execution_count": null,
   "metadata": {
    "id": "3-rEe192FiM5"
   },
   "outputs": [],
   "source": [
    "# write a function that removes null values (nuller)\n",
    "# create another function that prints summary stats\n",
    "# write a function that creates histograms if columns are numeric"
   ]
  },
  {
   "cell_type": "code",
   "execution_count": null,
   "metadata": {
    "id": "y3nqwUpMG7Zn"
   },
   "outputs": [],
   "source": [
    "def nuller(n):\n",
    "  return n.fillna(0)\n",
    "\n"
   ]
  },
  {
   "cell_type": "code",
   "execution_count": null,
   "metadata": {
    "colab": {
     "base_uri": "https://localhost:8080/"
    },
    "id": "hlbx05ijHV9j",
    "outputId": "a1c1bfca-98b7-4662-9796-94114bde8d78"
   },
   "outputs": [
    {
     "name": "stdout",
     "output_type": "stream",
     "text": [
      "               c1          c2          c3\n",
      "count  200.000000  200.000000  200.000000\n",
      "mean   563.350000  532.725000  570.600000\n",
      "std    260.404165  254.001265  266.285674\n",
      "min    106.000000  103.000000  100.000000\n",
      "25%    346.250000  316.000000  354.750000\n",
      "50%    583.500000  518.000000  564.500000\n",
      "75%    797.250000  741.000000  817.000000\n",
      "max    998.000000  979.000000  999.000000\n"
     ]
    }
   ],
   "source": [
    "def summer(s):\n",
    "  print(s.describe())\n",
    "summer(dx)"
   ]
  },
  {
   "cell_type": "code",
   "execution_count": null,
   "metadata": {
    "colab": {
     "base_uri": "https://localhost:8080/",
     "height": 282
    },
    "id": "gVYv7nw3IF_Z",
    "outputId": "a8bdb937-aabe-4d7d-93d0-738e93ae9423"
   },
   "outputs": [
    {
     "name": "stdout",
     "output_type": "stream",
     "text": [
      "AxesSubplot(0.125,0.125;0.775x0.755)\n"
     ]
    },
    {
     "data": {
      "image/png": "[encoded data removed]",
      "text/plain": [
       "<Figure size 432x288 with 1 Axes>"
      ]
     },
     "metadata": {
      "needs_background": "light",
      "tags": []
     },
     "output_type": "display_data"
    }
   ],
   "source": [
    "def visuals(v):\n",
    "  print(v.boxplot())\n",
    "visuals(dx)"
   ]
  },
  {
   "cell_type": "code",
   "execution_count": null,
   "metadata": {
    "colab": {
     "base_uri": "https://localhost:8080/",
     "height": 299
    },
    "id": "cTwc8TvJI_0h",
    "outputId": "6ae469cc-99ef-4e08-db84-d53d847e1675"
   },
   "outputs": [
    {
     "name": "stdout",
     "output_type": "stream",
     "text": [
      "AxesSubplot(0.260833,0.125;0.503333x0.755)\n",
      "AxesSubplot(0.260833,0.125;0.503333x0.755)\n"
     ]
    },
    {
     "data": {
      "image/png": "[encoded data removed]",
      "text/plain": [
       "<Figure size 432x288 with 1 Axes>"
      ]
     },
     "metadata": {
      "tags": []
     },
     "output_type": "display_data"
    }
   ],
   "source": [
    "def non_numeric(dx):\n",
    "  non = dx.select_dtypes(include = 'object')\n",
    "  for i in range(len(non.columns)):\n",
    "    x = non.iloc[:,i]\n",
    "    print(x.value_counts().plot(kind = 'pie',title = 'a pie chart of:{}'.format(non.columns[i])))\n",
    "non_numeric(dx)\n"
   ]
  },
  {
   "cell_type": "code",
   "execution_count": null,
   "metadata": {
    "id": "x_fn4Gd7KH60"
   },
   "outputs": [],
   "source": [
    "def god(df):\n",
    "  df = nuller(df)\n",
    "  print(' the function has filled all the NAS with Zero')\n",
    "  print('#'*100)\n",
    "  summer(df)\n",
    "  print('#'*100)\n",
    "  print('EDA'*31)\n",
    "  print('Numeric visualisations'*5)\n",
    "  print('#'*100)\n",
    "  visuals(df)\n",
    "  #print(x)\n",
    "  print('#'*100)\n",
    "  print('Non Numeric viz'*5)\n",
    "  x = non_numeric(df)\n",
    "  print(x)"
   ]
  },
  {
   "cell_type": "code",
   "execution_count": null,
   "metadata": {
    "colab": {
     "base_uri": "https://localhost:8080/",
     "height": 628
    },
    "id": "dejkgkk7NXqU",
    "outputId": "a01aef28-6545-4c57-c15f-b82d650752fd"
   },
   "outputs": [
    {
     "name": "stdout",
     "output_type": "stream",
     "text": [
      " the function has filled all the NAS with Zero\n",
      "####################################################################################################\n",
      "               c1          c2         c3\n",
      "count  200.000000  200.000000  200.00000\n",
      "mean   553.345000  551.670000  522.38000\n",
      "std    270.123229  261.453842  254.94801\n",
      "min    105.000000  103.000000  100.00000\n",
      "25%    324.250000  325.750000  323.75000\n",
      "50%    556.500000  538.000000  506.00000\n",
      "75%    794.250000  785.000000  711.50000\n",
      "max    999.000000  998.000000  998.00000\n",
      "####################################################################################################\n",
      "EDAEDAEDAEDAEDAEDAEDAEDAEDAEDAEDAEDAEDAEDAEDAEDAEDAEDAEDAEDAEDAEDAEDAEDAEDAEDAEDAEDAEDAEDAEDA\n",
      "Numeric visualisationsNumeric visualisationsNumeric visualisationsNumeric visualisationsNumeric visualisations\n",
      "####################################################################################################\n",
      "AxesSubplot(0.125,0.125;0.775x0.755)\n",
      "####################################################################################################\n",
      "Non Numeric vizNon Numeric vizNon Numeric vizNon Numeric vizNon Numeric viz\n",
      "AxesSubplot(0.260833,0.125;0.503333x0.755)\n",
      "AxesSubplot(0.260833,0.125;0.503333x0.755)\n",
      "None\n"
     ]
    },
    {
     "data": {
      "image/png": "[encoded data removed]",
      "text/plain": [
       "<Figure size 432x288 with 1 Axes>"
      ]
     },
     "metadata": {
      "tags": []
     },
     "output_type": "display_data"
    }
   ],
   "source": [
    "god(dx)"
   ]
  },
  {
   "cell_type": "code",
   "execution_count": null,
   "metadata": {
    "colab": {
     "base_uri": "https://localhost:8080/",
     "height": 202
    },
    "id": "walOqrIKNZsG",
    "outputId": "a272acc6-5ae6-4f8d-c149-270bfe346419"
   },
   "outputs": [
    {
     "data": {
      "text/html": [
       "<div>\n",
       "<style scoped>\n",
       "    .dataframe tbody tr th:only-of-type {\n",
       "        vertical-align: middle;\n",
       "    }\n",
       "\n",
       "    .dataframe tbody tr th {\n",
       "        vertical-align: top;\n",
       "    }\n",
       "\n",
       "    .dataframe thead th {\n",
       "        text-align: right;\n",
       "    }\n",
       "</style>\n",
       "<table border=\"1\" class=\"dataframe\">\n",
       "  <thead>\n",
       "    <tr style=\"text-align: right;\">\n",
       "      <th></th>\n",
       "      <th>c1</th>\n",
       "      <th>c2</th>\n",
       "      <th>c3</th>\n",
       "      <th>Toss</th>\n",
       "      <th>Thende</th>\n",
       "    </tr>\n",
       "  </thead>\n",
       "  <tbody>\n",
       "    <tr>\n",
       "      <th>0</th>\n",
       "      <td>678</td>\n",
       "      <td>462</td>\n",
       "      <td>341</td>\n",
       "      <td>head</td>\n",
       "      <td>hole</td>\n",
       "    </tr>\n",
       "    <tr>\n",
       "      <th>1</th>\n",
       "      <td>777</td>\n",
       "      <td>822</td>\n",
       "      <td>998</td>\n",
       "      <td>head</td>\n",
       "      <td>hole</td>\n",
       "    </tr>\n",
       "    <tr>\n",
       "      <th>2</th>\n",
       "      <td>136</td>\n",
       "      <td>465</td>\n",
       "      <td>442</td>\n",
       "      <td>head</td>\n",
       "      <td>Ass</td>\n",
       "    </tr>\n",
       "    <tr>\n",
       "      <th>3</th>\n",
       "      <td>888</td>\n",
       "      <td>994</td>\n",
       "      <td>656</td>\n",
       "      <td>head</td>\n",
       "      <td>wipe</td>\n",
       "    </tr>\n",
       "    <tr>\n",
       "      <th>4</th>\n",
       "      <td>573</td>\n",
       "      <td>538</td>\n",
       "      <td>170</td>\n",
       "      <td>tail</td>\n",
       "      <td>hole</td>\n",
       "    </tr>\n",
       "  </tbody>\n",
       "</table>\n",
       "</div>"
      ],
      "text/plain": [
       "    c1   c2   c3  Toss Thende\n",
       "0  678  462  341  head   hole\n",
       "1  777  822  998  head   hole\n",
       "2  136  465  442  head    Ass\n",
       "3  888  994  656  head   wipe\n",
       "4  573  538  170  tail   hole"
      ]
     },
     "execution_count": 102,
     "metadata": {
      "tags": []
     },
     "output_type": "execute_result"
    }
   ],
   "source": [
    "dx.head()"
   ]
  },
  {
   "cell_type": "code",
   "execution_count": null,
   "metadata": {
    "id": "reXTNG1kPbDG"
   },
   "outputs": [],
   "source": [
    "#split data into x and y\n",
    "x=dx[['c1','c2','c3']]\n",
    "y=dx['Thende']"
   ]
  },
  {
   "cell_type": "code",
   "execution_count": null,
   "metadata": {
    "id": "phbJYJVYQWXI"
   },
   "outputs": [],
   "source": [
    "#spilt the data into 4 parts\n",
    "from sklearn.model_selection import train_test_split\n",
    "x_train,x_test,y_train,y_test=train_test_split(x,y)"
   ]
  },
  {
   "cell_type": "code",
   "execution_count": null,
   "metadata": {
    "id": "9WdeU1l8QxBk"
   },
   "outputs": [],
   "source": [
    "from sklearn.ensemble import RandomForestClassifier\n",
    "model=RandomForestClassifier()"
   ]
  },
  {
   "cell_type": "code",
   "execution_count": null,
   "metadata": {
    "colab": {
     "base_uri": "https://localhost:8080/"
    },
    "id": "OSPg0yfuRJc5",
    "outputId": "d9bd48e2-80f6-4ba8-ef52-c15062edb04b"
   },
   "outputs": [
    {
     "data": {
      "text/plain": [
       "RandomForestClassifier(bootstrap=True, ccp_alpha=0.0, class_weight=None,\n",
       "                       criterion='gini', max_depth=None, max_features='auto',\n",
       "                       max_leaf_nodes=None, max_samples=None,\n",
       "                       min_impurity_decrease=0.0, min_impurity_split=None,\n",
       "                       min_samples_leaf=1, min_samples_split=2,\n",
       "                       min_weight_fraction_leaf=0.0, n_estimators=100,\n",
       "                       n_jobs=None, oob_score=False, random_state=None,\n",
       "                       verbose=0, warm_start=False)"
      ]
     },
     "execution_count": 98,
     "metadata": {
      "tags": []
     },
     "output_type": "execute_result"
    }
   ],
   "source": [
    "model.fit(x_train,y_train)"
   ]
  },
  {
   "cell_type": "code",
   "execution_count": null,
   "metadata": {
    "id": "ohCOgwIfRqyg"
   },
   "outputs": [],
   "source": [
    "pred=model.predict(x_test)"
   ]
  },
  {
   "cell_type": "code",
   "execution_count": null,
   "metadata": {
    "colab": {
     "base_uri": "https://localhost:8080/"
    },
    "id": "05sT9pkkRz3Y",
    "outputId": "e26dabdf-92a2-4944-e4d8-95deb5b2fe9f"
   },
   "outputs": [
    {
     "data": {
      "text/plain": [
       "0.3"
      ]
     },
     "execution_count": 101,
     "metadata": {
      "tags": []
     },
     "output_type": "execute_result"
    }
   ],
   "source": [
    "from sklearn.metrics import accuracy_score\n",
    "accuracy_score(pred,y_test)"
   ]
  },
  {
   "cell_type": "markdown",
   "metadata": {
    "id": "QfF2zTCujTrr"
   },
   "source": [
    "# Njaus examples"
   ]
  },
  {
   "cell_type": "code",
   "execution_count": null,
   "metadata": {
    "colab": {
     "base_uri": "https://localhost:8080/",
     "height": 202
    },
    "id": "XZ1Ils5oSOLD",
    "outputId": "082a3520-b8ee-47f1-b08b-8ebc2ddf1df2"
   },
   "outputs": [
    {
     "data": {
      "text/html": [
       "<div>\n",
       "<style scoped>\n",
       "    .dataframe tbody tr th:only-of-type {\n",
       "        vertical-align: middle;\n",
       "    }\n",
       "\n",
       "    .dataframe tbody tr th {\n",
       "        vertical-align: top;\n",
       "    }\n",
       "\n",
       "    .dataframe thead th {\n",
       "        text-align: right;\n",
       "    }\n",
       "</style>\n",
       "<table border=\"1\" class=\"dataframe\">\n",
       "  <thead>\n",
       "    <tr style=\"text-align: right;\">\n",
       "      <th></th>\n",
       "      <th>weight</th>\n",
       "      <th>height</th>\n",
       "      <th>BMI</th>\n",
       "    </tr>\n",
       "  </thead>\n",
       "  <tbody>\n",
       "    <tr>\n",
       "      <th>0</th>\n",
       "      <td>29</td>\n",
       "      <td>1.159047</td>\n",
       "      <td>21.587167</td>\n",
       "    </tr>\n",
       "    <tr>\n",
       "      <th>1</th>\n",
       "      <td>53</td>\n",
       "      <td>1.467139</td>\n",
       "      <td>24.622576</td>\n",
       "    </tr>\n",
       "    <tr>\n",
       "      <th>2</th>\n",
       "      <td>65</td>\n",
       "      <td>2.889535</td>\n",
       "      <td>7.784977</td>\n",
       "    </tr>\n",
       "    <tr>\n",
       "      <th>3</th>\n",
       "      <td>36</td>\n",
       "      <td>1.790313</td>\n",
       "      <td>11.231674</td>\n",
       "    </tr>\n",
       "    <tr>\n",
       "      <th>4</th>\n",
       "      <td>34</td>\n",
       "      <td>1.553510</td>\n",
       "      <td>14.088050</td>\n",
       "    </tr>\n",
       "  </tbody>\n",
       "</table>\n",
       "</div>"
      ],
      "text/plain": [
       "   weight    height        BMI\n",
       "0      29  1.159047  21.587167\n",
       "1      53  1.467139  24.622576\n",
       "2      65  2.889535   7.784977\n",
       "3      36  1.790313  11.231674\n",
       "4      34  1.553510  14.088050"
      ]
     },
     "execution_count": 131,
     "metadata": {
      "tags": []
     },
     "output_type": "execute_result"
    }
   ],
   "source": [
    "dx = pd.DataFrame(np.random.randint(10,75,10000),columns = ['weight'])\n",
    "dx['height'] = np.random.random(10000)+np.random.choice([1,2],10000)\n",
    "dx['BMI'] = dx.weight/dx.height**2\n",
    "dx.head()"
   ]
  },
  {
   "cell_type": "code",
   "execution_count": null,
   "metadata": {
    "id": "5-soIhMDksnU"
   },
   "outputs": [],
   "source": [
    "import plotly.express as px\n",
    "\n",
    "px.scatter(dx,y = 'c1',x = 'c2',trendline='ols')"
   ]
  },
  {
   "cell_type": "code",
   "execution_count": null,
   "metadata": {
    "colab": {
     "base_uri": "https://localhost:8080/",
     "height": 202
    },
    "id": "UGne5esmjST8",
    "outputId": "ae0c4cea-c3f4-4186-db49-aefbb0b08f03"
   },
   "outputs": [
    {
     "data": {
      "text/html": [
       "<div>\n",
       "<style scoped>\n",
       "    .dataframe tbody tr th:only-of-type {\n",
       "        vertical-align: middle;\n",
       "    }\n",
       "\n",
       "    .dataframe tbody tr th {\n",
       "        vertical-align: top;\n",
       "    }\n",
       "\n",
       "    .dataframe thead th {\n",
       "        text-align: right;\n",
       "    }\n",
       "</style>\n",
       "<table border=\"1\" class=\"dataframe\">\n",
       "  <thead>\n",
       "    <tr style=\"text-align: right;\">\n",
       "      <th></th>\n",
       "      <th>weight</th>\n",
       "      <th>height</th>\n",
       "      <th>BMI</th>\n",
       "    </tr>\n",
       "  </thead>\n",
       "  <tbody>\n",
       "    <tr>\n",
       "      <th>0</th>\n",
       "      <td>29</td>\n",
       "      <td>1.159047</td>\n",
       "      <td>21.587167</td>\n",
       "    </tr>\n",
       "    <tr>\n",
       "      <th>1</th>\n",
       "      <td>53</td>\n",
       "      <td>1.467139</td>\n",
       "      <td>24.622576</td>\n",
       "    </tr>\n",
       "    <tr>\n",
       "      <th>2</th>\n",
       "      <td>65</td>\n",
       "      <td>2.889535</td>\n",
       "      <td>7.784977</td>\n",
       "    </tr>\n",
       "    <tr>\n",
       "      <th>3</th>\n",
       "      <td>36</td>\n",
       "      <td>1.790313</td>\n",
       "      <td>11.231674</td>\n",
       "    </tr>\n",
       "    <tr>\n",
       "      <th>4</th>\n",
       "      <td>34</td>\n",
       "      <td>1.553510</td>\n",
       "      <td>14.088050</td>\n",
       "    </tr>\n",
       "  </tbody>\n",
       "</table>\n",
       "</div>"
      ],
      "text/plain": [
       "   weight    height        BMI\n",
       "0      29  1.159047  21.587167\n",
       "1      53  1.467139  24.622576\n",
       "2      65  2.889535   7.784977\n",
       "3      36  1.790313  11.231674\n",
       "4      34  1.553510  14.088050"
      ]
     },
     "execution_count": 136,
     "metadata": {
      "tags": []
     },
     "output_type": "execute_result"
    }
   ],
   "source": [
    "# x and y subsettting\n",
    "x = dx.drop(['BMI'],axis = 1)\n",
    "y = dx.BMI\n",
    "dx.head()"
   ]
  },
  {
   "cell_type": "code",
   "execution_count": null,
   "metadata": {
    "id": "hDU2-fUZjomr"
   },
   "outputs": [],
   "source": [
    "# spliting the data\n",
    "from sklearn.model_selection import train_test_split\n",
    "x_train,x_test,y_train,y_test = train_test_split(x,y,test_size = 0.2,random_state =30)"
   ]
  },
  {
   "cell_type": "code",
   "execution_count": null,
   "metadata": {
    "colab": {
     "base_uri": "https://localhost:8080/"
    },
    "id": "uJmxzGCFjplB",
    "outputId": "77144e1e-ebb9-4117-e431-34dcfec3ebfb"
   },
   "outputs": [
    {
     "data": {
      "text/plain": [
       "4.259864244673245"
      ]
     },
     "execution_count": 140,
     "metadata": {
      "tags": []
     },
     "output_type": "execute_result"
    }
   ],
   "source": [
    "# Model creation \n",
    "from sklearn.linear_model import LinearRegression\n",
    "\n",
    "model = LinearRegression()\n",
    "model.fit(x_train,y_train)\n",
    "\n",
    "# test the model\n",
    "from sklearn.metrics import mean_absolute_error as mae\n",
    "mae(model.predict(x_test),y_test)\n"
   ]
  },
  {
   "cell_type": "code",
   "execution_count": null,
   "metadata": {
    "colab": {
     "base_uri": "https://localhost:8080/"
    },
    "id": "NMIW1VjjmId8",
    "outputId": "c92befa1-c009-4807-c385-fa1ba66a23fe"
   },
   "outputs": [
    {
     "data": {
      "text/plain": [
       "0.10693245577466404"
      ]
     },
     "execution_count": 150,
     "metadata": {
      "tags": []
     },
     "output_type": "execute_result"
    }
   ],
   "source": [
    "# create another model\n",
    "from sklearn.ensemble import GradientBoostingRegressor\n",
    "model = GradientBoostingRegressor(n_estimators= 5000)\n",
    "model.fit(x_train,y_train)\n",
    "\n",
    "# test the model\n",
    "from sklearn.metrics import mean_absolute_error as mae\n",
    "mae(model.predict(x_test),y_test)"
   ]
  },
  {
   "cell_type": "code",
   "execution_count": null,
   "metadata": {
    "colab": {
     "base_uri": "https://localhost:8080/"
    },
    "id": "qOFxoXwOtfkw",
    "outputId": "3a3632a9-5f94-4b98-c7e0-2b38684e7180"
   },
   "outputs": [
    {
     "name": "stderr",
     "output_type": "stream",
     "text": [
      "/usr/local/lib/python3.6/dist-packages/sklearn/svm/_base.py:947: ConvergenceWarning:\n",
      "\n",
      "Liblinear failed to converge, increase the number of iterations.\n",
      "\n"
     ]
    },
    {
     "data": {
      "text/plain": [
       "3.9905458043539586"
      ]
     },
     "execution_count": 152,
     "metadata": {
      "tags": []
     },
     "output_type": "execute_result"
    }
   ],
   "source": [
    "from sklearn.svm import LinearSVR\n",
    "model = LinearSVR()\n",
    "model.fit(x_train,y_train)\n",
    "\n",
    "# test the model\n",
    "from sklearn.metrics import mean_absolute_error as mae\n",
    "mae(model.predict(x_test),y_test)"
   ]
  },
  {
   "cell_type": "code",
   "execution_count": null,
   "metadata": {
    "colab": {
     "base_uri": "https://localhost:8080/"
    },
    "id": "GnSoSXxUq39t",
    "outputId": "def42a34-822c-42a3-d01c-37feb0490301"
   },
   "outputs": [
    {
     "data": {
      "text/plain": [
       "array([22.96607596])"
      ]
     },
     "execution_count": 153,
     "metadata": {
      "tags": []
     },
     "output_type": "execute_result"
    }
   ],
   "source": [
    "model.predict(np.array([86,1.78]).reshape(1, -1))"
   ]
  },
  {
   "cell_type": "code",
   "execution_count": null,
   "metadata": {
    "id": "LrOLtvaOsc--"
   },
   "outputs": [],
   "source": []
  },
  {
   "cell_type": "markdown",
   "metadata": {
    "id": "a-rDIgMEvibP"
   },
   "source": [
    "# Assignment Njau"
   ]
  },
  {
   "cell_type": "code",
   "execution_count": null,
   "metadata": {
    "colab": {
     "base_uri": "https://localhost:8080/",
     "height": 202
    },
    "id": "-4DSLbt4vlxc",
    "outputId": "3ab68af1-7f07-47e1-bb42-13e5b15b3109"
   },
   "outputs": [
    {
     "data": {
      "text/html": [
       "<div>\n",
       "<style scoped>\n",
       "    .dataframe tbody tr th:only-of-type {\n",
       "        vertical-align: middle;\n",
       "    }\n",
       "\n",
       "    .dataframe tbody tr th {\n",
       "        vertical-align: top;\n",
       "    }\n",
       "\n",
       "    .dataframe thead th {\n",
       "        text-align: right;\n",
       "    }\n",
       "</style>\n",
       "<table border=\"1\" class=\"dataframe\">\n",
       "  <thead>\n",
       "    <tr style=\"text-align: right;\">\n",
       "      <th></th>\n",
       "      <th>petal_length</th>\n",
       "      <th>petal_width</th>\n",
       "      <th>sepal_length</th>\n",
       "      <th>sepal_width</th>\n",
       "    </tr>\n",
       "  </thead>\n",
       "  <tbody>\n",
       "    <tr>\n",
       "      <th>9</th>\n",
       "      <td>4.9</td>\n",
       "      <td>3.1</td>\n",
       "      <td>1.5</td>\n",
       "      <td>0.1</td>\n",
       "    </tr>\n",
       "    <tr>\n",
       "      <th>11</th>\n",
       "      <td>4.8</td>\n",
       "      <td>3.4</td>\n",
       "      <td>1.6</td>\n",
       "      <td>0.2</td>\n",
       "    </tr>\n",
       "    <tr>\n",
       "      <th>125</th>\n",
       "      <td>7.2</td>\n",
       "      <td>3.2</td>\n",
       "      <td>6.0</td>\n",
       "      <td>1.8</td>\n",
       "    </tr>\n",
       "    <tr>\n",
       "      <th>44</th>\n",
       "      <td>5.1</td>\n",
       "      <td>3.8</td>\n",
       "      <td>1.9</td>\n",
       "      <td>0.4</td>\n",
       "    </tr>\n",
       "    <tr>\n",
       "      <th>43</th>\n",
       "      <td>5.0</td>\n",
       "      <td>3.5</td>\n",
       "      <td>1.6</td>\n",
       "      <td>0.6</td>\n",
       "    </tr>\n",
       "  </tbody>\n",
       "</table>\n",
       "</div>"
      ],
      "text/plain": [
       "     petal_length  petal_width  sepal_length  sepal_width\n",
       "9             4.9          3.1           1.5          0.1\n",
       "11            4.8          3.4           1.6          0.2\n",
       "125           7.2          3.2           6.0          1.8\n",
       "44            5.1          3.8           1.9          0.4\n",
       "43            5.0          3.5           1.6          0.6"
      ]
     },
     "execution_count": 167,
     "metadata": {
      "tags": []
     },
     "output_type": "execute_result"
    }
   ],
   "source": [
    "from sklearn.datasets import load_iris\n",
    "data = load_iris()\n",
    "x = pd.DataFrame(data['data'],columns = ['petal_length','petal_width','sepal_length','sepal_width'])\n",
    "x['y'] = ['iris_setosa' if i==0 else 'versicolor' if i==1 else 'virginica' for i in  data['target']]\n",
    "x = x.sample(frac = 1)\n",
    "\n",
    "y = x.y\n",
    "x = x.drop('y',axis =1)\n",
    "\n",
    "x.head()"
   ]
  },
  {
   "cell_type": "code",
   "execution_count": null,
   "metadata": {
    "colab": {
     "base_uri": "https://localhost:8080/"
    },
    "id": "bokmAn-Jv2DS",
    "outputId": "869a0b2c-6642-46b7-e079-a42a940df79c"
   },
   "outputs": [
    {
     "data": {
      "text/plain": [
       "9      iris_setosa\n",
       "11     iris_setosa\n",
       "125      virginica\n",
       "44     iris_setosa\n",
       "43     iris_setosa\n",
       "Name: y, dtype: object"
      ]
     },
     "execution_count": 168,
     "metadata": {
      "tags": []
     },
     "output_type": "execute_result"
    }
   ],
   "source": [
    "y[:5]"
   ]
  },
  {
   "cell_type": "code",
   "execution_count": null,
   "metadata": {
    "id": "lzKq1KpBwqyJ"
   },
   "outputs": [],
   "source": [
    "# perform a simple eda, scatter plot, pie chart and bar charts .. try boxplots\n",
    "# do a machine learning model and check the accuracy (first accuracy - baseline model)\n",
    "# use two methods to improve this score - use hyperpareameter tuning, create tree based (different models),use better cleaning etc"
   ]
  },
  {
   "cell_type": "code",
   "execution_count": null,
   "metadata": {
    "id": "KK98Cd_kymcX"
   },
   "outputs": [],
   "source": []
  }
 ],
 "metadata": {
  "colab": {
   "name": "Hackers.ipynb",
   "provenance": []
  },
  "kernelspec": {
   "display_name": "Python 3",
   "language": "python",
   "name": "python3"
  },
  "language_info": {
   "codemirror_mode": {
    "name": "ipython",
    "version": 3
   },
   "file_extension": ".py",
   "mimetype": "text/x-python",
   "name": "python",
   "nbconvert_exporter": "python",
   "pygments_lexer": "ipython3",
   "version": "3.7.6"
  }
 },
 "nbformat": 4,
 "nbformat_minor": 1
}
