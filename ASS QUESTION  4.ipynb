{
 "cells": [
  {
   "cell_type": "markdown",
   "metadata": {},
   "source": [
    "Random numbers"
   ]
  },
  {
   "cell_type": "code",
   "execution_count": 3,
   "metadata": {},
   "outputs": [],
   "source": [
    "#4.a\n",
    "import random\n",
    "\n",
    "def Rand(start, end, num): \n",
    "    res = [] \n",
    "    list = []\n",
    "    for j in range(num): \n",
    "        res.append(random.randint(start, end)) \n",
    "  \n",
    "    return res \n",
    "num = 1000\n",
    "start = 1\n",
    "end = 100\n",
    "\n",
    "y = Rand(start, end, num)\n"
   ]
  },
  {
   "cell_type": "code",
   "execution_count": 9,
   "metadata": {},
   "outputs": [],
   "source": [
    "#4.b.\n",
    "coin = []\n",
    "for toss in y:\n",
    "    if toss<50:\n",
    "        coin.append(\"heads\")\n",
    "    else:\n",
    "        coin.append(\"tails\")\n",
    "#testing\n",
    "\n",
    "test = []\n",
    "\n",
    "for i in range(num):\n",
    "    test.append(random.choice([\"heads\", \"tails\"]))"
   ]
  },
  {
   "cell_type": "code",
   "execution_count": 15,
   "metadata": {},
   "outputs": [
    {
     "name": "stdout",
     "output_type": "stream",
     "text": [
      "probability tails 0.484:probability heads 0.516\n"
     ]
    }
   ],
   "source": [
    "def word_count(words):\n",
    "    counts = dict()\n",
    "    \n",
    "    #words = str.lower().split()\n",
    "   \n",
    "    for word in words:\n",
    "        if word in counts:\n",
    "            counts[word] += 1\n",
    "        else:\n",
    "            counts[word] = 1\n",
    "\n",
    "    return counts\n",
    "\n",
    "j = word_count(coin)\n",
    "\n",
    "print(\"probability tails {}:probability heads {}\".format(j[\"tails\"]/num,j[\"heads\"]/num))"
   ]
  },
  {
   "cell_type": "code",
   "execution_count": null,
   "metadata": {},
   "outputs": [
    {
     "name": "stdout",
     "output_type": "stream",
     "text": [
      "n = 1000---probability tails 0.49:probability heads 0.51\n",
      "n = 100000---probability tails 0.49797:probability heads 0.50203\n",
      "n = 10000000---probability tails 0.5004139:probability heads 0.4995861\n"
     ]
    }
   ],
   "source": [
    "n = [1000, 100000, 10000000, 1000000000]\n",
    "for num in n:\n",
    "    \n",
    "    test = []\n",
    "\n",
    "    for i in range(num):\n",
    "        test.append(random.choice([\"heads\", \"tails\"]))\n",
    "\n",
    "    j = word_count(test)\n",
    "\n",
    "    print(\"n = {}---probability tails {}:probability heads {}\".format(num,j[\"tails\"]/num,j[\"heads\"]/num))\n",
    "\n",
    "\n",
    "        \n",
    "    #print(i)\n"
   ]
  },
  {
   "cell_type": "code",
   "execution_count": null,
   "metadata": {},
   "outputs": [],
   "source": []
  }
 ],
 "metadata": {
  "kernelspec": {
   "display_name": "Python 3",
   "language": "python",
   "name": "python3"
  },
  "language_info": {
   "codemirror_mode": {
    "name": "ipython",
    "version": 3
   },
   "file_extension": ".py",
   "mimetype": "text/x-python",
   "name": "python",
   "nbconvert_exporter": "python",
   "pygments_lexer": "ipython3",
   "version": "3.7.6"
  }
 },
 "nbformat": 4,
 "nbformat_minor": 4
}
