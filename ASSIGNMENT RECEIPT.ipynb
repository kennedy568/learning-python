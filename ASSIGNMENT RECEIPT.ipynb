{
 "cells": [
  {
   "cell_type": "code",
   "execution_count": 5,
   "metadata": {},
   "outputs": [
    {
     "name": "stdout",
     "output_type": "stream",
     "text": [
      "*#!*#!*#!*#!*#!*#!*#!*#!*#!*#!*#!*#!*#!*#!*#!*#!*#!*#!*#!*#!*#!*#!*#!*#!*#!*#!*#!*#!*#!*#!\n",
      "                                NJAU SUPADUKA\n",
      "Rceipt No: #23421                     Thank you for shopping with us!\n",
      "Pin No: # A002354679798W\n",
      "*#!*#!*#!*#!*#!*#!*#!*#!*#!*#!*#!*#!*#!*#!*#!*#!*#!*#!*#!*#!*#!*#!*#!*#!*#!*#!*#!*#!*#!*#!\n",
      "Item          price           VAT(tax)\n",
      "_ _ _ _       _ _ _ _         _ _ _ _\n",
      "unga         120              19.2\n",
      "unga         120              19.2\n",
      "milk         48                0 \n",
      "soap         62                3.1\n",
      "soap         62                3.1\n",
      "milk         48                0 \n",
      "__________________________________________\n",
      "TOTALS\n",
      "                                       \n",
      "TOTALS_PRICES\n",
      "                                  \n",
      "AMOUNT GIVEN                    CHANGE:-\n",
      "__________________________________________\n",
      "*#!*#!*#!*#!*#!*#!*#!*#!*#!*#!*#!*#!*#!*#!*#!*#!*#!*#!*#!*#!*#!*#!*#!*#!*#!*#!*#!*#!*#!*#!\n"
     ]
    }
   ],
   "source": [
    "Item = [\"unga\",\"milk\",\"soap\"]\n",
    "prices = [\"120\",\"48\",\"62\"]\n",
    "\n",
    "\n",
    "print((\"*#!\")*30)\n",
    "print (\"                               \", \"NJAU SUPADUKA\")\n",
    "print (\"Rceipt No: #23421\", \"                   \", \"Thank you for shopping with us!\")\n",
    "print (\"Pin No: # A002354679798W\")\n",
    "print ((\"*#!\")*30)\n",
    "print (\"Item\",\"        \", \"price\", \"         \", \"VAT(tax)\")\n",
    "print (\"_ _ _ _\",\"     \",\"_ _ _ _\", \"       \",\"_ _ _ _\")\n",
    "print (\"unga\",\"       \",\"120\",\"            \",\"19.2\")\n",
    "print (\"unga\",\"       \",\"120\",\"            \",\"19.2\")\n",
    "print (\"milk\",\"       \",\"48 \",\"            \",\" 0 \")\n",
    "print (\"soap\",\"       \",\"62 \",\"            \",\" 3.1\")\n",
    "print (\"soap\",\"       \",\"62 \",\"            \",\" 3.1\")\n",
    "print (\"milk\",\"       \",\"48 \",\"            \",\" 0 \")\n",
    "\n",
    "print (\"__________________________________________\")\n",
    "print (\"TOTALS\")\n",
    "print (\"                                       \")\n",
    "print (\"TOTALS_PRICES\")\n",
    "print (\"                                  \")\n",
    "print (\"AMOUNT GIVEN\",\"                  \", \"CHANGE:-\")\n",
    "print (\"__________________________________________\")\n",
    "print((\"*#!\")*30)\n"
   ]
  },
  {
   "cell_type": "code",
   "execution_count": null,
   "metadata": {},
   "outputs": [],
   "source": []
  },
  {
   "cell_type": "code",
   "execution_count": null,
   "metadata": {},
   "outputs": [],
   "source": []
  }
 ],
 "metadata": {
  "kernelspec": {
   "display_name": "Python 3",
   "language": "python",
   "name": "python3"
  },
  "language_info": {
   "codemirror_mode": {
    "name": "ipython",
    "version": 3
   },
   "file_extension": ".py",
   "mimetype": "text/x-python",
   "name": "python",
   "nbconvert_exporter": "python",
   "pygments_lexer": "ipython3",
   "version": "3.7.6"
  }
 },
 "nbformat": 4,
 "nbformat_minor": 4
}
