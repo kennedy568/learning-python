{
 "cells": [
  {
   "cell_type": "code",
   "execution_count": 1,
   "metadata": {
    "ExecuteTime": {
     "end_time": "2021-01-08T09:16:40.178272Z",
     "start_time": "2021-01-08T09:16:39.872403Z"
    }
   },
   "outputs": [],
   "source": [
    "import pandas as pd\n",
    "import numpy as np"
   ]
  },
  {
   "cell_type": "code",
   "execution_count": 2,
   "metadata": {
    "ExecuteTime": {
     "end_time": "2021-01-08T09:16:41.346281Z",
     "start_time": "2021-01-08T09:16:40.776750Z"
    }
   },
   "outputs": [],
   "source": [
    "#download the training data,testing data, subission file  etc, then loan the train data \n",
    "dx = pd.read_csv('SUPCOM_Train.csv')"
   ]
  },
  {
   "cell_type": "code",
   "execution_count": 3,
   "metadata": {
    "ExecuteTime": {
     "end_time": "2021-01-08T09:16:41.620517Z",
     "start_time": "2021-01-08T09:16:41.578162Z"
    }
   },
   "outputs": [
    {
     "data": {
      "text/html": [
       "<div>\n",
       "<style scoped>\n",
       "    .dataframe tbody tr th:only-of-type {\n",
       "        vertical-align: middle;\n",
       "    }\n",
       "\n",
       "    .dataframe tbody tr th {\n",
       "        vertical-align: top;\n",
       "    }\n",
       "\n",
       "    .dataframe thead th {\n",
       "        text-align: right;\n",
       "    }\n",
       "</style>\n",
       "<table border=\"1\" class=\"dataframe\">\n",
       "  <thead>\n",
       "    <tr style=\"text-align: right;\">\n",
       "      <th></th>\n",
       "      <th>BCT_CODBUR</th>\n",
       "      <th>CTR_MATFIS</th>\n",
       "      <th>CTR_CATEGO_X</th>\n",
       "      <th>FJU_CODFJU</th>\n",
       "      <th>CTR_CESSAT</th>\n",
       "      <th>ACT_CODACT</th>\n",
       "      <th>CTR_OBLDIR</th>\n",
       "      <th>CTR_OBLACP</th>\n",
       "      <th>CTR_OBLRES</th>\n",
       "      <th>CTR_OBLFOP</th>\n",
       "      <th>...</th>\n",
       "      <th>target</th>\n",
       "      <th>FAC_MNTPRI_F</th>\n",
       "      <th>FAC_MFODEC_F</th>\n",
       "      <th>FAC_MNTDCO_F</th>\n",
       "      <th>FAC_MNTTVA_F</th>\n",
       "      <th>FAC_MNTPRI_C</th>\n",
       "      <th>FAC_MFODEC_C</th>\n",
       "      <th>FAC_MNTDCO_C</th>\n",
       "      <th>FAC_MNTTVA_C</th>\n",
       "      <th>id</th>\n",
       "    </tr>\n",
       "  </thead>\n",
       "  <tbody>\n",
       "    <tr>\n",
       "      <th>0</th>\n",
       "      <td>44</td>\n",
       "      <td>6210</td>\n",
       "      <td>C</td>\n",
       "      <td>99</td>\n",
       "      <td>0</td>\n",
       "      <td>3707</td>\n",
       "      <td>4</td>\n",
       "      <td>2</td>\n",
       "      <td>2</td>\n",
       "      <td>2</td>\n",
       "      <td>...</td>\n",
       "      <td>16.639203</td>\n",
       "      <td>NaN</td>\n",
       "      <td>NaN</td>\n",
       "      <td>NaN</td>\n",
       "      <td>NaN</td>\n",
       "      <td>NaN</td>\n",
       "      <td>NaN</td>\n",
       "      <td>NaN</td>\n",
       "      <td>NaN</td>\n",
       "      <td>train_id17437</td>\n",
       "    </tr>\n",
       "    <tr>\n",
       "      <th>1</th>\n",
       "      <td>401</td>\n",
       "      <td>14383</td>\n",
       "      <td>M</td>\n",
       "      <td>22</td>\n",
       "      <td>0</td>\n",
       "      <td>6105</td>\n",
       "      <td>4</td>\n",
       "      <td>2</td>\n",
       "      <td>2</td>\n",
       "      <td>2</td>\n",
       "      <td>...</td>\n",
       "      <td>17.827703</td>\n",
       "      <td>NaN</td>\n",
       "      <td>NaN</td>\n",
       "      <td>NaN</td>\n",
       "      <td>NaN</td>\n",
       "      <td>NaN</td>\n",
       "      <td>NaN</td>\n",
       "      <td>NaN</td>\n",
       "      <td>NaN</td>\n",
       "      <td>train_id5086</td>\n",
       "    </tr>\n",
       "    <tr>\n",
       "      <th>2</th>\n",
       "      <td>243</td>\n",
       "      <td>11555</td>\n",
       "      <td>M</td>\n",
       "      <td>23</td>\n",
       "      <td>0</td>\n",
       "      <td>5751</td>\n",
       "      <td>4</td>\n",
       "      <td>2</td>\n",
       "      <td>2</td>\n",
       "      <td>2</td>\n",
       "      <td>...</td>\n",
       "      <td>15.473503</td>\n",
       "      <td>25387000.0</td>\n",
       "      <td>0.0</td>\n",
       "      <td>0.0</td>\n",
       "      <td>4571280.0</td>\n",
       "      <td>NaN</td>\n",
       "      <td>NaN</td>\n",
       "      <td>NaN</td>\n",
       "      <td>NaN</td>\n",
       "      <td>train_id1443</td>\n",
       "    </tr>\n",
       "    <tr>\n",
       "      <th>3</th>\n",
       "      <td>72</td>\n",
       "      <td>6175</td>\n",
       "      <td>C</td>\n",
       "      <td>99</td>\n",
       "      <td>0</td>\n",
       "      <td>4402</td>\n",
       "      <td>4</td>\n",
       "      <td>2</td>\n",
       "      <td>2</td>\n",
       "      <td>2</td>\n",
       "      <td>...</td>\n",
       "      <td>0.000000</td>\n",
       "      <td>NaN</td>\n",
       "      <td>NaN</td>\n",
       "      <td>NaN</td>\n",
       "      <td>NaN</td>\n",
       "      <td>NaN</td>\n",
       "      <td>NaN</td>\n",
       "      <td>NaN</td>\n",
       "      <td>NaN</td>\n",
       "      <td>train_id15469</td>\n",
       "    </tr>\n",
       "    <tr>\n",
       "      <th>4</th>\n",
       "      <td>42</td>\n",
       "      <td>1417</td>\n",
       "      <td>M</td>\n",
       "      <td>23</td>\n",
       "      <td>0</td>\n",
       "      <td>6302</td>\n",
       "      <td>4</td>\n",
       "      <td>2</td>\n",
       "      <td>2</td>\n",
       "      <td>2</td>\n",
       "      <td>...</td>\n",
       "      <td>14.286244</td>\n",
       "      <td>NaN</td>\n",
       "      <td>NaN</td>\n",
       "      <td>NaN</td>\n",
       "      <td>NaN</td>\n",
       "      <td>NaN</td>\n",
       "      <td>NaN</td>\n",
       "      <td>NaN</td>\n",
       "      <td>NaN</td>\n",
       "      <td>train_id14368</td>\n",
       "    </tr>\n",
       "  </tbody>\n",
       "</table>\n",
       "<p>5 rows × 121 columns</p>\n",
       "</div>"
      ],
      "text/plain": [
       "   BCT_CODBUR  CTR_MATFIS CTR_CATEGO_X  FJU_CODFJU  CTR_CESSAT  ACT_CODACT  \\\n",
       "0          44        6210            C          99           0        3707   \n",
       "1         401       14383            M          22           0        6105   \n",
       "2         243       11555            M          23           0        5751   \n",
       "3          72        6175            C          99           0        4402   \n",
       "4          42        1417            M          23           0        6302   \n",
       "\n",
       "   CTR_OBLDIR  CTR_OBLACP  CTR_OBLRES  CTR_OBLFOP  ...     target  \\\n",
       "0           4           2           2           2  ...  16.639203   \n",
       "1           4           2           2           2  ...  17.827703   \n",
       "2           4           2           2           2  ...  15.473503   \n",
       "3           4           2           2           2  ...   0.000000   \n",
       "4           4           2           2           2  ...  14.286244   \n",
       "\n",
       "   FAC_MNTPRI_F  FAC_MFODEC_F  FAC_MNTDCO_F  FAC_MNTTVA_F  FAC_MNTPRI_C  \\\n",
       "0           NaN           NaN           NaN           NaN           NaN   \n",
       "1           NaN           NaN           NaN           NaN           NaN   \n",
       "2    25387000.0           0.0           0.0     4571280.0           NaN   \n",
       "3           NaN           NaN           NaN           NaN           NaN   \n",
       "4           NaN           NaN           NaN           NaN           NaN   \n",
       "\n",
       "   FAC_MFODEC_C  FAC_MNTDCO_C  FAC_MNTTVA_C             id  \n",
       "0           NaN           NaN           NaN  train_id17437  \n",
       "1           NaN           NaN           NaN   train_id5086  \n",
       "2           NaN           NaN           NaN   train_id1443  \n",
       "3           NaN           NaN           NaN  train_id15469  \n",
       "4           NaN           NaN           NaN  train_id14368  \n",
       "\n",
       "[5 rows x 121 columns]"
      ]
     },
     "execution_count": 3,
     "metadata": {},
     "output_type": "execute_result"
    }
   ],
   "source": [
    "dx.head()"
   ]
  },
  {
   "cell_type": "code",
   "execution_count": 4,
   "metadata": {
    "ExecuteTime": {
     "end_time": "2021-01-08T09:16:43.404544Z",
     "start_time": "2021-01-08T09:16:43.396659Z"
    }
   },
   "outputs": [
    {
     "data": {
      "text/plain": [
       "Index(['BCT_CODBUR', 'CTR_MATFIS', 'CTR_CATEGO_X', 'FJU_CODFJU', 'CTR_CESSAT',\n",
       "       'ACT_CODACT', 'CTR_OBLDIR', 'CTR_OBLACP', 'CTR_OBLRES', 'CTR_OBLFOP',\n",
       "       ...\n",
       "       'target', 'FAC_MNTPRI_F', 'FAC_MFODEC_F', 'FAC_MNTDCO_F',\n",
       "       'FAC_MNTTVA_F', 'FAC_MNTPRI_C', 'FAC_MFODEC_C', 'FAC_MNTDCO_C',\n",
       "       'FAC_MNTTVA_C', 'id'],\n",
       "      dtype='object', length=121)"
      ]
     },
     "execution_count": 4,
     "metadata": {},
     "output_type": "execute_result"
    }
   ],
   "source": [
    "dx.columns"
   ]
  },
  {
   "cell_type": "code",
   "execution_count": 5,
   "metadata": {
    "ExecuteTime": {
     "end_time": "2021-01-08T09:16:44.672997Z",
     "start_time": "2021-01-08T09:16:44.658925Z"
    }
   },
   "outputs": [],
   "source": [
    "tittles=list(dx.columns)\n",
    "tittles[1],tittles[111]=tittles[111],tittles[1]\n",
    "dx=dx[tittles]"
   ]
  },
  {
   "cell_type": "code",
   "execution_count": 6,
   "metadata": {
    "ExecuteTime": {
     "end_time": "2021-01-08T09:16:45.986703Z",
     "start_time": "2021-01-08T09:16:45.979876Z"
    }
   },
   "outputs": [
    {
     "data": {
      "text/plain": [
       "Index(['BCT_CODBUR', 'target', 'CTR_CATEGO_X', 'FJU_CODFJU', 'CTR_CESSAT',\n",
       "       'ACT_CODACT', 'CTR_OBLDIR', 'CTR_OBLACP', 'CTR_OBLRES', 'CTR_OBLFOP',\n",
       "       ...\n",
       "       'CTR_MATFIS', 'FAC_MNTPRI_F', 'FAC_MFODEC_F', 'FAC_MNTDCO_F',\n",
       "       'FAC_MNTTVA_F', 'FAC_MNTPRI_C', 'FAC_MFODEC_C', 'FAC_MNTDCO_C',\n",
       "       'FAC_MNTTVA_C', 'id'],\n",
       "      dtype='object', length=121)"
      ]
     },
     "execution_count": 6,
     "metadata": {},
     "output_type": "execute_result"
    }
   ],
   "source": [
    "dx.columns"
   ]
  },
  {
   "cell_type": "code",
   "execution_count": 7,
   "metadata": {
    "ExecuteTime": {
     "end_time": "2021-01-08T09:16:47.308046Z",
     "start_time": "2021-01-08T09:16:47.291553Z"
    }
   },
   "outputs": [
    {
     "name": "stdout",
     "output_type": "stream",
     "text": [
      "<class 'pandas.core.frame.DataFrame'>\n",
      "RangeIndex: 21295 entries, 0 to 21294\n",
      "Columns: 121 entries, BCT_CODBUR to id\n",
      "dtypes: float64(103), int64(16), object(2)\n",
      "memory usage: 19.7+ MB\n"
     ]
    }
   ],
   "source": [
    "dx.info()"
   ]
  },
  {
   "cell_type": "code",
   "execution_count": 8,
   "metadata": {
    "ExecuteTime": {
     "end_time": "2021-01-08T09:16:49.097195Z",
     "start_time": "2021-01-08T09:16:48.545531Z"
    }
   },
   "outputs": [
    {
     "data": {
      "text/html": [
       "<div>\n",
       "<style scoped>\n",
       "    .dataframe tbody tr th:only-of-type {\n",
       "        vertical-align: middle;\n",
       "    }\n",
       "\n",
       "    .dataframe tbody tr th {\n",
       "        vertical-align: top;\n",
       "    }\n",
       "\n",
       "    .dataframe thead th {\n",
       "        text-align: right;\n",
       "    }\n",
       "</style>\n",
       "<table border=\"1\" class=\"dataframe\">\n",
       "  <thead>\n",
       "    <tr style=\"text-align: right;\">\n",
       "      <th></th>\n",
       "      <th>BCT_CODBUR</th>\n",
       "      <th>target</th>\n",
       "      <th>FJU_CODFJU</th>\n",
       "      <th>CTR_CESSAT</th>\n",
       "      <th>ACT_CODACT</th>\n",
       "      <th>CTR_OBLDIR</th>\n",
       "      <th>CTR_OBLACP</th>\n",
       "      <th>CTR_OBLRES</th>\n",
       "      <th>CTR_OBLFOP</th>\n",
       "      <th>CTR_OBLTFP</th>\n",
       "      <th>...</th>\n",
       "      <th>RES_ANNIMP</th>\n",
       "      <th>CTR_MATFIS</th>\n",
       "      <th>FAC_MNTPRI_F</th>\n",
       "      <th>FAC_MFODEC_F</th>\n",
       "      <th>FAC_MNTDCO_F</th>\n",
       "      <th>FAC_MNTTVA_F</th>\n",
       "      <th>FAC_MNTPRI_C</th>\n",
       "      <th>FAC_MFODEC_C</th>\n",
       "      <th>FAC_MNTDCO_C</th>\n",
       "      <th>FAC_MNTTVA_C</th>\n",
       "    </tr>\n",
       "  </thead>\n",
       "  <tbody>\n",
       "    <tr>\n",
       "      <th>count</th>\n",
       "      <td>21295.000000</td>\n",
       "      <td>21295.000000</td>\n",
       "      <td>21295.000000</td>\n",
       "      <td>21295.000000</td>\n",
       "      <td>21295.000000</td>\n",
       "      <td>21295.000000</td>\n",
       "      <td>21295.000000</td>\n",
       "      <td>21295.000000</td>\n",
       "      <td>21295.000000</td>\n",
       "      <td>21295.000000</td>\n",
       "      <td>...</td>\n",
       "      <td>21295.000000</td>\n",
       "      <td>21295.000000</td>\n",
       "      <td>1.820000e+03</td>\n",
       "      <td>1.820000e+03</td>\n",
       "      <td>1.820000e+03</td>\n",
       "      <td>1.820000e+03</td>\n",
       "      <td>2.113000e+03</td>\n",
       "      <td>2.113000e+03</td>\n",
       "      <td>2.113000e+03</td>\n",
       "      <td>2.113000e+03</td>\n",
       "    </tr>\n",
       "    <tr>\n",
       "      <th>mean</th>\n",
       "      <td>214.935807</td>\n",
       "      <td>11.780084</td>\n",
       "      <td>59.580888</td>\n",
       "      <td>0.048509</td>\n",
       "      <td>4821.595445</td>\n",
       "      <td>4.454191</td>\n",
       "      <td>1.959850</td>\n",
       "      <td>1.977319</td>\n",
       "      <td>1.928105</td>\n",
       "      <td>1.949096</td>\n",
       "      <td>...</td>\n",
       "      <td>2014.508852</td>\n",
       "      <td>7797.448697</td>\n",
       "      <td>9.471275e+09</td>\n",
       "      <td>6.632605e+06</td>\n",
       "      <td>9.306873e+04</td>\n",
       "      <td>4.903870e+08</td>\n",
       "      <td>8.420356e+08</td>\n",
       "      <td>1.489097e+06</td>\n",
       "      <td>3.191820e+04</td>\n",
       "      <td>1.386915e+08</td>\n",
       "    </tr>\n",
       "    <tr>\n",
       "      <th>std</th>\n",
       "      <td>162.992837</td>\n",
       "      <td>7.085772</td>\n",
       "      <td>38.542427</td>\n",
       "      <td>0.228200</td>\n",
       "      <td>1168.628546</td>\n",
       "      <td>1.205500</td>\n",
       "      <td>0.196316</td>\n",
       "      <td>0.154462</td>\n",
       "      <td>0.263361</td>\n",
       "      <td>0.221933</td>\n",
       "      <td>...</td>\n",
       "      <td>1.332947</td>\n",
       "      <td>4484.430937</td>\n",
       "      <td>1.297572e+11</td>\n",
       "      <td>2.091579e+08</td>\n",
       "      <td>3.596381e+06</td>\n",
       "      <td>4.739676e+09</td>\n",
       "      <td>4.107717e+09</td>\n",
       "      <td>1.733094e+07</td>\n",
       "      <td>7.106121e+05</td>\n",
       "      <td>7.148914e+08</td>\n",
       "    </tr>\n",
       "    <tr>\n",
       "      <th>min</th>\n",
       "      <td>9.000000</td>\n",
       "      <td>0.000000</td>\n",
       "      <td>10.000000</td>\n",
       "      <td>0.000000</td>\n",
       "      <td>1002.000000</td>\n",
       "      <td>1.000000</td>\n",
       "      <td>1.000000</td>\n",
       "      <td>1.000000</td>\n",
       "      <td>1.000000</td>\n",
       "      <td>1.000000</td>\n",
       "      <td>...</td>\n",
       "      <td>2013.000000</td>\n",
       "      <td>1.000000</td>\n",
       "      <td>2.173000e+04</td>\n",
       "      <td>0.000000e+00</td>\n",
       "      <td>0.000000e+00</td>\n",
       "      <td>0.000000e+00</td>\n",
       "      <td>4.910000e+02</td>\n",
       "      <td>0.000000e+00</td>\n",
       "      <td>0.000000e+00</td>\n",
       "      <td>0.000000e+00</td>\n",
       "    </tr>\n",
       "    <tr>\n",
       "      <th>25%</th>\n",
       "      <td>92.000000</td>\n",
       "      <td>0.000000</td>\n",
       "      <td>22.000000</td>\n",
       "      <td>0.000000</td>\n",
       "      <td>4203.000000</td>\n",
       "      <td>4.000000</td>\n",
       "      <td>2.000000</td>\n",
       "      <td>2.000000</td>\n",
       "      <td>2.000000</td>\n",
       "      <td>2.000000</td>\n",
       "      <td>...</td>\n",
       "      <td>2013.000000</td>\n",
       "      <td>3944.000000</td>\n",
       "      <td>3.024577e+07</td>\n",
       "      <td>0.000000e+00</td>\n",
       "      <td>0.000000e+00</td>\n",
       "      <td>4.360140e+06</td>\n",
       "      <td>1.906574e+07</td>\n",
       "      <td>0.000000e+00</td>\n",
       "      <td>0.000000e+00</td>\n",
       "      <td>2.927028e+06</td>\n",
       "    </tr>\n",
       "    <tr>\n",
       "      <th>50%</th>\n",
       "      <td>182.000000</td>\n",
       "      <td>14.981121</td>\n",
       "      <td>23.000000</td>\n",
       "      <td>0.000000</td>\n",
       "      <td>4417.000000</td>\n",
       "      <td>4.000000</td>\n",
       "      <td>2.000000</td>\n",
       "      <td>2.000000</td>\n",
       "      <td>2.000000</td>\n",
       "      <td>2.000000</td>\n",
       "      <td>...</td>\n",
       "      <td>2014.000000</td>\n",
       "      <td>7817.000000</td>\n",
       "      <td>1.997162e+08</td>\n",
       "      <td>0.000000e+00</td>\n",
       "      <td>0.000000e+00</td>\n",
       "      <td>2.989651e+07</td>\n",
       "      <td>5.594731e+07</td>\n",
       "      <td>0.000000e+00</td>\n",
       "      <td>0.000000e+00</td>\n",
       "      <td>8.642968e+06</td>\n",
       "    </tr>\n",
       "    <tr>\n",
       "      <th>75%</th>\n",
       "      <td>254.000000</td>\n",
       "      <td>16.625623</td>\n",
       "      <td>99.000000</td>\n",
       "      <td>0.000000</td>\n",
       "      <td>6102.000000</td>\n",
       "      <td>4.000000</td>\n",
       "      <td>2.000000</td>\n",
       "      <td>2.000000</td>\n",
       "      <td>2.000000</td>\n",
       "      <td>2.000000</td>\n",
       "      <td>...</td>\n",
       "      <td>2015.000000</td>\n",
       "      <td>11695.500000</td>\n",
       "      <td>9.257110e+08</td>\n",
       "      <td>0.000000e+00</td>\n",
       "      <td>0.000000e+00</td>\n",
       "      <td>1.426512e+08</td>\n",
       "      <td>2.707424e+08</td>\n",
       "      <td>0.000000e+00</td>\n",
       "      <td>0.000000e+00</td>\n",
       "      <td>4.414594e+07</td>\n",
       "    </tr>\n",
       "    <tr>\n",
       "      <th>max</th>\n",
       "      <td>700.000000</td>\n",
       "      <td>23.591334</td>\n",
       "      <td>99.000000</td>\n",
       "      <td>2.000000</td>\n",
       "      <td>8999.000000</td>\n",
       "      <td>9.000000</td>\n",
       "      <td>2.000000</td>\n",
       "      <td>5.000000</td>\n",
       "      <td>5.000000</td>\n",
       "      <td>3.000000</td>\n",
       "      <td>...</td>\n",
       "      <td>2018.000000</td>\n",
       "      <td>15603.000000</td>\n",
       "      <td>3.414507e+12</td>\n",
       "      <td>8.897885e+09</td>\n",
       "      <td>1.529912e+08</td>\n",
       "      <td>1.608777e+11</td>\n",
       "      <td>8.351128e+10</td>\n",
       "      <td>4.044067e+08</td>\n",
       "      <td>2.614500e+07</td>\n",
       "      <td>1.352152e+10</td>\n",
       "    </tr>\n",
       "  </tbody>\n",
       "</table>\n",
       "<p>8 rows × 119 columns</p>\n",
       "</div>"
      ],
      "text/plain": [
       "         BCT_CODBUR        target    FJU_CODFJU    CTR_CESSAT    ACT_CODACT  \\\n",
       "count  21295.000000  21295.000000  21295.000000  21295.000000  21295.000000   \n",
       "mean     214.935807     11.780084     59.580888      0.048509   4821.595445   \n",
       "std      162.992837      7.085772     38.542427      0.228200   1168.628546   \n",
       "min        9.000000      0.000000     10.000000      0.000000   1002.000000   \n",
       "25%       92.000000      0.000000     22.000000      0.000000   4203.000000   \n",
       "50%      182.000000     14.981121     23.000000      0.000000   4417.000000   \n",
       "75%      254.000000     16.625623     99.000000      0.000000   6102.000000   \n",
       "max      700.000000     23.591334     99.000000      2.000000   8999.000000   \n",
       "\n",
       "         CTR_OBLDIR    CTR_OBLACP    CTR_OBLRES    CTR_OBLFOP    CTR_OBLTFP  \\\n",
       "count  21295.000000  21295.000000  21295.000000  21295.000000  21295.000000   \n",
       "mean       4.454191      1.959850      1.977319      1.928105      1.949096   \n",
       "std        1.205500      0.196316      0.154462      0.263361      0.221933   \n",
       "min        1.000000      1.000000      1.000000      1.000000      1.000000   \n",
       "25%        4.000000      2.000000      2.000000      2.000000      2.000000   \n",
       "50%        4.000000      2.000000      2.000000      2.000000      2.000000   \n",
       "75%        4.000000      2.000000      2.000000      2.000000      2.000000   \n",
       "max        9.000000      2.000000      5.000000      5.000000      3.000000   \n",
       "\n",
       "       ...    RES_ANNIMP    CTR_MATFIS  FAC_MNTPRI_F  FAC_MFODEC_F  \\\n",
       "count  ...  21295.000000  21295.000000  1.820000e+03  1.820000e+03   \n",
       "mean   ...   2014.508852   7797.448697  9.471275e+09  6.632605e+06   \n",
       "std    ...      1.332947   4484.430937  1.297572e+11  2.091579e+08   \n",
       "min    ...   2013.000000      1.000000  2.173000e+04  0.000000e+00   \n",
       "25%    ...   2013.000000   3944.000000  3.024577e+07  0.000000e+00   \n",
       "50%    ...   2014.000000   7817.000000  1.997162e+08  0.000000e+00   \n",
       "75%    ...   2015.000000  11695.500000  9.257110e+08  0.000000e+00   \n",
       "max    ...   2018.000000  15603.000000  3.414507e+12  8.897885e+09   \n",
       "\n",
       "       FAC_MNTDCO_F  FAC_MNTTVA_F  FAC_MNTPRI_C  FAC_MFODEC_C  FAC_MNTDCO_C  \\\n",
       "count  1.820000e+03  1.820000e+03  2.113000e+03  2.113000e+03  2.113000e+03   \n",
       "mean   9.306873e+04  4.903870e+08  8.420356e+08  1.489097e+06  3.191820e+04   \n",
       "std    3.596381e+06  4.739676e+09  4.107717e+09  1.733094e+07  7.106121e+05   \n",
       "min    0.000000e+00  0.000000e+00  4.910000e+02  0.000000e+00  0.000000e+00   \n",
       "25%    0.000000e+00  4.360140e+06  1.906574e+07  0.000000e+00  0.000000e+00   \n",
       "50%    0.000000e+00  2.989651e+07  5.594731e+07  0.000000e+00  0.000000e+00   \n",
       "75%    0.000000e+00  1.426512e+08  2.707424e+08  0.000000e+00  0.000000e+00   \n",
       "max    1.529912e+08  1.608777e+11  8.351128e+10  4.044067e+08  2.614500e+07   \n",
       "\n",
       "       FAC_MNTTVA_C  \n",
       "count  2.113000e+03  \n",
       "mean   1.386915e+08  \n",
       "std    7.148914e+08  \n",
       "min    0.000000e+00  \n",
       "25%    2.927028e+06  \n",
       "50%    8.642968e+06  \n",
       "75%    4.414594e+07  \n",
       "max    1.352152e+10  \n",
       "\n",
       "[8 rows x 119 columns]"
      ]
     },
     "execution_count": 8,
     "metadata": {},
     "output_type": "execute_result"
    }
   ],
   "source": [
    "dx.describe()"
   ]
  },
  {
   "cell_type": "code",
   "execution_count": 9,
   "metadata": {
    "ExecuteTime": {
     "end_time": "2021-01-08T09:16:51.365902Z",
     "start_time": "2021-01-08T09:16:50.943545Z"
    }
   },
   "outputs": [
    {
     "data": {
      "text/html": [
       "<div>\n",
       "<style scoped>\n",
       "    .dataframe tbody tr th:only-of-type {\n",
       "        vertical-align: middle;\n",
       "    }\n",
       "\n",
       "    .dataframe tbody tr th {\n",
       "        vertical-align: top;\n",
       "    }\n",
       "\n",
       "    .dataframe thead th {\n",
       "        text-align: right;\n",
       "    }\n",
       "</style>\n",
       "<table border=\"1\" class=\"dataframe\">\n",
       "  <thead>\n",
       "    <tr style=\"text-align: right;\">\n",
       "      <th></th>\n",
       "      <th>BCT_CODBUR</th>\n",
       "      <th>target</th>\n",
       "      <th>FJU_CODFJU</th>\n",
       "      <th>CTR_CESSAT</th>\n",
       "      <th>ACT_CODACT</th>\n",
       "      <th>CTR_OBLDIR</th>\n",
       "      <th>CTR_OBLACP</th>\n",
       "      <th>CTR_OBLRES</th>\n",
       "      <th>CTR_OBLFOP</th>\n",
       "      <th>CTR_OBLTFP</th>\n",
       "      <th>...</th>\n",
       "      <th>RES_ANNIMP</th>\n",
       "      <th>CTR_MATFIS</th>\n",
       "      <th>FAC_MNTPRI_F</th>\n",
       "      <th>FAC_MFODEC_F</th>\n",
       "      <th>FAC_MNTDCO_F</th>\n",
       "      <th>FAC_MNTTVA_F</th>\n",
       "      <th>FAC_MNTPRI_C</th>\n",
       "      <th>FAC_MFODEC_C</th>\n",
       "      <th>FAC_MNTDCO_C</th>\n",
       "      <th>FAC_MNTTVA_C</th>\n",
       "    </tr>\n",
       "  </thead>\n",
       "  <tbody>\n",
       "    <tr>\n",
       "      <th>count</th>\n",
       "      <td>21295.000000</td>\n",
       "      <td>21295.000000</td>\n",
       "      <td>21295.000000</td>\n",
       "      <td>21295.000000</td>\n",
       "      <td>21295.000000</td>\n",
       "      <td>21295.000000</td>\n",
       "      <td>21295.000000</td>\n",
       "      <td>21295.000000</td>\n",
       "      <td>21295.000000</td>\n",
       "      <td>21295.000000</td>\n",
       "      <td>...</td>\n",
       "      <td>21295.000000</td>\n",
       "      <td>21295.000000</td>\n",
       "      <td>1.820000e+03</td>\n",
       "      <td>1.820000e+03</td>\n",
       "      <td>1.820000e+03</td>\n",
       "      <td>1.820000e+03</td>\n",
       "      <td>2.113000e+03</td>\n",
       "      <td>2.113000e+03</td>\n",
       "      <td>2.113000e+03</td>\n",
       "      <td>2.113000e+03</td>\n",
       "    </tr>\n",
       "    <tr>\n",
       "      <th>mean</th>\n",
       "      <td>214.935807</td>\n",
       "      <td>11.780084</td>\n",
       "      <td>59.580888</td>\n",
       "      <td>0.048509</td>\n",
       "      <td>4821.595445</td>\n",
       "      <td>4.454191</td>\n",
       "      <td>1.959850</td>\n",
       "      <td>1.977319</td>\n",
       "      <td>1.928105</td>\n",
       "      <td>1.949096</td>\n",
       "      <td>...</td>\n",
       "      <td>2014.508852</td>\n",
       "      <td>7797.448697</td>\n",
       "      <td>9.471275e+09</td>\n",
       "      <td>6.632605e+06</td>\n",
       "      <td>9.306873e+04</td>\n",
       "      <td>4.903870e+08</td>\n",
       "      <td>8.420356e+08</td>\n",
       "      <td>1.489097e+06</td>\n",
       "      <td>3.191820e+04</td>\n",
       "      <td>1.386915e+08</td>\n",
       "    </tr>\n",
       "    <tr>\n",
       "      <th>std</th>\n",
       "      <td>162.992837</td>\n",
       "      <td>7.085772</td>\n",
       "      <td>38.542427</td>\n",
       "      <td>0.228200</td>\n",
       "      <td>1168.628546</td>\n",
       "      <td>1.205500</td>\n",
       "      <td>0.196316</td>\n",
       "      <td>0.154462</td>\n",
       "      <td>0.263361</td>\n",
       "      <td>0.221933</td>\n",
       "      <td>...</td>\n",
       "      <td>1.332947</td>\n",
       "      <td>4484.430937</td>\n",
       "      <td>1.297572e+11</td>\n",
       "      <td>2.091579e+08</td>\n",
       "      <td>3.596381e+06</td>\n",
       "      <td>4.739676e+09</td>\n",
       "      <td>4.107717e+09</td>\n",
       "      <td>1.733094e+07</td>\n",
       "      <td>7.106121e+05</td>\n",
       "      <td>7.148914e+08</td>\n",
       "    </tr>\n",
       "    <tr>\n",
       "      <th>min</th>\n",
       "      <td>9.000000</td>\n",
       "      <td>0.000000</td>\n",
       "      <td>10.000000</td>\n",
       "      <td>0.000000</td>\n",
       "      <td>1002.000000</td>\n",
       "      <td>1.000000</td>\n",
       "      <td>1.000000</td>\n",
       "      <td>1.000000</td>\n",
       "      <td>1.000000</td>\n",
       "      <td>1.000000</td>\n",
       "      <td>...</td>\n",
       "      <td>2013.000000</td>\n",
       "      <td>1.000000</td>\n",
       "      <td>2.173000e+04</td>\n",
       "      <td>0.000000e+00</td>\n",
       "      <td>0.000000e+00</td>\n",
       "      <td>0.000000e+00</td>\n",
       "      <td>4.910000e+02</td>\n",
       "      <td>0.000000e+00</td>\n",
       "      <td>0.000000e+00</td>\n",
       "      <td>0.000000e+00</td>\n",
       "    </tr>\n",
       "    <tr>\n",
       "      <th>25%</th>\n",
       "      <td>92.000000</td>\n",
       "      <td>0.000000</td>\n",
       "      <td>22.000000</td>\n",
       "      <td>0.000000</td>\n",
       "      <td>4203.000000</td>\n",
       "      <td>4.000000</td>\n",
       "      <td>2.000000</td>\n",
       "      <td>2.000000</td>\n",
       "      <td>2.000000</td>\n",
       "      <td>2.000000</td>\n",
       "      <td>...</td>\n",
       "      <td>2013.000000</td>\n",
       "      <td>3944.000000</td>\n",
       "      <td>3.024577e+07</td>\n",
       "      <td>0.000000e+00</td>\n",
       "      <td>0.000000e+00</td>\n",
       "      <td>4.360140e+06</td>\n",
       "      <td>1.906574e+07</td>\n",
       "      <td>0.000000e+00</td>\n",
       "      <td>0.000000e+00</td>\n",
       "      <td>2.927028e+06</td>\n",
       "    </tr>\n",
       "    <tr>\n",
       "      <th>50%</th>\n",
       "      <td>182.000000</td>\n",
       "      <td>14.981121</td>\n",
       "      <td>23.000000</td>\n",
       "      <td>0.000000</td>\n",
       "      <td>4417.000000</td>\n",
       "      <td>4.000000</td>\n",
       "      <td>2.000000</td>\n",
       "      <td>2.000000</td>\n",
       "      <td>2.000000</td>\n",
       "      <td>2.000000</td>\n",
       "      <td>...</td>\n",
       "      <td>2014.000000</td>\n",
       "      <td>7817.000000</td>\n",
       "      <td>1.997162e+08</td>\n",
       "      <td>0.000000e+00</td>\n",
       "      <td>0.000000e+00</td>\n",
       "      <td>2.989651e+07</td>\n",
       "      <td>5.594731e+07</td>\n",
       "      <td>0.000000e+00</td>\n",
       "      <td>0.000000e+00</td>\n",
       "      <td>8.642968e+06</td>\n",
       "    </tr>\n",
       "    <tr>\n",
       "      <th>75%</th>\n",
       "      <td>254.000000</td>\n",
       "      <td>16.625623</td>\n",
       "      <td>99.000000</td>\n",
       "      <td>0.000000</td>\n",
       "      <td>6102.000000</td>\n",
       "      <td>4.000000</td>\n",
       "      <td>2.000000</td>\n",
       "      <td>2.000000</td>\n",
       "      <td>2.000000</td>\n",
       "      <td>2.000000</td>\n",
       "      <td>...</td>\n",
       "      <td>2015.000000</td>\n",
       "      <td>11695.500000</td>\n",
       "      <td>9.257110e+08</td>\n",
       "      <td>0.000000e+00</td>\n",
       "      <td>0.000000e+00</td>\n",
       "      <td>1.426512e+08</td>\n",
       "      <td>2.707424e+08</td>\n",
       "      <td>0.000000e+00</td>\n",
       "      <td>0.000000e+00</td>\n",
       "      <td>4.414594e+07</td>\n",
       "    </tr>\n",
       "    <tr>\n",
       "      <th>max</th>\n",
       "      <td>700.000000</td>\n",
       "      <td>23.591334</td>\n",
       "      <td>99.000000</td>\n",
       "      <td>2.000000</td>\n",
       "      <td>8999.000000</td>\n",
       "      <td>9.000000</td>\n",
       "      <td>2.000000</td>\n",
       "      <td>5.000000</td>\n",
       "      <td>5.000000</td>\n",
       "      <td>3.000000</td>\n",
       "      <td>...</td>\n",
       "      <td>2018.000000</td>\n",
       "      <td>15603.000000</td>\n",
       "      <td>3.414507e+12</td>\n",
       "      <td>8.897885e+09</td>\n",
       "      <td>1.529912e+08</td>\n",
       "      <td>1.608777e+11</td>\n",
       "      <td>8.351128e+10</td>\n",
       "      <td>4.044067e+08</td>\n",
       "      <td>2.614500e+07</td>\n",
       "      <td>1.352152e+10</td>\n",
       "    </tr>\n",
       "  </tbody>\n",
       "</table>\n",
       "<p>8 rows × 119 columns</p>\n",
       "</div>"
      ],
      "text/plain": [
       "         BCT_CODBUR        target    FJU_CODFJU    CTR_CESSAT    ACT_CODACT  \\\n",
       "count  21295.000000  21295.000000  21295.000000  21295.000000  21295.000000   \n",
       "mean     214.935807     11.780084     59.580888      0.048509   4821.595445   \n",
       "std      162.992837      7.085772     38.542427      0.228200   1168.628546   \n",
       "min        9.000000      0.000000     10.000000      0.000000   1002.000000   \n",
       "25%       92.000000      0.000000     22.000000      0.000000   4203.000000   \n",
       "50%      182.000000     14.981121     23.000000      0.000000   4417.000000   \n",
       "75%      254.000000     16.625623     99.000000      0.000000   6102.000000   \n",
       "max      700.000000     23.591334     99.000000      2.000000   8999.000000   \n",
       "\n",
       "         CTR_OBLDIR    CTR_OBLACP    CTR_OBLRES    CTR_OBLFOP    CTR_OBLTFP  \\\n",
       "count  21295.000000  21295.000000  21295.000000  21295.000000  21295.000000   \n",
       "mean       4.454191      1.959850      1.977319      1.928105      1.949096   \n",
       "std        1.205500      0.196316      0.154462      0.263361      0.221933   \n",
       "min        1.000000      1.000000      1.000000      1.000000      1.000000   \n",
       "25%        4.000000      2.000000      2.000000      2.000000      2.000000   \n",
       "50%        4.000000      2.000000      2.000000      2.000000      2.000000   \n",
       "75%        4.000000      2.000000      2.000000      2.000000      2.000000   \n",
       "max        9.000000      2.000000      5.000000      5.000000      3.000000   \n",
       "\n",
       "       ...    RES_ANNIMP    CTR_MATFIS  FAC_MNTPRI_F  FAC_MFODEC_F  \\\n",
       "count  ...  21295.000000  21295.000000  1.820000e+03  1.820000e+03   \n",
       "mean   ...   2014.508852   7797.448697  9.471275e+09  6.632605e+06   \n",
       "std    ...      1.332947   4484.430937  1.297572e+11  2.091579e+08   \n",
       "min    ...   2013.000000      1.000000  2.173000e+04  0.000000e+00   \n",
       "25%    ...   2013.000000   3944.000000  3.024577e+07  0.000000e+00   \n",
       "50%    ...   2014.000000   7817.000000  1.997162e+08  0.000000e+00   \n",
       "75%    ...   2015.000000  11695.500000  9.257110e+08  0.000000e+00   \n",
       "max    ...   2018.000000  15603.000000  3.414507e+12  8.897885e+09   \n",
       "\n",
       "       FAC_MNTDCO_F  FAC_MNTTVA_F  FAC_MNTPRI_C  FAC_MFODEC_C  FAC_MNTDCO_C  \\\n",
       "count  1.820000e+03  1.820000e+03  2.113000e+03  2.113000e+03  2.113000e+03   \n",
       "mean   9.306873e+04  4.903870e+08  8.420356e+08  1.489097e+06  3.191820e+04   \n",
       "std    3.596381e+06  4.739676e+09  4.107717e+09  1.733094e+07  7.106121e+05   \n",
       "min    0.000000e+00  0.000000e+00  4.910000e+02  0.000000e+00  0.000000e+00   \n",
       "25%    0.000000e+00  4.360140e+06  1.906574e+07  0.000000e+00  0.000000e+00   \n",
       "50%    0.000000e+00  2.989651e+07  5.594731e+07  0.000000e+00  0.000000e+00   \n",
       "75%    0.000000e+00  1.426512e+08  2.707424e+08  0.000000e+00  0.000000e+00   \n",
       "max    1.529912e+08  1.608777e+11  8.351128e+10  4.044067e+08  2.614500e+07   \n",
       "\n",
       "       FAC_MNTTVA_C  \n",
       "count  2.113000e+03  \n",
       "mean   1.386915e+08  \n",
       "std    7.148914e+08  \n",
       "min    0.000000e+00  \n",
       "25%    2.927028e+06  \n",
       "50%    8.642968e+06  \n",
       "75%    4.414594e+07  \n",
       "max    1.352152e+10  \n",
       "\n",
       "[8 rows x 119 columns]"
      ]
     },
     "execution_count": 9,
     "metadata": {},
     "output_type": "execute_result"
    }
   ],
   "source": [
    "dx.describe()"
   ]
  },
  {
   "cell_type": "code",
   "execution_count": 10,
   "metadata": {
    "ExecuteTime": {
     "end_time": "2021-01-08T09:16:52.299780Z",
     "start_time": "2021-01-08T09:16:52.282850Z"
    }
   },
   "outputs": [
    {
     "data": {
      "text/plain": [
       "BCT_CODBUR          0\n",
       "target              0\n",
       "CTR_CATEGO_X        0\n",
       "FJU_CODFJU          0\n",
       "CTR_CESSAT          0\n",
       "                ...  \n",
       "FAC_MNTPRI_C    19182\n",
       "FAC_MFODEC_C    19182\n",
       "FAC_MNTDCO_C    19182\n",
       "FAC_MNTTVA_C    19182\n",
       "id                  0\n",
       "Length: 121, dtype: int64"
      ]
     },
     "execution_count": 10,
     "metadata": {},
     "output_type": "execute_result"
    }
   ],
   "source": [
    "#clean it, do an EDA\n",
    "dx.isnull().sum()"
   ]
  },
  {
   "cell_type": "code",
   "execution_count": 11,
   "metadata": {
    "ExecuteTime": {
     "end_time": "2021-01-08T09:16:53.320929Z",
     "start_time": "2021-01-08T09:16:53.313675Z"
    }
   },
   "outputs": [],
   "source": [
    "#then select the first 13 columns , use the column \"targets\" as the Y, the 13 columnsuse them as the x predictors \n",
    "\n",
    "df=dx[dx.columns[:13]] "
   ]
  },
  {
   "cell_type": "code",
   "execution_count": 12,
   "metadata": {
    "ExecuteTime": {
     "end_time": "2021-01-08T09:16:54.851624Z",
     "start_time": "2021-01-08T09:16:54.848309Z"
    }
   },
   "outputs": [],
   "source": [
    "#df['target']=df.target.astype(int)"
   ]
  },
  {
   "cell_type": "code",
   "execution_count": 13,
   "metadata": {
    "ExecuteTime": {
     "end_time": "2021-01-08T09:16:55.957503Z",
     "start_time": "2021-01-08T09:16:55.930319Z"
    },
    "scrolled": true
   },
   "outputs": [
    {
     "data": {
      "text/html": [
       "<div>\n",
       "<style scoped>\n",
       "    .dataframe tbody tr th:only-of-type {\n",
       "        vertical-align: middle;\n",
       "    }\n",
       "\n",
       "    .dataframe tbody tr th {\n",
       "        vertical-align: top;\n",
       "    }\n",
       "\n",
       "    .dataframe thead th {\n",
       "        text-align: right;\n",
       "    }\n",
       "</style>\n",
       "<table border=\"1\" class=\"dataframe\">\n",
       "  <thead>\n",
       "    <tr style=\"text-align: right;\">\n",
       "      <th></th>\n",
       "      <th>BCT_CODBUR</th>\n",
       "      <th>target</th>\n",
       "      <th>CTR_CATEGO_X</th>\n",
       "      <th>FJU_CODFJU</th>\n",
       "      <th>CTR_CESSAT</th>\n",
       "      <th>ACT_CODACT</th>\n",
       "      <th>CTR_OBLDIR</th>\n",
       "      <th>CTR_OBLACP</th>\n",
       "      <th>CTR_OBLRES</th>\n",
       "      <th>CTR_OBLFOP</th>\n",
       "      <th>CTR_OBLTFP</th>\n",
       "      <th>CTR_OBLDCO</th>\n",
       "      <th>CTR_OBLTVA</th>\n",
       "    </tr>\n",
       "  </thead>\n",
       "  <tbody>\n",
       "    <tr>\n",
       "      <th>0</th>\n",
       "      <td>44</td>\n",
       "      <td>16.639203</td>\n",
       "      <td>C</td>\n",
       "      <td>99</td>\n",
       "      <td>0</td>\n",
       "      <td>3707</td>\n",
       "      <td>4</td>\n",
       "      <td>2</td>\n",
       "      <td>2</td>\n",
       "      <td>2</td>\n",
       "      <td>2</td>\n",
       "      <td>1</td>\n",
       "      <td>2</td>\n",
       "    </tr>\n",
       "    <tr>\n",
       "      <th>1</th>\n",
       "      <td>401</td>\n",
       "      <td>17.827703</td>\n",
       "      <td>M</td>\n",
       "      <td>22</td>\n",
       "      <td>0</td>\n",
       "      <td>6105</td>\n",
       "      <td>4</td>\n",
       "      <td>2</td>\n",
       "      <td>2</td>\n",
       "      <td>2</td>\n",
       "      <td>2</td>\n",
       "      <td>1</td>\n",
       "      <td>2</td>\n",
       "    </tr>\n",
       "    <tr>\n",
       "      <th>2</th>\n",
       "      <td>243</td>\n",
       "      <td>15.473503</td>\n",
       "      <td>M</td>\n",
       "      <td>23</td>\n",
       "      <td>0</td>\n",
       "      <td>5751</td>\n",
       "      <td>4</td>\n",
       "      <td>2</td>\n",
       "      <td>2</td>\n",
       "      <td>2</td>\n",
       "      <td>2</td>\n",
       "      <td>1</td>\n",
       "      <td>2</td>\n",
       "    </tr>\n",
       "    <tr>\n",
       "      <th>3</th>\n",
       "      <td>72</td>\n",
       "      <td>0.000000</td>\n",
       "      <td>C</td>\n",
       "      <td>99</td>\n",
       "      <td>0</td>\n",
       "      <td>4402</td>\n",
       "      <td>4</td>\n",
       "      <td>2</td>\n",
       "      <td>2</td>\n",
       "      <td>2</td>\n",
       "      <td>2</td>\n",
       "      <td>1</td>\n",
       "      <td>2</td>\n",
       "    </tr>\n",
       "    <tr>\n",
       "      <th>4</th>\n",
       "      <td>42</td>\n",
       "      <td>14.286244</td>\n",
       "      <td>M</td>\n",
       "      <td>23</td>\n",
       "      <td>0</td>\n",
       "      <td>6302</td>\n",
       "      <td>4</td>\n",
       "      <td>2</td>\n",
       "      <td>2</td>\n",
       "      <td>2</td>\n",
       "      <td>2</td>\n",
       "      <td>1</td>\n",
       "      <td>2</td>\n",
       "    </tr>\n",
       "  </tbody>\n",
       "</table>\n",
       "</div>"
      ],
      "text/plain": [
       "   BCT_CODBUR     target CTR_CATEGO_X  FJU_CODFJU  CTR_CESSAT  ACT_CODACT  \\\n",
       "0          44  16.639203            C          99           0        3707   \n",
       "1         401  17.827703            M          22           0        6105   \n",
       "2         243  15.473503            M          23           0        5751   \n",
       "3          72   0.000000            C          99           0        4402   \n",
       "4          42  14.286244            M          23           0        6302   \n",
       "\n",
       "   CTR_OBLDIR  CTR_OBLACP  CTR_OBLRES  CTR_OBLFOP  CTR_OBLTFP  CTR_OBLDCO  \\\n",
       "0           4           2           2           2           2           1   \n",
       "1           4           2           2           2           2           1   \n",
       "2           4           2           2           2           2           1   \n",
       "3           4           2           2           2           2           1   \n",
       "4           4           2           2           2           2           1   \n",
       "\n",
       "   CTR_OBLTVA  \n",
       "0           2  \n",
       "1           2  \n",
       "2           2  \n",
       "3           2  \n",
       "4           2  "
      ]
     },
     "execution_count": 13,
     "metadata": {},
     "output_type": "execute_result"
    }
   ],
   "source": [
    "df.head()"
   ]
  },
  {
   "cell_type": "code",
   "execution_count": 14,
   "metadata": {
    "ExecuteTime": {
     "end_time": "2021-01-08T09:16:56.921320Z",
     "start_time": "2021-01-08T09:16:56.898514Z"
    }
   },
   "outputs": [
    {
     "name": "stdout",
     "output_type": "stream",
     "text": [
      "<class 'pandas.core.frame.DataFrame'>\n",
      "RangeIndex: 21295 entries, 0 to 21294\n",
      "Data columns (total 13 columns):\n",
      " #   Column        Non-Null Count  Dtype  \n",
      "---  ------        --------------  -----  \n",
      " 0   BCT_CODBUR    21295 non-null  int64  \n",
      " 1   target        21295 non-null  float64\n",
      " 2   CTR_CATEGO_X  21295 non-null  object \n",
      " 3   FJU_CODFJU    21295 non-null  int64  \n",
      " 4   CTR_CESSAT    21295 non-null  int64  \n",
      " 5   ACT_CODACT    21295 non-null  int64  \n",
      " 6   CTR_OBLDIR    21295 non-null  int64  \n",
      " 7   CTR_OBLACP    21295 non-null  int64  \n",
      " 8   CTR_OBLRES    21295 non-null  int64  \n",
      " 9   CTR_OBLFOP    21295 non-null  int64  \n",
      " 10  CTR_OBLTFP    21295 non-null  int64  \n",
      " 11  CTR_OBLDCO    21295 non-null  int64  \n",
      " 12  CTR_OBLTVA    21295 non-null  int64  \n",
      "dtypes: float64(1), int64(11), object(1)\n",
      "memory usage: 2.1+ MB\n"
     ]
    }
   ],
   "source": [
    "df.info()"
   ]
  },
  {
   "cell_type": "code",
   "execution_count": 15,
   "metadata": {
    "ExecuteTime": {
     "end_time": "2021-01-08T09:16:57.744272Z",
     "start_time": "2021-01-08T09:16:57.732916Z"
    }
   },
   "outputs": [
    {
     "data": {
      "text/plain": [
       "Index(['BCT_CODBUR', 'target', 'CTR_CATEGO_X', 'FJU_CODFJU', 'CTR_CESSAT',\n",
       "       'ACT_CODACT', 'CTR_OBLDIR', 'CTR_OBLACP', 'CTR_OBLRES', 'CTR_OBLFOP',\n",
       "       'CTR_OBLTFP', 'CTR_OBLDCO', 'CTR_OBLTVA'],\n",
       "      dtype='object')"
      ]
     },
     "execution_count": 15,
     "metadata": {},
     "output_type": "execute_result"
    }
   ],
   "source": [
    "df.columns"
   ]
  },
  {
   "cell_type": "code",
   "execution_count": 16,
   "metadata": {
    "ExecuteTime": {
     "end_time": "2021-01-08T09:16:58.424942Z",
     "start_time": "2021-01-08T09:16:58.415512Z"
    }
   },
   "outputs": [],
   "source": [
    "x=df[['BCT_CODBUR','FJU_CODFJU','CTR_CESSAT','ACT_CODACT','CTR_OBLDIR','CTR_OBLACP','CTR_OBLFOP','CTR_OBLRES','CTR_OBLTFP','CTR_OBLDCO','CTR_OBLTVA']]\n",
    "y=df['target']"
   ]
  },
  {
   "cell_type": "code",
   "execution_count": 17,
   "metadata": {
    "ExecuteTime": {
     "end_time": "2021-01-08T09:17:09.200586Z",
     "start_time": "2021-01-08T09:17:08.850933Z"
    }
   },
   "outputs": [],
   "source": [
    "from sklearn.model_selection import train_test_split\n",
    "x_train,x_test,y_train,y_test=train_test_split(x,y,test_size=0.3)"
   ]
  },
  {
   "cell_type": "code",
   "execution_count": 18,
   "metadata": {
    "ExecuteTime": {
     "end_time": "2021-01-08T09:17:14.638491Z",
     "start_time": "2021-01-08T09:17:13.733049Z"
    }
   },
   "outputs": [
    {
     "data": {
      "text/plain": [
       "LinearRegression()"
      ]
     },
     "execution_count": 18,
     "metadata": {},
     "output_type": "execute_result"
    }
   ],
   "source": [
    "# initialize the model\n",
    "from sklearn.linear_model import LinearRegression\n",
    "model = LinearRegression()\n",
    "model.fit(x_train,y_train)"
   ]
  },
  {
   "cell_type": "code",
   "execution_count": 19,
   "metadata": {
    "ExecuteTime": {
     "end_time": "2021-01-08T09:17:14.903755Z",
     "start_time": "2021-01-08T09:17:14.868855Z"
    }
   },
   "outputs": [],
   "source": [
    "#evaluate your ML model.\n",
    "Prediction = model.predict(x_test)\n",
    "from sklearn.metrics import mean_absolute_error"
   ]
  },
  {
   "cell_type": "code",
   "execution_count": 20,
   "metadata": {
    "ExecuteTime": {
     "end_time": "2021-01-08T09:17:18.039277Z",
     "start_time": "2021-01-08T09:17:18.029130Z"
    }
   },
   "outputs": [
    {
     "data": {
      "text/plain": [
       "5.892327887783077"
      ]
     },
     "execution_count": 20,
     "metadata": {},
     "output_type": "execute_result"
    }
   ],
   "source": [
    "mean_absolute_error(Prediction,y_test)"
   ]
  },
  {
   "cell_type": "markdown",
   "metadata": {},
   "source": [
    "# INCLUDE MORE X VARIABLES\n"
   ]
  },
  {
   "cell_type": "code",
   "execution_count": 21,
   "metadata": {},
   "outputs": [],
   "source": [
    "#TRY OTHER MODELS 1. RANDOM FOREST, 2. GRADIENT BOOSTING., 3. SUPPORT VECTOR MACHINE"
   ]
  },
  {
   "cell_type": "code",
   "execution_count": 27,
   "metadata": {},
   "outputs": [
    {
     "data": {
      "text/plain": [
       "4.976058238110712"
      ]
     },
     "execution_count": 27,
     "metadata": {},
     "output_type": "execute_result"
    }
   ],
   "source": [
    "from sklearn.ensemble import GradientBoostingRegressor,RandomForestRegressor\n",
    "model = GradientBoostingRegressor(n_estimators= 100000)\n",
    "model.fit(x_train,y_train)\n",
    "GradientBoostingRegressor(random_state=0)\n",
    "Prediction = model.predict(x_test)\n",
    "from sklearn.metrics import mean_absolute_error\n",
    "mean_absolute_error(Prediction,y_test)"
   ]
  },
  {
   "cell_type": "code",
   "execution_count": 23,
   "metadata": {},
   "outputs": [],
   "source": [
    "import matplotlib.pyplot as plt"
   ]
  },
  {
   "cell_type": "code",
   "execution_count": 24,
   "metadata": {},
   "outputs": [
    {
     "ename": "AttributeError",
     "evalue": "'DataFrame' object has no attribute 'feature_names'",
     "output_type": "error",
     "traceback": [
      "\u001b[1;31m---------------------------------------------------------------------------\u001b[0m",
      "\u001b[1;31mAttributeError\u001b[0m                            Traceback (most recent call last)",
      "\u001b[1;32m<ipython-input-24-06ae8247cb90>\u001b[0m in \u001b[0;36m<module>\u001b[1;34m\u001b[0m\n\u001b[0;32m      5\u001b[0m \u001b[0mplt\u001b[0m\u001b[1;33m.\u001b[0m\u001b[0msubplot\u001b[0m\u001b[1;33m(\u001b[0m\u001b[1;36m1\u001b[0m\u001b[1;33m,\u001b[0m \u001b[1;36m2\u001b[0m\u001b[1;33m,\u001b[0m \u001b[1;36m1\u001b[0m\u001b[1;33m)\u001b[0m\u001b[1;33m\u001b[0m\u001b[1;33m\u001b[0m\u001b[0m\n\u001b[0;32m      6\u001b[0m \u001b[0mplt\u001b[0m\u001b[1;33m.\u001b[0m\u001b[0mbarh\u001b[0m\u001b[1;33m(\u001b[0m\u001b[0mpos\u001b[0m\u001b[1;33m,\u001b[0m \u001b[0mfeature_importance\u001b[0m\u001b[1;33m[\u001b[0m\u001b[0msorted_idx\u001b[0m\u001b[1;33m]\u001b[0m\u001b[1;33m,\u001b[0m \u001b[0malign\u001b[0m\u001b[1;33m=\u001b[0m\u001b[1;34m'center'\u001b[0m\u001b[1;33m)\u001b[0m\u001b[1;33m\u001b[0m\u001b[1;33m\u001b[0m\u001b[0m\n\u001b[1;32m----> 7\u001b[1;33m \u001b[0mplt\u001b[0m\u001b[1;33m.\u001b[0m\u001b[0myticks\u001b[0m\u001b[1;33m(\u001b[0m\u001b[0mpos\u001b[0m\u001b[1;33m,\u001b[0m \u001b[0mnp\u001b[0m\u001b[1;33m.\u001b[0m\u001b[0marray\u001b[0m\u001b[1;33m(\u001b[0m\u001b[0mdf\u001b[0m\u001b[1;33m.\u001b[0m\u001b[0mfeature_names\u001b[0m\u001b[1;33m)\u001b[0m\u001b[1;33m[\u001b[0m\u001b[0msorted_idx\u001b[0m\u001b[1;33m]\u001b[0m\u001b[1;33m)\u001b[0m\u001b[1;33m\u001b[0m\u001b[1;33m\u001b[0m\u001b[0m\n\u001b[0m\u001b[0;32m      8\u001b[0m \u001b[0mplt\u001b[0m\u001b[1;33m.\u001b[0m\u001b[0mtitle\u001b[0m\u001b[1;33m(\u001b[0m\u001b[1;34m'Feature Importance (MDI)'\u001b[0m\u001b[1;33m)\u001b[0m\u001b[1;33m\u001b[0m\u001b[1;33m\u001b[0m\u001b[0m\n\u001b[0;32m      9\u001b[0m \u001b[1;33m\u001b[0m\u001b[0m\n",
      "\u001b[1;32m~\\anaconda\\lib\\site-packages\\pandas\\core\\generic.py\u001b[0m in \u001b[0;36m__getattr__\u001b[1;34m(self, name)\u001b[0m\n\u001b[0;32m   5137\u001b[0m             \u001b[1;32mif\u001b[0m \u001b[0mself\u001b[0m\u001b[1;33m.\u001b[0m\u001b[0m_info_axis\u001b[0m\u001b[1;33m.\u001b[0m\u001b[0m_can_hold_identifiers_and_holds_name\u001b[0m\u001b[1;33m(\u001b[0m\u001b[0mname\u001b[0m\u001b[1;33m)\u001b[0m\u001b[1;33m:\u001b[0m\u001b[1;33m\u001b[0m\u001b[1;33m\u001b[0m\u001b[0m\n\u001b[0;32m   5138\u001b[0m                 \u001b[1;32mreturn\u001b[0m \u001b[0mself\u001b[0m\u001b[1;33m[\u001b[0m\u001b[0mname\u001b[0m\u001b[1;33m]\u001b[0m\u001b[1;33m\u001b[0m\u001b[1;33m\u001b[0m\u001b[0m\n\u001b[1;32m-> 5139\u001b[1;33m             \u001b[1;32mreturn\u001b[0m \u001b[0mobject\u001b[0m\u001b[1;33m.\u001b[0m\u001b[0m__getattribute__\u001b[0m\u001b[1;33m(\u001b[0m\u001b[0mself\u001b[0m\u001b[1;33m,\u001b[0m \u001b[0mname\u001b[0m\u001b[1;33m)\u001b[0m\u001b[1;33m\u001b[0m\u001b[1;33m\u001b[0m\u001b[0m\n\u001b[0m\u001b[0;32m   5140\u001b[0m \u001b[1;33m\u001b[0m\u001b[0m\n\u001b[0;32m   5141\u001b[0m     \u001b[1;32mdef\u001b[0m \u001b[0m__setattr__\u001b[0m\u001b[1;33m(\u001b[0m\u001b[0mself\u001b[0m\u001b[1;33m,\u001b[0m \u001b[0mname\u001b[0m\u001b[1;33m:\u001b[0m \u001b[0mstr\u001b[0m\u001b[1;33m,\u001b[0m \u001b[0mvalue\u001b[0m\u001b[1;33m)\u001b[0m \u001b[1;33m->\u001b[0m \u001b[1;32mNone\u001b[0m\u001b[1;33m:\u001b[0m\u001b[1;33m\u001b[0m\u001b[1;33m\u001b[0m\u001b[0m\n",
      "\u001b[1;31mAttributeError\u001b[0m: 'DataFrame' object has no attribute 'feature_names'"
     ]
    },
    {
     "data": {
      "image/png": "[encoded data removed]",
      "text/plain": [
       "<Figure size 864x432 with 1 Axes>"
      ]
     },
     "metadata": {
      "needs_background": "light"
     },
     "output_type": "display_data"
    }
   ],
   "source": [
    "feature_importance = model.feature_importances_\n",
    "sorted_idx = np.argsort(feature_importance)\n",
    "pos = np.arange(sorted_idx.shape[0]) + .5\n",
    "fig = plt.figure(figsize=(12, 6))\n",
    "plt.subplot(1, 2, 1)\n",
    "plt.barh(pos, feature_importance[sorted_idx], align='center')\n",
    "plt.yticks(pos, np.array(df.feature_names)[sorted_idx])\n",
    "plt.title('Feature Importance (MDI)')\n",
    "\n",
    "result = permutation_importance(reg, X_test, y_test, n_repeats=10,\n",
    "                                random_state=42, n_jobs=2)\n",
    "sorted_idx = result.impo"
   ]
  },
  {
   "cell_type": "code",
   "execution_count": null,
   "metadata": {},
   "outputs": [],
   "source": [
    "import string\n",
    "string.punctuation"
   ]
  },
  {
   "cell_type": "code",
   "execution_count": null,
   "metadata": {},
   "outputs": [],
   "source": [
    "P = pd.DataFrame()\n",
    "D=0"
   ]
  },
  {
   "cell_type": "code",
   "execution_count": null,
   "metadata": {},
   "outputs": [],
   "source": [
    "models = [\n",
    "        GradientBoostingRegressor(n_estimators=10000),\n",
    "          RandomForestRegressor(n_estimators=500),\n",
    "          LinearRegression()\n",
    "         ]\n",
    "for i in models:\n",
    "    i.fit(x_train,y_train)\n",
    "    pred=i.predict(x_test)\n",
    "    P['model'+str(D)]=pred\n",
    "    D+=1\n",
    "    print('finishedtraining:',type(i).__name__)"
   ]
  },
  {
   "cell_type": "code",
   "execution_count": null,
   "metadata": {},
   "outputs": [],
   "source": [
    "#pred=P.mean(axis=1)\n",
    "metamodel=LinearRegression()\n",
    "metamodel.fit(P,y_test)"
   ]
  },
  {
   "cell_type": "code",
   "execution_count": null,
   "metadata": {},
   "outputs": [],
   "source": [
    "pred=metamodel.predict(P)"
   ]
  },
  {
   "cell_type": "code",
   "execution_count": null,
   "metadata": {},
   "outputs": [],
   "source": [
    "mean_absolute_error(pred,y_test)"
   ]
  },
  {
   "cell_type": "markdown",
   "metadata": {},
   "source": [
    "# Testing"
   ]
  },
  {
   "cell_type": "code",
   "execution_count": null,
   "metadata": {},
   "outputs": [],
   "source": [
    "import os\n",
    "os.listdir()"
   ]
  },
  {
   "cell_type": "code",
   "execution_count": null,
   "metadata": {},
   "outputs": [],
   "source": [
    "dt=pd.read_csv('SUPCOM_Test.csv')"
   ]
  },
  {
   "cell_type": "code",
   "execution_count": null,
   "metadata": {},
   "outputs": [],
   "source": [
    "dt=dt[dt.columns[:13]]"
   ]
  },
  {
   "cell_type": "code",
   "execution_count": null,
   "metadata": {},
   "outputs": [],
   "source": [
    "sub = pd.read_csv('SUPCOM_SampleSubmission.csv')"
   ]
  },
  {
   "cell_type": "code",
   "execution_count": null,
   "metadata": {},
   "outputs": [],
   "source": [
    "sub.head()"
   ]
  },
  {
   "cell_type": "code",
   "execution_count": null,
   "metadata": {},
   "outputs": [],
   "source": [
    "dt = dt[['BCT_CODBUR','FJU_CODFJU','CTR_CESSAT','ACT_CODACT','CTR_OBLDIR','CTR_OBLACP','CTR_OBLFOP','CTR_OBLRES','CTR_OBLTFP','CTR_OBLDCO','CTR_OBLTVA']]\n",
    "prediction=model.predict(dt)\n"
   ]
  },
  {
   "cell_type": "code",
   "execution_count": null,
   "metadata": {},
   "outputs": [],
   "source": [
    "sub['target']=prediction"
   ]
  },
  {
   "cell_type": "code",
   "execution_count": null,
   "metadata": {},
   "outputs": [],
   "source": [
    "sub.to_csv(\"sumbission_Njau_GBM.csv\",index=False)"
   ]
  },
  {
   "cell_type": "code",
   "execution_count": null,
   "metadata": {},
   "outputs": [],
   "source": []
  },
  {
   "cell_type": "code",
   "execution_count": null,
   "metadata": {},
   "outputs": [],
   "source": []
  },
  {
   "cell_type": "code",
   "execution_count": null,
   "metadata": {},
   "outputs": [],
   "source": []
  },
  {
   "cell_type": "code",
   "execution_count": null,
   "metadata": {},
   "outputs": [],
   "source": []
  }
 ],
 "metadata": {
  "kernelspec": {
   "display_name": "Python 3",
   "language": "python",
   "name": "python3"
  },
  "language_info": {
   "codemirror_mode": {
    "name": "ipython",
    "version": 3
   },
   "file_extension": ".py",
   "mimetype": "text/x-python",
   "name": "python",
   "nbconvert_exporter": "python",
   "pygments_lexer": "ipython3",
   "version": "3.8.5"
  },
  "toc": {
   "base_numbering": 1,
   "nav_menu": {},
   "number_sections": true,
   "sideBar": true,
   "skip_h1_title": false,
   "title_cell": "Table of Contents",
   "title_sidebar": "Contents",
   "toc_cell": false,
   "toc_position": {},
   "toc_section_display": true,
   "toc_window_display": false
  }
 },
 "nbformat": 4,
 "nbformat_minor": 4
}
