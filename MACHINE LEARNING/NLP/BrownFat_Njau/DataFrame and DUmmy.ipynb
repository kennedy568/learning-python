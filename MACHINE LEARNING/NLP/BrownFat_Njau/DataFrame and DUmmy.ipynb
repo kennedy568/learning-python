{
 "cells": [
  {
   "cell_type": "markdown",
   "metadata": {
    "ExecuteTime": {
     "end_time": "2020-12-27T09:32:39.680292Z",
     "start_time": "2020-12-27T09:32:39.678139Z"
    }
   },
   "source": [
    "# Prep Work for the data"
   ]
  },
  {
   "cell_type": "code",
   "execution_count": 16,
   "metadata": {
    "ExecuteTime": {
     "end_time": "2021-01-03T20:44:24.572172Z",
     "start_time": "2021-01-03T20:44:23.921867Z"
    }
   },
   "outputs": [
    {
     "data": {
      "text/html": [
       "<div>\n",
       "<style scoped>\n",
       "    .dataframe tbody tr th:only-of-type {\n",
       "        vertical-align: middle;\n",
       "    }\n",
       "\n",
       "    .dataframe tbody tr th {\n",
       "        vertical-align: top;\n",
       "    }\n",
       "\n",
       "    .dataframe thead th {\n",
       "        text-align: right;\n",
       "    }\n",
       "</style>\n",
       "<table border=\"1\" class=\"dataframe\">\n",
       "  <thead>\n",
       "    <tr style=\"text-align: right;\">\n",
       "      <th></th>\n",
       "      <th>Id</th>\n",
       "      <th>Sex</th>\n",
       "      <th>Diabetes</th>\n",
       "      <th>Age</th>\n",
       "      <th>Day</th>\n",
       "      <th>Month</th>\n",
       "      <th>Ext_Temp</th>\n",
       "      <th>2D_Temp</th>\n",
       "      <th>3D_Temp</th>\n",
       "      <th>7D_Temp</th>\n",
       "      <th>...</th>\n",
       "      <th>Weigth</th>\n",
       "      <th>Size</th>\n",
       "      <th>BMI</th>\n",
       "      <th>Glycemy</th>\n",
       "      <th>LBW</th>\n",
       "      <th>Cancer_Status</th>\n",
       "      <th>Cancer_Type</th>\n",
       "      <th>TSH</th>\n",
       "      <th>BrownFat</th>\n",
       "      <th>Total_vol</th>\n",
       "    </tr>\n",
       "  </thead>\n",
       "  <tbody>\n",
       "    <tr>\n",
       "      <th>0</th>\n",
       "      <td>2</td>\n",
       "      <td>1</td>\n",
       "      <td>0</td>\n",
       "      <td>52.243185</td>\n",
       "      <td>3</td>\n",
       "      <td>January</td>\n",
       "      <td>-5.9</td>\n",
       "      <td>-3.3</td>\n",
       "      <td>-3.07</td>\n",
       "      <td>-7.29</td>\n",
       "      <td>...</td>\n",
       "      <td>62.0</td>\n",
       "      <td>157.0</td>\n",
       "      <td>25.153150</td>\n",
       "      <td>5.5</td>\n",
       "      <td>43.259469</td>\n",
       "      <td>0.0</td>\n",
       "      <td>0.0</td>\n",
       "      <td>NaN</td>\n",
       "      <td>0</td>\n",
       "      <td>0.0</td>\n",
       "    </tr>\n",
       "    <tr>\n",
       "      <th>1</th>\n",
       "      <td>3</td>\n",
       "      <td>2</td>\n",
       "      <td>0</td>\n",
       "      <td>68.988338</td>\n",
       "      <td>3</td>\n",
       "      <td>January</td>\n",
       "      <td>-5.9</td>\n",
       "      <td>-3.3</td>\n",
       "      <td>-3.07</td>\n",
       "      <td>-7.29</td>\n",
       "      <td>...</td>\n",
       "      <td>85.0</td>\n",
       "      <td>182.0</td>\n",
       "      <td>25.661152</td>\n",
       "      <td>4.8</td>\n",
       "      <td>65.580667</td>\n",
       "      <td>0.0</td>\n",
       "      <td>0.0</td>\n",
       "      <td>2.69</td>\n",
       "      <td>0</td>\n",
       "      <td>0.0</td>\n",
       "    </tr>\n",
       "    <tr>\n",
       "      <th>2</th>\n",
       "      <td>4</td>\n",
       "      <td>2</td>\n",
       "      <td>0</td>\n",
       "      <td>54.781320</td>\n",
       "      <td>3</td>\n",
       "      <td>January</td>\n",
       "      <td>-3.8</td>\n",
       "      <td>-3.3</td>\n",
       "      <td>-3.07</td>\n",
       "      <td>-7.29</td>\n",
       "      <td>...</td>\n",
       "      <td>95.0</td>\n",
       "      <td>174.0</td>\n",
       "      <td>31.377989</td>\n",
       "      <td>6.1</td>\n",
       "      <td>66.344365</td>\n",
       "      <td>1.0</td>\n",
       "      <td>2.0</td>\n",
       "      <td>NaN</td>\n",
       "      <td>0</td>\n",
       "      <td>0.0</td>\n",
       "    </tr>\n",
       "    <tr>\n",
       "      <th>3</th>\n",
       "      <td>5</td>\n",
       "      <td>2</td>\n",
       "      <td>1</td>\n",
       "      <td>70.390275</td>\n",
       "      <td>3</td>\n",
       "      <td>January</td>\n",
       "      <td>-3.8</td>\n",
       "      <td>-3.3</td>\n",
       "      <td>-3.07</td>\n",
       "      <td>-7.29</td>\n",
       "      <td>...</td>\n",
       "      <td>66.0</td>\n",
       "      <td>177.0</td>\n",
       "      <td>21.066743</td>\n",
       "      <td>6.8</td>\n",
       "      <td>54.802815</td>\n",
       "      <td>1.0</td>\n",
       "      <td>NaN</td>\n",
       "      <td>NaN</td>\n",
       "      <td>0</td>\n",
       "      <td>0.0</td>\n",
       "    </tr>\n",
       "    <tr>\n",
       "      <th>4</th>\n",
       "      <td>6</td>\n",
       "      <td>1</td>\n",
       "      <td>0</td>\n",
       "      <td>53.519205</td>\n",
       "      <td>3</td>\n",
       "      <td>January</td>\n",
       "      <td>-1.3</td>\n",
       "      <td>-3.3</td>\n",
       "      <td>-3.07</td>\n",
       "      <td>-7.29</td>\n",
       "      <td>...</td>\n",
       "      <td>62.0</td>\n",
       "      <td>163.0</td>\n",
       "      <td>23.335466</td>\n",
       "      <td>5.7</td>\n",
       "      <td>44.927376</td>\n",
       "      <td>1.0</td>\n",
       "      <td>1.0</td>\n",
       "      <td>NaN</td>\n",
       "      <td>0</td>\n",
       "      <td>0.0</td>\n",
       "    </tr>\n",
       "  </tbody>\n",
       "</table>\n",
       "<p>5 rows × 23 columns</p>\n",
       "</div>"
      ],
      "text/plain": [
       "   Id  Sex  Diabetes        Age  Day    Month  Ext_Temp  2D_Temp  3D_Temp  \\\n",
       "0   2    1         0  52.243185    3  January      -5.9     -3.3    -3.07   \n",
       "1   3    2         0  68.988338    3  January      -5.9     -3.3    -3.07   \n",
       "2   4    2         0  54.781320    3  January      -3.8     -3.3    -3.07   \n",
       "3   5    2         1  70.390275    3  January      -3.8     -3.3    -3.07   \n",
       "4   6    1         0  53.519205    3  January      -1.3     -3.3    -3.07   \n",
       "\n",
       "   7D_Temp  ...  Weigth   Size        BMI  Glycemy        LBW  Cancer_Status  \\\n",
       "0    -7.29  ...    62.0  157.0  25.153150      5.5  43.259469            0.0   \n",
       "1    -7.29  ...    85.0  182.0  25.661152      4.8  65.580667            0.0   \n",
       "2    -7.29  ...    95.0  174.0  31.377989      6.1  66.344365            1.0   \n",
       "3    -7.29  ...    66.0  177.0  21.066743      6.8  54.802815            1.0   \n",
       "4    -7.29  ...    62.0  163.0  23.335466      5.7  44.927376            1.0   \n",
       "\n",
       "   Cancer_Type   TSH  BrownFat  Total_vol  \n",
       "0          0.0   NaN         0        0.0  \n",
       "1          0.0  2.69         0        0.0  \n",
       "2          2.0   NaN         0        0.0  \n",
       "3          NaN   NaN         0        0.0  \n",
       "4          1.0   NaN         0        0.0  \n",
       "\n",
       "[5 rows x 23 columns]"
      ]
     },
     "execution_count": 16,
     "metadata": {},
     "output_type": "execute_result"
    }
   ],
   "source": [
    "import os\n",
    "import pandas as pd\n",
    "os.listdir()\n",
    "df  = pd.read_excel('BrownFat.xls')\n",
    "df.head()"
   ]
  },
  {
   "cell_type": "code",
   "execution_count": 17,
   "metadata": {
    "ExecuteTime": {
     "end_time": "2021-01-03T20:44:25.597121Z",
     "start_time": "2021-01-03T20:44:25.560694Z"
    }
   },
   "outputs": [
    {
     "data": {
      "text/html": [
       "<div>\n",
       "<style scoped>\n",
       "    .dataframe tbody tr th:only-of-type {\n",
       "        vertical-align: middle;\n",
       "    }\n",
       "\n",
       "    .dataframe tbody tr th {\n",
       "        vertical-align: top;\n",
       "    }\n",
       "\n",
       "    .dataframe thead th {\n",
       "        text-align: right;\n",
       "    }\n",
       "</style>\n",
       "<table border=\"1\" class=\"dataframe\">\n",
       "  <thead>\n",
       "    <tr style=\"text-align: right;\">\n",
       "      <th></th>\n",
       "      <th>Id</th>\n",
       "      <th>Sex</th>\n",
       "      <th>Diabetes</th>\n",
       "      <th>Age</th>\n",
       "      <th>Day</th>\n",
       "      <th>Ext_Temp</th>\n",
       "      <th>2D_Temp</th>\n",
       "      <th>3D_Temp</th>\n",
       "      <th>7D_Temp</th>\n",
       "      <th>1M_Temp</th>\n",
       "      <th>Season</th>\n",
       "      <th>Duration_Sunshine</th>\n",
       "      <th>Weigth</th>\n",
       "      <th>Size</th>\n",
       "      <th>BMI</th>\n",
       "      <th>Glycemy</th>\n",
       "      <th>LBW</th>\n",
       "      <th>Cancer_Status</th>\n",
       "      <th>Cancer_Type</th>\n",
       "      <th>TSH</th>\n",
       "    </tr>\n",
       "  </thead>\n",
       "  <tbody>\n",
       "    <tr>\n",
       "      <th>0</th>\n",
       "      <td>2</td>\n",
       "      <td>1</td>\n",
       "      <td>0</td>\n",
       "      <td>52.243185</td>\n",
       "      <td>3</td>\n",
       "      <td>-5.9</td>\n",
       "      <td>-3.3</td>\n",
       "      <td>-3.07</td>\n",
       "      <td>-7.29</td>\n",
       "      <td>-9.81</td>\n",
       "      <td>4</td>\n",
       "      <td>529.2</td>\n",
       "      <td>62.0</td>\n",
       "      <td>157.0</td>\n",
       "      <td>25.153150</td>\n",
       "      <td>5.5</td>\n",
       "      <td>43.259469</td>\n",
       "      <td>0.0</td>\n",
       "      <td>0.0</td>\n",
       "      <td>NaN</td>\n",
       "    </tr>\n",
       "    <tr>\n",
       "      <th>1</th>\n",
       "      <td>3</td>\n",
       "      <td>2</td>\n",
       "      <td>0</td>\n",
       "      <td>68.988338</td>\n",
       "      <td>3</td>\n",
       "      <td>-5.9</td>\n",
       "      <td>-3.3</td>\n",
       "      <td>-3.07</td>\n",
       "      <td>-7.29</td>\n",
       "      <td>-9.81</td>\n",
       "      <td>4</td>\n",
       "      <td>529.2</td>\n",
       "      <td>85.0</td>\n",
       "      <td>182.0</td>\n",
       "      <td>25.661152</td>\n",
       "      <td>4.8</td>\n",
       "      <td>65.580667</td>\n",
       "      <td>0.0</td>\n",
       "      <td>0.0</td>\n",
       "      <td>2.69</td>\n",
       "    </tr>\n",
       "    <tr>\n",
       "      <th>2</th>\n",
       "      <td>4</td>\n",
       "      <td>2</td>\n",
       "      <td>0</td>\n",
       "      <td>54.781320</td>\n",
       "      <td>3</td>\n",
       "      <td>-3.8</td>\n",
       "      <td>-3.3</td>\n",
       "      <td>-3.07</td>\n",
       "      <td>-7.29</td>\n",
       "      <td>-9.81</td>\n",
       "      <td>4</td>\n",
       "      <td>529.2</td>\n",
       "      <td>95.0</td>\n",
       "      <td>174.0</td>\n",
       "      <td>31.377989</td>\n",
       "      <td>6.1</td>\n",
       "      <td>66.344365</td>\n",
       "      <td>1.0</td>\n",
       "      <td>2.0</td>\n",
       "      <td>NaN</td>\n",
       "    </tr>\n",
       "    <tr>\n",
       "      <th>3</th>\n",
       "      <td>5</td>\n",
       "      <td>2</td>\n",
       "      <td>1</td>\n",
       "      <td>70.390275</td>\n",
       "      <td>3</td>\n",
       "      <td>-3.8</td>\n",
       "      <td>-3.3</td>\n",
       "      <td>-3.07</td>\n",
       "      <td>-7.29</td>\n",
       "      <td>-9.81</td>\n",
       "      <td>4</td>\n",
       "      <td>529.2</td>\n",
       "      <td>66.0</td>\n",
       "      <td>177.0</td>\n",
       "      <td>21.066743</td>\n",
       "      <td>6.8</td>\n",
       "      <td>54.802815</td>\n",
       "      <td>1.0</td>\n",
       "      <td>NaN</td>\n",
       "      <td>NaN</td>\n",
       "    </tr>\n",
       "    <tr>\n",
       "      <th>4</th>\n",
       "      <td>6</td>\n",
       "      <td>1</td>\n",
       "      <td>0</td>\n",
       "      <td>53.519205</td>\n",
       "      <td>3</td>\n",
       "      <td>-1.3</td>\n",
       "      <td>-3.3</td>\n",
       "      <td>-3.07</td>\n",
       "      <td>-7.29</td>\n",
       "      <td>-9.81</td>\n",
       "      <td>4</td>\n",
       "      <td>529.2</td>\n",
       "      <td>62.0</td>\n",
       "      <td>163.0</td>\n",
       "      <td>23.335466</td>\n",
       "      <td>5.7</td>\n",
       "      <td>44.927376</td>\n",
       "      <td>1.0</td>\n",
       "      <td>1.0</td>\n",
       "      <td>NaN</td>\n",
       "    </tr>\n",
       "  </tbody>\n",
       "</table>\n",
       "</div>"
      ],
      "text/plain": [
       "   Id  Sex  Diabetes        Age  Day  Ext_Temp  2D_Temp  3D_Temp  7D_Temp  \\\n",
       "0   2    1         0  52.243185    3      -5.9     -3.3    -3.07    -7.29   \n",
       "1   3    2         0  68.988338    3      -5.9     -3.3    -3.07    -7.29   \n",
       "2   4    2         0  54.781320    3      -3.8     -3.3    -3.07    -7.29   \n",
       "3   5    2         1  70.390275    3      -3.8     -3.3    -3.07    -7.29   \n",
       "4   6    1         0  53.519205    3      -1.3     -3.3    -3.07    -7.29   \n",
       "\n",
       "   1M_Temp  Season  Duration_Sunshine  Weigth   Size        BMI  Glycemy  \\\n",
       "0    -9.81       4              529.2    62.0  157.0  25.153150      5.5   \n",
       "1    -9.81       4              529.2    85.0  182.0  25.661152      4.8   \n",
       "2    -9.81       4              529.2    95.0  174.0  31.377989      6.1   \n",
       "3    -9.81       4              529.2    66.0  177.0  21.066743      6.8   \n",
       "4    -9.81       4              529.2    62.0  163.0  23.335466      5.7   \n",
       "\n",
       "         LBW  Cancer_Status  Cancer_Type   TSH  \n",
       "0  43.259469            0.0          0.0   NaN  \n",
       "1  65.580667            0.0          0.0  2.69  \n",
       "2  66.344365            1.0          2.0   NaN  \n",
       "3  54.802815            1.0          NaN   NaN  \n",
       "4  44.927376            1.0          1.0   NaN  "
      ]
     },
     "execution_count": 17,
     "metadata": {},
     "output_type": "execute_result"
    }
   ],
   "source": [
    "x = df.drop(['BrownFat','Total_vol'],1).select_dtypes(include = ['float64','int64'])\n",
    "y = df.BrownFat\n",
    "x.head()"
   ]
  },
  {
   "cell_type": "code",
   "execution_count": 18,
   "metadata": {
    "ExecuteTime": {
     "end_time": "2021-01-03T20:44:26.989256Z",
     "start_time": "2021-01-03T20:44:26.974991Z"
    }
   },
   "outputs": [],
   "source": [
    "# fill with  column mean\n",
    "for i in x.columns:\n",
    "    x[i] = x[i].fillna(x[i].mean())"
   ]
  },
  {
   "cell_type": "code",
   "execution_count": 19,
   "metadata": {
    "ExecuteTime": {
     "end_time": "2021-01-03T20:44:28.992393Z",
     "start_time": "2021-01-03T20:44:28.975954Z"
    }
   },
   "outputs": [],
   "source": [
    "# standardize the data\n",
    "from sklearn.preprocessing import MinMaxScaler\n",
    "\n",
    "scale= MinMaxScaler()\n",
    "scale = scale.fit_transform(x)\n",
    "\n",
    "from sklearn.decomposition import PCA\n",
    "pca = PCA()\n",
    "\n",
    "X_pca = pca.fit_transform(scale)"
   ]
  },
  {
   "cell_type": "code",
   "execution_count": 20,
   "metadata": {
    "ExecuteTime": {
     "end_time": "2021-01-03T20:44:30.910384Z",
     "start_time": "2021-01-03T20:44:30.689016Z"
    }
   },
   "outputs": [
    {
     "data": {
      "text/plain": [
       "[<matplotlib.lines.Line2D at 0x7fbaf257e850>]"
      ]
     },
     "execution_count": 20,
     "metadata": {},
     "output_type": "execute_result"
    },
    {
     "data": {
      "image/png": "[encoded data removed]",
      "text/plain": [
       "<Figure size 432x288 with 1 Axes>"
      ]
     },
     "metadata": {
      "needs_background": "light"
     },
     "output_type": "display_data"
    }
   ],
   "source": [
    "## Visualize the PCA \n",
    "import numpy as np\n",
    "import matplotlib.pyplot as plt\n",
    "plt.plot(np.cumsum(pca.explained_variance_ratio_))"
   ]
  },
  {
   "cell_type": "code",
   "execution_count": 23,
   "metadata": {
    "ExecuteTime": {
     "end_time": "2021-01-03T20:45:09.398263Z",
     "start_time": "2021-01-03T20:45:09.276217Z"
    }
   },
   "outputs": [
    {
     "ename": "ValueError",
     "evalue": "Length of values does not match length of index",
     "output_type": "error",
     "traceback": [
      "\u001b[0;31m---------------------------------------------------------------------------\u001b[0m",
      "\u001b[0;31mValueError\u001b[0m                                Traceback (most recent call last)",
      "\u001b[0;32m<ipython-input-23-53586696e9d6>\u001b[0m in \u001b[0;36m<module>\u001b[0;34m\u001b[0m\n\u001b[1;32m      1\u001b[0m \u001b[0mJ\u001b[0m \u001b[0;34m=\u001b[0m \u001b[0mpd\u001b[0m\u001b[0;34m.\u001b[0m\u001b[0mDataFrame\u001b[0m\u001b[0;34m(\u001b[0m\u001b[0mX_pca\u001b[0m\u001b[0;34m[\u001b[0m\u001b[0;34m:\u001b[0m\u001b[0;34m,\u001b[0m\u001b[0;36m0\u001b[0m\u001b[0;34m:\u001b[0m\u001b[0;36m2\u001b[0m\u001b[0;34m]\u001b[0m\u001b[0;34m,\u001b[0m\u001b[0mcolumns\u001b[0m \u001b[0;34m=\u001b[0m \u001b[0;34m[\u001b[0m\u001b[0;34m'C1'\u001b[0m\u001b[0;34m,\u001b[0m\u001b[0;34m'C2'\u001b[0m\u001b[0;34m]\u001b[0m\u001b[0;34m)\u001b[0m\u001b[0;34m\u001b[0m\u001b[0;34m\u001b[0m\u001b[0m\n\u001b[0;32m----> 2\u001b[0;31m \u001b[0mJ\u001b[0m\u001b[0;34m[\u001b[0m\u001b[0;34m'Y'\u001b[0m\u001b[0;34m]\u001b[0m \u001b[0;34m=\u001b[0m \u001b[0;34m[\u001b[0m\u001b[0mstr\u001b[0m\u001b[0;34m(\u001b[0m\u001b[0mi\u001b[0m\u001b[0;34m)\u001b[0m \u001b[0;32mfor\u001b[0m \u001b[0mi\u001b[0m \u001b[0;32min\u001b[0m \u001b[0my\u001b[0m\u001b[0;34m]\u001b[0m\u001b[0;34m\u001b[0m\u001b[0;34m\u001b[0m\u001b[0m\n\u001b[0m\u001b[1;32m      3\u001b[0m \u001b[0;32mimport\u001b[0m \u001b[0mplotly\u001b[0m\u001b[0;34m.\u001b[0m\u001b[0mexpress\u001b[0m \u001b[0;32mas\u001b[0m \u001b[0mpx\u001b[0m\u001b[0;34m\u001b[0m\u001b[0;34m\u001b[0m\u001b[0m\n\u001b[1;32m      4\u001b[0m px.scatter(J,x = 'C1',y = 'C2'\n\u001b[1;32m      5\u001b[0m                 \u001b[0;34m,\u001b[0m\u001b[0mcolor\u001b[0m \u001b[0;34m=\u001b[0m \u001b[0;34m'Y'\u001b[0m\u001b[0;34m\u001b[0m\u001b[0;34m\u001b[0m\u001b[0m\n",
      "\u001b[0;32m~/yes/lib/python3.7/site-packages/pandas/core/frame.py\u001b[0m in \u001b[0;36m__setitem__\u001b[0;34m(self, key, value)\u001b[0m\n\u001b[1;32m   2936\u001b[0m         \u001b[0;32melse\u001b[0m\u001b[0;34m:\u001b[0m\u001b[0;34m\u001b[0m\u001b[0;34m\u001b[0m\u001b[0m\n\u001b[1;32m   2937\u001b[0m             \u001b[0;31m# set column\u001b[0m\u001b[0;34m\u001b[0m\u001b[0;34m\u001b[0m\u001b[0;34m\u001b[0m\u001b[0m\n\u001b[0;32m-> 2938\u001b[0;31m             \u001b[0mself\u001b[0m\u001b[0;34m.\u001b[0m\u001b[0m_set_item\u001b[0m\u001b[0;34m(\u001b[0m\u001b[0mkey\u001b[0m\u001b[0;34m,\u001b[0m \u001b[0mvalue\u001b[0m\u001b[0;34m)\u001b[0m\u001b[0;34m\u001b[0m\u001b[0;34m\u001b[0m\u001b[0m\n\u001b[0m\u001b[1;32m   2939\u001b[0m \u001b[0;34m\u001b[0m\u001b[0m\n\u001b[1;32m   2940\u001b[0m     \u001b[0;32mdef\u001b[0m \u001b[0m_setitem_slice\u001b[0m\u001b[0;34m(\u001b[0m\u001b[0mself\u001b[0m\u001b[0;34m,\u001b[0m \u001b[0mkey\u001b[0m\u001b[0;34m,\u001b[0m \u001b[0mvalue\u001b[0m\u001b[0;34m)\u001b[0m\u001b[0;34m:\u001b[0m\u001b[0;34m\u001b[0m\u001b[0;34m\u001b[0m\u001b[0m\n",
      "\u001b[0;32m~/yes/lib/python3.7/site-packages/pandas/core/frame.py\u001b[0m in \u001b[0;36m_set_item\u001b[0;34m(self, key, value)\u001b[0m\n\u001b[1;32m   2998\u001b[0m \u001b[0;34m\u001b[0m\u001b[0m\n\u001b[1;32m   2999\u001b[0m         \u001b[0mself\u001b[0m\u001b[0;34m.\u001b[0m\u001b[0m_ensure_valid_index\u001b[0m\u001b[0;34m(\u001b[0m\u001b[0mvalue\u001b[0m\u001b[0;34m)\u001b[0m\u001b[0;34m\u001b[0m\u001b[0;34m\u001b[0m\u001b[0m\n\u001b[0;32m-> 3000\u001b[0;31m         \u001b[0mvalue\u001b[0m \u001b[0;34m=\u001b[0m \u001b[0mself\u001b[0m\u001b[0;34m.\u001b[0m\u001b[0m_sanitize_column\u001b[0m\u001b[0;34m(\u001b[0m\u001b[0mkey\u001b[0m\u001b[0;34m,\u001b[0m \u001b[0mvalue\u001b[0m\u001b[0;34m)\u001b[0m\u001b[0;34m\u001b[0m\u001b[0;34m\u001b[0m\u001b[0m\n\u001b[0m\u001b[1;32m   3001\u001b[0m         \u001b[0mNDFrame\u001b[0m\u001b[0;34m.\u001b[0m\u001b[0m_set_item\u001b[0m\u001b[0;34m(\u001b[0m\u001b[0mself\u001b[0m\u001b[0;34m,\u001b[0m \u001b[0mkey\u001b[0m\u001b[0;34m,\u001b[0m \u001b[0mvalue\u001b[0m\u001b[0;34m)\u001b[0m\u001b[0;34m\u001b[0m\u001b[0;34m\u001b[0m\u001b[0m\n\u001b[1;32m   3002\u001b[0m \u001b[0;34m\u001b[0m\u001b[0m\n",
      "\u001b[0;32m~/yes/lib/python3.7/site-packages/pandas/core/frame.py\u001b[0m in \u001b[0;36m_sanitize_column\u001b[0;34m(self, key, value, broadcast)\u001b[0m\n\u001b[1;32m   3634\u001b[0m \u001b[0;34m\u001b[0m\u001b[0m\n\u001b[1;32m   3635\u001b[0m             \u001b[0;31m# turn me into an ndarray\u001b[0m\u001b[0;34m\u001b[0m\u001b[0;34m\u001b[0m\u001b[0;34m\u001b[0m\u001b[0m\n\u001b[0;32m-> 3636\u001b[0;31m             \u001b[0mvalue\u001b[0m \u001b[0;34m=\u001b[0m \u001b[0msanitize_index\u001b[0m\u001b[0;34m(\u001b[0m\u001b[0mvalue\u001b[0m\u001b[0;34m,\u001b[0m \u001b[0mself\u001b[0m\u001b[0;34m.\u001b[0m\u001b[0mindex\u001b[0m\u001b[0;34m,\u001b[0m \u001b[0mcopy\u001b[0m\u001b[0;34m=\u001b[0m\u001b[0;32mFalse\u001b[0m\u001b[0;34m)\u001b[0m\u001b[0;34m\u001b[0m\u001b[0;34m\u001b[0m\u001b[0m\n\u001b[0m\u001b[1;32m   3637\u001b[0m             \u001b[0;32mif\u001b[0m \u001b[0;32mnot\u001b[0m \u001b[0misinstance\u001b[0m\u001b[0;34m(\u001b[0m\u001b[0mvalue\u001b[0m\u001b[0;34m,\u001b[0m \u001b[0;34m(\u001b[0m\u001b[0mnp\u001b[0m\u001b[0;34m.\u001b[0m\u001b[0mndarray\u001b[0m\u001b[0;34m,\u001b[0m \u001b[0mIndex\u001b[0m\u001b[0;34m)\u001b[0m\u001b[0;34m)\u001b[0m\u001b[0;34m:\u001b[0m\u001b[0;34m\u001b[0m\u001b[0;34m\u001b[0m\u001b[0m\n\u001b[1;32m   3638\u001b[0m                 \u001b[0;32mif\u001b[0m \u001b[0misinstance\u001b[0m\u001b[0;34m(\u001b[0m\u001b[0mvalue\u001b[0m\u001b[0;34m,\u001b[0m \u001b[0mlist\u001b[0m\u001b[0;34m)\u001b[0m \u001b[0;32mand\u001b[0m \u001b[0mlen\u001b[0m\u001b[0;34m(\u001b[0m\u001b[0mvalue\u001b[0m\u001b[0;34m)\u001b[0m \u001b[0;34m>\u001b[0m \u001b[0;36m0\u001b[0m\u001b[0;34m:\u001b[0m\u001b[0;34m\u001b[0m\u001b[0;34m\u001b[0m\u001b[0m\n",
      "\u001b[0;32m~/yes/lib/python3.7/site-packages/pandas/core/internals/construction.py\u001b[0m in \u001b[0;36msanitize_index\u001b[0;34m(data, index, copy)\u001b[0m\n\u001b[1;32m    609\u001b[0m \u001b[0;34m\u001b[0m\u001b[0m\n\u001b[1;32m    610\u001b[0m     \u001b[0;32mif\u001b[0m \u001b[0mlen\u001b[0m\u001b[0;34m(\u001b[0m\u001b[0mdata\u001b[0m\u001b[0;34m)\u001b[0m \u001b[0;34m!=\u001b[0m \u001b[0mlen\u001b[0m\u001b[0;34m(\u001b[0m\u001b[0mindex\u001b[0m\u001b[0;34m)\u001b[0m\u001b[0;34m:\u001b[0m\u001b[0;34m\u001b[0m\u001b[0;34m\u001b[0m\u001b[0m\n\u001b[0;32m--> 611\u001b[0;31m         \u001b[0;32mraise\u001b[0m \u001b[0mValueError\u001b[0m\u001b[0;34m(\u001b[0m\u001b[0;34m\"Length of values does not match length of index\"\u001b[0m\u001b[0;34m)\u001b[0m\u001b[0;34m\u001b[0m\u001b[0;34m\u001b[0m\u001b[0m\n\u001b[0m\u001b[1;32m    612\u001b[0m \u001b[0;34m\u001b[0m\u001b[0m\n\u001b[1;32m    613\u001b[0m     \u001b[0;32mif\u001b[0m \u001b[0misinstance\u001b[0m\u001b[0;34m(\u001b[0m\u001b[0mdata\u001b[0m\u001b[0;34m,\u001b[0m \u001b[0mABCIndexClass\u001b[0m\u001b[0;34m)\u001b[0m \u001b[0;32mand\u001b[0m \u001b[0;32mnot\u001b[0m \u001b[0mcopy\u001b[0m\u001b[0;34m:\u001b[0m\u001b[0;34m\u001b[0m\u001b[0;34m\u001b[0m\u001b[0m\n",
      "\u001b[0;31mValueError\u001b[0m: Length of values does not match length of index"
     ]
    }
   ],
   "source": [
    "yJ = pd.DataFrame(X_pca[:,0:2],columns = ['C1','C2'])\n",
    "J['Y'] = [str(i) for i in y]\n",
    "import plotly.express as px\n",
    "px.scatter(J,x = 'C1',y = 'C2'\n",
    "                ,color = 'Y'\n",
    "               )"
   ]
  },
  {
   "cell_type": "markdown",
   "metadata": {},
   "source": [
    "# The ML Model"
   ]
  },
  {
   "cell_type": "code",
   "execution_count": 30,
   "metadata": {
    "ExecuteTime": {
     "end_time": "2020-12-27T09:49:02.612457Z",
     "start_time": "2020-12-27T09:49:02.588883Z"
    }
   },
   "outputs": [],
   "source": [
    "# Model Selection\n",
    "from sklearn.model_selection import train_test_split\n",
    "x_train,x_test,y_train,y_test = train_test_split(x,y,test_size = 0.2)\n",
    "x_train1,x_test1,y_train1,y_test1 = train_test_split(X_pca,y,test_size = 0.2)"
   ]
  },
  {
   "cell_type": "code",
   "execution_count": 66,
   "metadata": {
    "ExecuteTime": {
     "end_time": "2020-12-27T10:48:10.330510Z",
     "start_time": "2020-12-27T10:48:10.323398Z"
    }
   },
   "outputs": [],
   "source": [
    "from sklearn.linear_model import LogisticRegression\n",
    "from sklearn.metrics import accuracy_score,classification_report\n",
    "model = LogisticRegression()\n",
    "X_train = [x_train,x_train1]\n",
    "X_test = [x_test,x_test1]\n",
    "Y_train = [y_train,y_train1]\n",
    "Y_test = [y_test,y_test1]\n",
    "pc = ['NO PCA','With PCA']\n",
    "\n",
    "def modeller(model):\n",
    "    preds = []\n",
    "    for a,b,c,d,e in zip(X_train,X_test,Y_train,Y_test,pc):\n",
    "\n",
    "        model.fit(a,c)\n",
    "        pred = model.predict(b)\n",
    "        print('Accuracy - {}:{} is:{}'.format(type(model).__name__,e,accuracy_score(pred,d)))\n",
    "        preds.append(pred)\n",
    "    return preds\n",
    "\n",
    "\n",
    "    "
   ]
  },
  {
   "cell_type": "code",
   "execution_count": 67,
   "metadata": {
    "ExecuteTime": {
     "end_time": "2020-12-27T10:48:10.837878Z",
     "start_time": "2020-12-27T10:48:10.824446Z"
    }
   },
   "outputs": [],
   "source": [
    "from sklearn.ensemble import RandomForestClassifier,GradientBoostingClassifier,BaggingClassifier\n",
    "from sklearn.svm import LinearSVC,NuSVC,SVC\n",
    "from sklearn.cluster import KMeans\n",
    "from lightgbm import LGBMClassifier\n",
    "lgbm = LGBMClassifier(metric = 'binary_logloss',objective='binary',learning_rate=0.003,n_estimators=200)\n",
    "RF = RandomForestClassifier(n_estimators =200)\n",
    "GB = GradientBoostingClassifier(n_estimators =200)\n",
    "bag = BaggingClassifier(n_estimators = 200)\n",
    "svm1 = LinearSVC()\n",
    "svm2 = NuSVC()\n",
    "svc3 = SVC()\n",
    "kmeans = KMeans(n_clusters =2,random_state =2)\n",
    "\n",
    "models = [lgbm,RF,GB,bag,svm1,\n",
    "          #svm2,\n",
    "          svc3,model,kmeans]\n"
   ]
  },
  {
   "cell_type": "code",
   "execution_count": 68,
   "metadata": {
    "ExecuteTime": {
     "end_time": "2020-12-27T10:49:19.146168Z",
     "start_time": "2020-12-27T10:48:11.836857Z"
    }
   },
   "outputs": [
    {
     "name": "stdout",
     "output_type": "stream",
     "text": [
      "Accuracy - LGBMClassifier:NO PCA is:0.9318885448916409\n",
      "Accuracy - LGBMClassifier:With PCA is:0.9380804953560371\n",
      "Accuracy - RandomForestClassifier:NO PCA is:0.9318885448916409\n",
      "Accuracy - RandomForestClassifier:With PCA is:0.9380804953560371\n",
      "Accuracy - GradientBoostingClassifier:NO PCA is:0.9267285861713106\n",
      "Accuracy - GradientBoostingClassifier:With PCA is:0.9298245614035088\n",
      "Accuracy - BaggingClassifier:NO PCA is:0.9298245614035088\n",
      "Accuracy - BaggingClassifier:With PCA is:0.9380804953560371\n"
     ]
    },
    {
     "name": "stderr",
     "output_type": "stream",
     "text": [
      "/home/sophicist/anaconda3/lib/python3.8/site-packages/sklearn/svm/_base.py:976: ConvergenceWarning:\n",
      "\n",
      "Liblinear failed to converge, increase the number of iterations.\n",
      "\n"
     ]
    },
    {
     "name": "stdout",
     "output_type": "stream",
     "text": [
      "Accuracy - LinearSVC:NO PCA is:0.9318885448916409\n",
      "Accuracy - LinearSVC:With PCA is:0.9380804953560371\n",
      "Accuracy - SVC:NO PCA is:0.9318885448916409\n",
      "Accuracy - SVC:With PCA is:0.9380804953560371\n",
      "Accuracy - LogisticRegression:NO PCA is:0.9318885448916409\n"
     ]
    },
    {
     "name": "stderr",
     "output_type": "stream",
     "text": [
      "/home/sophicist/anaconda3/lib/python3.8/site-packages/sklearn/linear_model/_logistic.py:762: ConvergenceWarning:\n",
      "\n",
      "lbfgs failed to converge (status=1):\n",
      "STOP: TOTAL NO. of ITERATIONS REACHED LIMIT.\n",
      "\n",
      "Increase the number of iterations (max_iter) or scale the data as shown in:\n",
      "    https://scikit-learn.org/stable/modules/preprocessing.html\n",
      "Please also refer to the documentation for alternative solver options:\n",
      "    https://scikit-learn.org/stable/modules/linear_model.html#logistic-regression\n",
      "\n"
     ]
    },
    {
     "name": "stdout",
     "output_type": "stream",
     "text": [
      "Accuracy - LogisticRegression:With PCA is:0.9380804953560371\n",
      "Accuracy - KMeans:NO PCA is:0.500515995872033\n",
      "Accuracy - KMeans:With PCA is:0.42105263157894735\n"
     ]
    }
   ],
   "source": [
    "data = list(map(modeller,models))"
   ]
  },
  {
   "cell_type": "code",
   "execution_count": 73,
   "metadata": {
    "ExecuteTime": {
     "end_time": "2020-12-27T10:49:57.038516Z",
     "start_time": "2020-12-27T10:49:57.033576Z"
    }
   },
   "outputs": [
    {
     "data": {
      "text/plain": [
       "(8, 2, 969)"
      ]
     },
     "execution_count": 73,
     "metadata": {},
     "output_type": "execute_result"
    }
   ],
   "source": [
    "np.array(data).shape"
   ]
  },
  {
   "cell_type": "code",
   "execution_count": null,
   "metadata": {},
   "outputs": [],
   "source": []
  }
 ],
 "metadata": {
  "kernelspec": {
   "display_name": "Python 3",
   "language": "python",
   "name": "python3"
  },
  "language_info": {
   "codemirror_mode": {
    "name": "ipython",
    "version": 3
   },
   "file_extension": ".py",
   "mimetype": "text/x-python",
   "name": "python",
   "nbconvert_exporter": "python",
   "pygments_lexer": "ipython3",
   "version": "3.7.6"
  },
  "toc": {
   "base_numbering": 1,
   "nav_menu": {},
   "number_sections": true,
   "sideBar": true,
   "skip_h1_title": false,
   "title_cell": "Table of Contents",
   "title_sidebar": "Contents",
   "toc_cell": false,
   "toc_position": {},
   "toc_section_display": true,
   "toc_window_display": false
  },
  "varInspector": {
   "cols": {
    "lenName": 16,
    "lenType": 16,
    "lenVar": 40
   },
   "kernels_config": {
    "python": {
     "delete_cmd_postfix": "",
     "delete_cmd_prefix": "del ",
     "library": "var_list.py",
     "varRefreshCmd": "print(var_dic_list())"
    },
    "r": {
     "delete_cmd_postfix": ") ",
     "delete_cmd_prefix": "rm(",
     "library": "var_list.r",
     "varRefreshCmd": "cat(var_dic_list()) "
    }
   },
   "types_to_exclude": [
    "module",
    "function",
    "builtin_function_or_method",
    "instance",
    "_Feature"
   ],
   "window_display": false
  }
 },
 "nbformat": 4,
 "nbformat_minor": 4
}
