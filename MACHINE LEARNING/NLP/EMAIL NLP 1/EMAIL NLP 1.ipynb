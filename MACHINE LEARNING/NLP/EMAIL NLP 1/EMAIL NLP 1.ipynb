{
 "cells": [
  {
   "cell_type": "code",
   "execution_count": 2,
   "metadata": {
    "ExecuteTime": {
     "end_time": "2021-01-08T09:14:39.428958Z",
     "start_time": "2021-01-08T09:14:39.213000Z"
    }
   },
   "outputs": [],
   "source": [
    "import pandas as pd\n",
    "import numpy as np"
   ]
  },
  {
   "cell_type": "code",
   "execution_count": 3,
   "metadata": {
    "ExecuteTime": {
     "end_time": "2021-01-08T09:14:39.650280Z",
     "start_time": "2021-01-08T09:14:39.610183Z"
    }
   },
   "outputs": [
    {
     "data": {
      "text/html": [
       "<div>\n",
       "<style scoped>\n",
       "    .dataframe tbody tr th:only-of-type {\n",
       "        vertical-align: middle;\n",
       "    }\n",
       "\n",
       "    .dataframe tbody tr th {\n",
       "        vertical-align: top;\n",
       "    }\n",
       "\n",
       "    .dataframe thead th {\n",
       "        text-align: right;\n",
       "    }\n",
       "</style>\n",
       "<table border=\"1\" class=\"dataframe\">\n",
       "  <thead>\n",
       "    <tr style=\"text-align: right;\">\n",
       "      <th></th>\n",
       "      <th>word</th>\n",
       "      <th>Target</th>\n",
       "    </tr>\n",
       "  </thead>\n",
       "  <tbody>\n",
       "    <tr>\n",
       "      <th>0</th>\n",
       "      <td>Now the hottest stock in the market is $CHL Ch...</td>\n",
       "      <td>spam</td>\n",
       "    </tr>\n",
       "    <tr>\n",
       "      <th>1</th>\n",
       "      <td>We have just announced a fun free posting cont...</td>\n",
       "      <td>spam</td>\n",
       "    </tr>\n",
       "    <tr>\n",
       "      <th>2</th>\n",
       "      <td>Your monthly review is ready. We crunch the nu...</td>\n",
       "      <td>not_spam</td>\n",
       "    </tr>\n",
       "    <tr>\n",
       "      <th>3</th>\n",
       "      <td>You received this email because because you're...</td>\n",
       "      <td>spam</td>\n",
       "    </tr>\n",
       "    <tr>\n",
       "      <th>4</th>\n",
       "      <td>Bismart posted in Friends Who Like Association...</td>\n",
       "      <td>not_spam</td>\n",
       "    </tr>\n",
       "  </tbody>\n",
       "</table>\n",
       "</div>"
      ],
      "text/plain": [
       "                                                word    Target\n",
       "0  Now the hottest stock in the market is $CHL Ch...      spam\n",
       "1  We have just announced a fun free posting cont...      spam\n",
       "2  Your monthly review is ready. We crunch the nu...  not_spam\n",
       "3  You received this email because because you're...      spam\n",
       "4  Bismart posted in Friends Who Like Association...  not_spam"
      ]
     },
     "execution_count": 3,
     "metadata": {},
     "output_type": "execute_result"
    }
   ],
   "source": [
    "df = pd.read_csv('NLP ML 1 - Sheet1.csv')\n",
    "df.head()"
   ]
  },
  {
   "cell_type": "code",
   "execution_count": 4,
   "metadata": {
    "ExecuteTime": {
     "end_time": "2021-01-08T09:14:40.543080Z",
     "start_time": "2021-01-08T09:14:40.210540Z"
    }
   },
   "outputs": [
    {
     "data": {
      "text/html": [
       "<div>\n",
       "<style scoped>\n",
       "    .dataframe tbody tr th:only-of-type {\n",
       "        vertical-align: middle;\n",
       "    }\n",
       "\n",
       "    .dataframe tbody tr th {\n",
       "        vertical-align: top;\n",
       "    }\n",
       "\n",
       "    .dataframe thead th {\n",
       "        text-align: right;\n",
       "    }\n",
       "</style>\n",
       "<table border=\"1\" class=\"dataframe\">\n",
       "  <thead>\n",
       "    <tr style=\"text-align: right;\">\n",
       "      <th></th>\n",
       "      <th>word</th>\n",
       "      <th>Target</th>\n",
       "      <th>clean_words</th>\n",
       "    </tr>\n",
       "  </thead>\n",
       "  <tbody>\n",
       "    <tr>\n",
       "      <th>0</th>\n",
       "      <td>Now the hottest stock in the market is $CHL Ch...</td>\n",
       "      <td>spam</td>\n",
       "      <td>hottest stock market chl china mobile limited ...</td>\n",
       "    </tr>\n",
       "    <tr>\n",
       "      <th>1</th>\n",
       "      <td>We have just announced a fun free posting cont...</td>\n",
       "      <td>spam</td>\n",
       "      <td>announced fun free posting contest january two...</td>\n",
       "    </tr>\n",
       "    <tr>\n",
       "      <th>2</th>\n",
       "      <td>Your monthly review is ready. We crunch the nu...</td>\n",
       "      <td>not_spam</td>\n",
       "      <td>monthly review ready crunch numbers help under...</td>\n",
       "    </tr>\n",
       "    <tr>\n",
       "      <th>3</th>\n",
       "      <td>You received this email because because you're...</td>\n",
       "      <td>spam</td>\n",
       "      <td>received email 're participating 'uber nairobi...</td>\n",
       "    </tr>\n",
       "    <tr>\n",
       "      <th>4</th>\n",
       "      <td>Bismart posted in Friends Who Like Association...</td>\n",
       "      <td>not_spam</td>\n",
       "      <td>bismart posted friends like association kenya ...</td>\n",
       "    </tr>\n",
       "  </tbody>\n",
       "</table>\n",
       "</div>"
      ],
      "text/plain": [
       "                                                word    Target  \\\n",
       "0  Now the hottest stock in the market is $CHL Ch...      spam   \n",
       "1  We have just announced a fun free posting cont...      spam   \n",
       "2  Your monthly review is ready. We crunch the nu...  not_spam   \n",
       "3  You received this email because because you're...      spam   \n",
       "4  Bismart posted in Friends Who Like Association...  not_spam   \n",
       "\n",
       "                                         clean_words  \n",
       "0  hottest stock market chl china mobile limited ...  \n",
       "1  announced fun free posting contest january two...  \n",
       "2  monthly review ready crunch numbers help under...  \n",
       "3  received email 're participating 'uber nairobi...  \n",
       "4  bismart posted friends like association kenya ...  "
      ]
     },
     "execution_count": 4,
     "metadata": {},
     "output_type": "execute_result"
    }
   ],
   "source": [
    "import nltk\n",
    "from string import punctuation\n",
    "punc = list(punctuation)\n",
    "stop = nltk.corpus.stopwords.words('english')+punc\n",
    "def cleaner(words):\n",
    "    words=words.lower()\n",
    "    words= nltk.word_tokenize(words)\n",
    "    words=[word for word in words if not word in stop]\n",
    "    return ' '.join(words)\n",
    "df['clean_words']=list(map(cleaner,df.word))\n",
    "df.head()"
   ]
  },
  {
   "cell_type": "code",
   "execution_count": 6,
   "metadata": {
    "ExecuteTime": {
     "end_time": "2021-01-08T09:15:27.029731Z",
     "start_time": "2021-01-08T09:15:27.011267Z"
    }
   },
   "outputs": [
    {
     "data": {
      "text/plain": [
       "MultinomialNB(alpha=1.0, class_prior=None, fit_prior=True)"
      ]
     },
     "execution_count": 6,
     "metadata": {},
     "output_type": "execute_result"
    }
   ],
   "source": [
    "from sklearn.feature_extraction.text import CountVectorizer\n",
    "vect = CountVectorizer()\n",
    "x = vect.fit_transform(df.clean_words)\n",
    "y = df.Target\n",
    "from sklearn.model_selection  import train_test_split\n",
    "x_train,x_test,y_train,y_test = train_test_split(x,y,test_size=0.29,random_state =10)\n",
    "from sklearn.naive_bayes import MultinomialNB\n",
    "model = MultinomialNB()\n",
    "model.fit(x_train,y_train)"
   ]
  },
  {
   "cell_type": "code",
   "execution_count": 7,
   "metadata": {
    "ExecuteTime": {
     "end_time": "2021-01-08T09:15:28.843635Z",
     "start_time": "2021-01-08T09:15:28.833225Z"
    }
   },
   "outputs": [
    {
     "data": {
      "text/plain": [
       "0.6666666666666666"
      ]
     },
     "execution_count": 7,
     "metadata": {},
     "output_type": "execute_result"
    }
   ],
   "source": [
    "from sklearn.metrics import accuracy_score\n",
    "pred = model.predict(x_test)\n",
    "accuracy_score(pred,y_test)"
   ]
  },
  {
   "cell_type": "code",
   "execution_count": null,
   "metadata": {},
   "outputs": [],
   "source": []
  },
  {
   "cell_type": "code",
   "execution_count": null,
   "metadata": {},
   "outputs": [],
   "source": []
  }
 ],
 "metadata": {
  "kernelspec": {
   "display_name": "Python 3",
   "language": "python",
   "name": "python3"
  },
  "language_info": {
   "codemirror_mode": {
    "name": "ipython",
    "version": 3
   },
   "file_extension": ".py",
   "mimetype": "text/x-python",
   "name": "python",
   "nbconvert_exporter": "python",
   "pygments_lexer": "ipython3",
   "version": "3.7.6"
  },
  "toc": {
   "base_numbering": 1,
   "nav_menu": {},
   "number_sections": true,
   "sideBar": true,
   "skip_h1_title": false,
   "title_cell": "Table of Contents",
   "title_sidebar": "Contents",
   "toc_cell": false,
   "toc_position": {},
   "toc_section_display": true,
   "toc_window_display": false
  }
 },
 "nbformat": 4,
 "nbformat_minor": 4
}
