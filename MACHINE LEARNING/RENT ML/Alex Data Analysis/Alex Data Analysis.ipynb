{
 "cells": [
  {
   "cell_type": "code",
   "execution_count": 6,
   "metadata": {
    "ExecuteTime": {
     "end_time": "2020-12-14T15:24:30.598786Z",
     "start_time": "2020-12-14T15:24:28.064157Z"
    }
   },
   "outputs": [
    {
     "data": {
      "text/plain": [
       "['.ipynb_checkpoints',\n",
       " 'Housing Survey (Responses).xlsx',\n",
       " 'Alex Data Analysis.ipynb']"
      ]
     },
     "execution_count": 6,
     "metadata": {},
     "output_type": "execute_result"
    }
   ],
   "source": [
    "import os\n",
    "import pandas as pd\n",
    "os.listdir()"
   ]
  },
  {
   "cell_type": "code",
   "execution_count": 10,
   "metadata": {
    "ExecuteTime": {
     "end_time": "2020-12-14T15:27:38.426065Z",
     "start_time": "2020-12-14T15:27:38.361139Z"
    }
   },
   "outputs": [
    {
     "data": {
      "text/html": [
       "<div>\n",
       "<style scoped>\n",
       "    .dataframe tbody tr th:only-of-type {\n",
       "        vertical-align: middle;\n",
       "    }\n",
       "\n",
       "    .dataframe tbody tr th {\n",
       "        vertical-align: top;\n",
       "    }\n",
       "\n",
       "    .dataframe thead th {\n",
       "        text-align: right;\n",
       "    }\n",
       "</style>\n",
       "<table border=\"1\" class=\"dataframe\">\n",
       "  <thead>\n",
       "    <tr style=\"text-align: right;\">\n",
       "      <th></th>\n",
       "      <th>Timestamp</th>\n",
       "      <th>Location of the house</th>\n",
       "      <th>What is the rent paid</th>\n",
       "      <th>Number of bedrooms</th>\n",
       "      <th>which floor do you live on</th>\n",
       "      <th>whats your household/family size</th>\n",
       "    </tr>\n",
       "  </thead>\n",
       "  <tbody>\n",
       "    <tr>\n",
       "      <th>0</th>\n",
       "      <td>2020-12-08 09:17:45.583</td>\n",
       "      <td>Kiambu area</td>\n",
       "      <td>12000</td>\n",
       "      <td>2</td>\n",
       "      <td>0.0</td>\n",
       "      <td>2.0</td>\n",
       "    </tr>\n",
       "    <tr>\n",
       "      <th>1</th>\n",
       "      <td>2020-12-08 09:20:45.177</td>\n",
       "      <td>Other</td>\n",
       "      <td>10000000</td>\n",
       "      <td>10</td>\n",
       "      <td>10.0</td>\n",
       "      <td>5.0</td>\n",
       "    </tr>\n",
       "    <tr>\n",
       "      <th>2</th>\n",
       "      <td>2020-12-08 09:21:03.627</td>\n",
       "      <td>Nairobi</td>\n",
       "      <td>NaN</td>\n",
       "      <td>0</td>\n",
       "      <td>0.0</td>\n",
       "      <td>1.0</td>\n",
       "    </tr>\n",
       "    <tr>\n",
       "      <th>3</th>\n",
       "      <td>2020-12-08 09:21:38.102</td>\n",
       "      <td>Nairobi</td>\n",
       "      <td>002</td>\n",
       "      <td>five bedrooms</td>\n",
       "      <td>0.0</td>\n",
       "      <td>1.0</td>\n",
       "    </tr>\n",
       "    <tr>\n",
       "      <th>4</th>\n",
       "      <td>2020-12-08 09:22:16.922</td>\n",
       "      <td>Other</td>\n",
       "      <td>five thousands</td>\n",
       "      <td>0</td>\n",
       "      <td>7.0</td>\n",
       "      <td>1.0</td>\n",
       "    </tr>\n",
       "  </tbody>\n",
       "</table>\n",
       "</div>"
      ],
      "text/plain": [
       "                Timestamp Location of the house What is the rent paid  \\\n",
       "0 2020-12-08 09:17:45.583           Kiambu area                 12000   \n",
       "1 2020-12-08 09:20:45.177                 Other              10000000   \n",
       "2 2020-12-08 09:21:03.627               Nairobi                   NaN   \n",
       "3 2020-12-08 09:21:38.102               Nairobi                   002   \n",
       "4 2020-12-08 09:22:16.922                 Other        five thousands   \n",
       "\n",
       "  Number of bedrooms  which floor do you live on  \\\n",
       "0                  2                         0.0   \n",
       "1                 10                        10.0   \n",
       "2                  0                         0.0   \n",
       "3      five bedrooms                         0.0   \n",
       "4                  0                         7.0   \n",
       "\n",
       "   whats your household/family size  \n",
       "0                               2.0  \n",
       "1                               5.0  \n",
       "2                               1.0  \n",
       "3                               1.0  \n",
       "4                               1.0  "
      ]
     },
     "execution_count": 10,
     "metadata": {},
     "output_type": "execute_result"
    }
   ],
   "source": [
    "df=pd.read_excel('Housing Survey (Responses).xlsx')\n",
    "df.head()"
   ]
  },
  {
   "cell_type": "code",
   "execution_count": 15,
   "metadata": {
    "ExecuteTime": {
     "end_time": "2020-12-14T15:31:14.586323Z",
     "start_time": "2020-12-14T15:31:14.559050Z"
    }
   },
   "outputs": [
    {
     "data": {
      "text/html": [
       "<div>\n",
       "<style scoped>\n",
       "    .dataframe tbody tr th:only-of-type {\n",
       "        vertical-align: middle;\n",
       "    }\n",
       "\n",
       "    .dataframe tbody tr th {\n",
       "        vertical-align: top;\n",
       "    }\n",
       "\n",
       "    .dataframe thead th {\n",
       "        text-align: right;\n",
       "    }\n",
       "</style>\n",
       "<table border=\"1\" class=\"dataframe\">\n",
       "  <thead>\n",
       "    <tr style=\"text-align: right;\">\n",
       "      <th></th>\n",
       "      <th>which floor do you live on</th>\n",
       "      <th>whats your household/family size</th>\n",
       "    </tr>\n",
       "  </thead>\n",
       "  <tbody>\n",
       "    <tr>\n",
       "      <th>count</th>\n",
       "      <td>52.000000</td>\n",
       "      <td>55.000000</td>\n",
       "    </tr>\n",
       "    <tr>\n",
       "      <th>mean</th>\n",
       "      <td>3.384615</td>\n",
       "      <td>3.472727</td>\n",
       "    </tr>\n",
       "    <tr>\n",
       "      <th>std</th>\n",
       "      <td>3.113247</td>\n",
       "      <td>1.608479</td>\n",
       "    </tr>\n",
       "    <tr>\n",
       "      <th>min</th>\n",
       "      <td>0.000000</td>\n",
       "      <td>1.000000</td>\n",
       "    </tr>\n",
       "    <tr>\n",
       "      <th>25%</th>\n",
       "      <td>0.750000</td>\n",
       "      <td>2.000000</td>\n",
       "    </tr>\n",
       "    <tr>\n",
       "      <th>50%</th>\n",
       "      <td>3.000000</td>\n",
       "      <td>4.000000</td>\n",
       "    </tr>\n",
       "    <tr>\n",
       "      <th>75%</th>\n",
       "      <td>5.000000</td>\n",
       "      <td>5.000000</td>\n",
       "    </tr>\n",
       "    <tr>\n",
       "      <th>max</th>\n",
       "      <td>10.000000</td>\n",
       "      <td>5.000000</td>\n",
       "    </tr>\n",
       "  </tbody>\n",
       "</table>\n",
       "</div>"
      ],
      "text/plain": [
       "       which floor do you live on  whats your household/family size\n",
       "count                   52.000000                         55.000000\n",
       "mean                     3.384615                          3.472727\n",
       "std                      3.113247                          1.608479\n",
       "min                      0.000000                          1.000000\n",
       "25%                      0.750000                          2.000000\n",
       "50%                      3.000000                          4.000000\n",
       "75%                      5.000000                          5.000000\n",
       "max                     10.000000                          5.000000"
      ]
     },
     "execution_count": 15,
     "metadata": {},
     "output_type": "execute_result"
    }
   ],
   "source": [
    "df.describe()"
   ]
  },
  {
   "cell_type": "code",
   "execution_count": 16,
   "metadata": {
    "ExecuteTime": {
     "end_time": "2020-12-14T15:31:47.663320Z",
     "start_time": "2020-12-14T15:31:47.650498Z"
    }
   },
   "outputs": [
    {
     "data": {
      "text/plain": [
       "Timestamp                            0\n",
       "Location of the house               12\n",
       "What is the rent paid               39\n",
       "Number of bedrooms                  20\n",
       "which floor do you live on          18\n",
       "whats your household/family size    15\n",
       "dtype: int64"
      ]
     },
     "execution_count": 16,
     "metadata": {},
     "output_type": "execute_result"
    }
   ],
   "source": [
    "df.isnull().sum()"
   ]
  },
  {
   "cell_type": "code",
   "execution_count": 19,
   "metadata": {
    "ExecuteTime": {
     "end_time": "2020-12-14T15:34:49.347811Z",
     "start_time": "2020-12-14T15:34:49.320297Z"
    }
   },
   "outputs": [
    {
     "data": {
      "text/html": [
       "<div>\n",
       "<style scoped>\n",
       "    .dataframe tbody tr th:only-of-type {\n",
       "        vertical-align: middle;\n",
       "    }\n",
       "\n",
       "    .dataframe tbody tr th {\n",
       "        vertical-align: top;\n",
       "    }\n",
       "\n",
       "    .dataframe thead th {\n",
       "        text-align: right;\n",
       "    }\n",
       "</style>\n",
       "<table border=\"1\" class=\"dataframe\">\n",
       "  <thead>\n",
       "    <tr style=\"text-align: right;\">\n",
       "      <th></th>\n",
       "      <th>Timestamp</th>\n",
       "      <th>Location of the house</th>\n",
       "      <th>What is the rent paid</th>\n",
       "      <th>Number of bedrooms</th>\n",
       "      <th>which floor do you live on</th>\n",
       "      <th>whats your household/family size</th>\n",
       "    </tr>\n",
       "  </thead>\n",
       "  <tbody>\n",
       "    <tr>\n",
       "      <th>0</th>\n",
       "      <td>2020-12-08 09:17:45.583</td>\n",
       "      <td>Kiambu area</td>\n",
       "      <td>12000</td>\n",
       "      <td>2</td>\n",
       "      <td>0.0</td>\n",
       "      <td>2.0</td>\n",
       "    </tr>\n",
       "    <tr>\n",
       "      <th>1</th>\n",
       "      <td>2020-12-08 09:20:45.177</td>\n",
       "      <td>Other</td>\n",
       "      <td>10000000</td>\n",
       "      <td>10</td>\n",
       "      <td>10.0</td>\n",
       "      <td>5.0</td>\n",
       "    </tr>\n",
       "    <tr>\n",
       "      <th>2</th>\n",
       "      <td>2020-12-08 09:21:03.627</td>\n",
       "      <td>Nairobi</td>\n",
       "      <td>0</td>\n",
       "      <td>0</td>\n",
       "      <td>0.0</td>\n",
       "      <td>1.0</td>\n",
       "    </tr>\n",
       "    <tr>\n",
       "      <th>3</th>\n",
       "      <td>2020-12-08 09:21:38.102</td>\n",
       "      <td>Nairobi</td>\n",
       "      <td>002</td>\n",
       "      <td>five bedrooms</td>\n",
       "      <td>0.0</td>\n",
       "      <td>1.0</td>\n",
       "    </tr>\n",
       "    <tr>\n",
       "      <th>4</th>\n",
       "      <td>2020-12-08 09:22:16.922</td>\n",
       "      <td>Other</td>\n",
       "      <td>five thousands</td>\n",
       "      <td>0</td>\n",
       "      <td>7.0</td>\n",
       "      <td>1.0</td>\n",
       "    </tr>\n",
       "    <tr>\n",
       "      <th>...</th>\n",
       "      <td>...</td>\n",
       "      <td>...</td>\n",
       "      <td>...</td>\n",
       "      <td>...</td>\n",
       "      <td>...</td>\n",
       "      <td>...</td>\n",
       "    </tr>\n",
       "    <tr>\n",
       "      <th>65</th>\n",
       "      <td>2020-12-14 03:24:49.472</td>\n",
       "      <td>Kiambu area</td>\n",
       "      <td>0</td>\n",
       "      <td>0</td>\n",
       "      <td>0.0</td>\n",
       "      <td>5.0</td>\n",
       "    </tr>\n",
       "    <tr>\n",
       "      <th>66</th>\n",
       "      <td>2020-12-14 03:24:57.456</td>\n",
       "      <td>Kiambu area</td>\n",
       "      <td>0</td>\n",
       "      <td>3</td>\n",
       "      <td>10.0</td>\n",
       "      <td>0.0</td>\n",
       "    </tr>\n",
       "    <tr>\n",
       "      <th>67</th>\n",
       "      <td>2020-12-14 03:25:04.016</td>\n",
       "      <td>Kiambu area</td>\n",
       "      <td>0</td>\n",
       "      <td>0</td>\n",
       "      <td>4.0</td>\n",
       "      <td>5.0</td>\n",
       "    </tr>\n",
       "    <tr>\n",
       "      <th>68</th>\n",
       "      <td>2020-12-14 03:25:11.475</td>\n",
       "      <td>Kiambu area</td>\n",
       "      <td>0</td>\n",
       "      <td>10</td>\n",
       "      <td>0.0</td>\n",
       "      <td>0.0</td>\n",
       "    </tr>\n",
       "    <tr>\n",
       "      <th>69</th>\n",
       "      <td>2020-12-14 03:25:19.012</td>\n",
       "      <td>Kiambu area</td>\n",
       "      <td>0</td>\n",
       "      <td>0</td>\n",
       "      <td>3.0</td>\n",
       "      <td>5.0</td>\n",
       "    </tr>\n",
       "  </tbody>\n",
       "</table>\n",
       "<p>70 rows × 6 columns</p>\n",
       "</div>"
      ],
      "text/plain": [
       "                 Timestamp Location of the house What is the rent paid  \\\n",
       "0  2020-12-08 09:17:45.583           Kiambu area                 12000   \n",
       "1  2020-12-08 09:20:45.177                 Other              10000000   \n",
       "2  2020-12-08 09:21:03.627               Nairobi                     0   \n",
       "3  2020-12-08 09:21:38.102               Nairobi                   002   \n",
       "4  2020-12-08 09:22:16.922                 Other        five thousands   \n",
       "..                     ...                   ...                   ...   \n",
       "65 2020-12-14 03:24:49.472           Kiambu area                     0   \n",
       "66 2020-12-14 03:24:57.456           Kiambu area                     0   \n",
       "67 2020-12-14 03:25:04.016           Kiambu area                     0   \n",
       "68 2020-12-14 03:25:11.475           Kiambu area                     0   \n",
       "69 2020-12-14 03:25:19.012           Kiambu area                     0   \n",
       "\n",
       "   Number of bedrooms  which floor do you live on  \\\n",
       "0                   2                         0.0   \n",
       "1                  10                        10.0   \n",
       "2                   0                         0.0   \n",
       "3       five bedrooms                         0.0   \n",
       "4                   0                         7.0   \n",
       "..                ...                         ...   \n",
       "65                  0                         0.0   \n",
       "66                  3                        10.0   \n",
       "67                  0                         4.0   \n",
       "68                 10                         0.0   \n",
       "69                  0                         3.0   \n",
       "\n",
       "    whats your household/family size  \n",
       "0                                2.0  \n",
       "1                                5.0  \n",
       "2                                1.0  \n",
       "3                                1.0  \n",
       "4                                1.0  \n",
       "..                               ...  \n",
       "65                               5.0  \n",
       "66                               0.0  \n",
       "67                               5.0  \n",
       "68                               0.0  \n",
       "69                               5.0  \n",
       "\n",
       "[70 rows x 6 columns]"
      ]
     },
     "execution_count": 19,
     "metadata": {},
     "output_type": "execute_result"
    }
   ],
   "source": [
    "df.fillna(0)"
   ]
  },
  {
   "cell_type": "code",
   "execution_count": 21,
   "metadata": {
    "ExecuteTime": {
     "end_time": "2020-12-14T15:35:16.364104Z",
     "start_time": "2020-12-14T15:35:16.356951Z"
    }
   },
   "outputs": [
    {
     "data": {
      "text/plain": [
       "Index(['Timestamp', 'Location of the house', 'What is the rent paid',\n",
       "       'Number of bedrooms', 'which floor do you live on',\n",
       "       'whats your household/family size'],\n",
       "      dtype='object')"
      ]
     },
     "execution_count": 21,
     "metadata": {},
     "output_type": "execute_result"
    }
   ],
   "source": [
    "df.columns"
   ]
  },
  {
   "cell_type": "code",
   "execution_count": 22,
   "metadata": {
    "ExecuteTime": {
     "end_time": "2020-12-14T15:35:28.836732Z",
     "start_time": "2020-12-14T15:35:28.817593Z"
    }
   },
   "outputs": [
    {
     "name": "stdout",
     "output_type": "stream",
     "text": [
      "<class 'pandas.core.frame.DataFrame'>\n",
      "RangeIndex: 70 entries, 0 to 69\n",
      "Data columns (total 6 columns):\n",
      " #   Column                            Non-Null Count  Dtype         \n",
      "---  ------                            --------------  -----         \n",
      " 0   Timestamp                         70 non-null     datetime64[ns]\n",
      " 1   Location of the house             58 non-null     object        \n",
      " 2   What is the rent paid             31 non-null     object        \n",
      " 3   Number of bedrooms                50 non-null     object        \n",
      " 4   which floor do you live on        52 non-null     float64       \n",
      " 5   whats your household/family size  55 non-null     float64       \n",
      "dtypes: datetime64[ns](1), float64(2), object(3)\n",
      "memory usage: 3.4+ KB\n"
     ]
    }
   ],
   "source": [
    "df.info()"
   ]
  },
  {
   "cell_type": "code",
   "execution_count": 40,
   "metadata": {
    "ExecuteTime": {
     "end_time": "2020-12-14T15:48:01.151790Z",
     "start_time": "2020-12-14T15:48:01.146511Z"
    }
   },
   "outputs": [],
   "source": [
    "df['What is the rent paid']=df['What is the rent paid'].fillna(0)"
   ]
  },
  {
   "cell_type": "code",
   "execution_count": 42,
   "metadata": {
    "ExecuteTime": {
     "end_time": "2020-12-14T15:48:43.791603Z",
     "start_time": "2020-12-14T15:48:43.767308Z"
    }
   },
   "outputs": [
    {
     "data": {
      "text/html": [
       "<div>\n",
       "<style scoped>\n",
       "    .dataframe tbody tr th:only-of-type {\n",
       "        vertical-align: middle;\n",
       "    }\n",
       "\n",
       "    .dataframe tbody tr th {\n",
       "        vertical-align: top;\n",
       "    }\n",
       "\n",
       "    .dataframe thead th {\n",
       "        text-align: right;\n",
       "    }\n",
       "</style>\n",
       "<table border=\"1\" class=\"dataframe\">\n",
       "  <thead>\n",
       "    <tr style=\"text-align: right;\">\n",
       "      <th></th>\n",
       "      <th>Timestamp</th>\n",
       "      <th>Location of the house</th>\n",
       "      <th>What is the rent paid</th>\n",
       "      <th>Number of bedrooms</th>\n",
       "      <th>which floor do you live on</th>\n",
       "      <th>whats your household/family size</th>\n",
       "    </tr>\n",
       "  </thead>\n",
       "  <tbody>\n",
       "    <tr>\n",
       "      <th>0</th>\n",
       "      <td>2020-12-08 09:17:45.583</td>\n",
       "      <td>Kiambu area</td>\n",
       "      <td>12000</td>\n",
       "      <td>2</td>\n",
       "      <td>0.0</td>\n",
       "      <td>2.0</td>\n",
       "    </tr>\n",
       "    <tr>\n",
       "      <th>1</th>\n",
       "      <td>2020-12-08 09:20:45.177</td>\n",
       "      <td>Other</td>\n",
       "      <td>10000000</td>\n",
       "      <td>10</td>\n",
       "      <td>10.0</td>\n",
       "      <td>5.0</td>\n",
       "    </tr>\n",
       "    <tr>\n",
       "      <th>2</th>\n",
       "      <td>2020-12-08 09:21:03.627</td>\n",
       "      <td>Nairobi</td>\n",
       "      <td>0</td>\n",
       "      <td>0</td>\n",
       "      <td>0.0</td>\n",
       "      <td>1.0</td>\n",
       "    </tr>\n",
       "    <tr>\n",
       "      <th>3</th>\n",
       "      <td>2020-12-08 09:21:38.102</td>\n",
       "      <td>Nairobi</td>\n",
       "      <td>002</td>\n",
       "      <td>five bedrooms</td>\n",
       "      <td>0.0</td>\n",
       "      <td>1.0</td>\n",
       "    </tr>\n",
       "    <tr>\n",
       "      <th>4</th>\n",
       "      <td>2020-12-08 09:22:16.922</td>\n",
       "      <td>Other</td>\n",
       "      <td>five thousands</td>\n",
       "      <td>0</td>\n",
       "      <td>7.0</td>\n",
       "      <td>1.0</td>\n",
       "    </tr>\n",
       "  </tbody>\n",
       "</table>\n",
       "</div>"
      ],
      "text/plain": [
       "                Timestamp Location of the house What is the rent paid  \\\n",
       "0 2020-12-08 09:17:45.583           Kiambu area                 12000   \n",
       "1 2020-12-08 09:20:45.177                 Other              10000000   \n",
       "2 2020-12-08 09:21:03.627               Nairobi                     0   \n",
       "3 2020-12-08 09:21:38.102               Nairobi                   002   \n",
       "4 2020-12-08 09:22:16.922                 Other        five thousands   \n",
       "\n",
       "  Number of bedrooms  which floor do you live on  \\\n",
       "0                  2                         0.0   \n",
       "1                 10                        10.0   \n",
       "2                  0                         0.0   \n",
       "3      five bedrooms                         0.0   \n",
       "4                  0                         7.0   \n",
       "\n",
       "   whats your household/family size  \n",
       "0                               2.0  \n",
       "1                               5.0  \n",
       "2                               1.0  \n",
       "3                               1.0  \n",
       "4                               1.0  "
      ]
     },
     "execution_count": 42,
     "metadata": {},
     "output_type": "execute_result"
    }
   ],
   "source": [
    "df=df.fillna(0)\n",
    "df.head()"
   ]
  },
  {
   "cell_type": "code",
   "execution_count": 57,
   "metadata": {
    "ExecuteTime": {
     "end_time": "2020-12-14T16:04:08.132603Z",
     "start_time": "2020-12-14T16:04:08.112653Z"
    }
   },
   "outputs": [
    {
     "data": {
      "text/html": [
       "<div>\n",
       "<style scoped>\n",
       "    .dataframe tbody tr th:only-of-type {\n",
       "        vertical-align: middle;\n",
       "    }\n",
       "\n",
       "    .dataframe tbody tr th {\n",
       "        vertical-align: top;\n",
       "    }\n",
       "\n",
       "    .dataframe thead th {\n",
       "        text-align: right;\n",
       "    }\n",
       "</style>\n",
       "<table border=\"1\" class=\"dataframe\">\n",
       "  <thead>\n",
       "    <tr style=\"text-align: right;\">\n",
       "      <th></th>\n",
       "      <th>Timestamp</th>\n",
       "      <th>Location of the house</th>\n",
       "      <th>What is the rent paid</th>\n",
       "      <th>Number of bedrooms</th>\n",
       "      <th>which floor do you live on</th>\n",
       "      <th>whats your household/family size</th>\n",
       "    </tr>\n",
       "  </thead>\n",
       "  <tbody>\n",
       "    <tr>\n",
       "      <th>0</th>\n",
       "      <td>2020-12-08 09:17:45.583</td>\n",
       "      <td>Kiambu area</td>\n",
       "      <td>12000</td>\n",
       "      <td>2</td>\n",
       "      <td>0.0</td>\n",
       "      <td>2.0</td>\n",
       "    </tr>\n",
       "    <tr>\n",
       "      <th>1</th>\n",
       "      <td>2020-12-08 09:20:45.177</td>\n",
       "      <td>Other</td>\n",
       "      <td>10000000</td>\n",
       "      <td>10</td>\n",
       "      <td>10.0</td>\n",
       "      <td>5.0</td>\n",
       "    </tr>\n",
       "    <tr>\n",
       "      <th>2</th>\n",
       "      <td>2020-12-08 09:21:03.627</td>\n",
       "      <td>Nairobi</td>\n",
       "      <td>0</td>\n",
       "      <td>0</td>\n",
       "      <td>0.0</td>\n",
       "      <td>1.0</td>\n",
       "    </tr>\n",
       "    <tr>\n",
       "      <th>3</th>\n",
       "      <td>2020-12-08 09:21:38.102</td>\n",
       "      <td>Nairobi</td>\n",
       "      <td>002</td>\n",
       "      <td>5</td>\n",
       "      <td>0.0</td>\n",
       "      <td>1.0</td>\n",
       "    </tr>\n",
       "    <tr>\n",
       "      <th>4</th>\n",
       "      <td>2020-12-08 09:22:16.922</td>\n",
       "      <td>Other</td>\n",
       "      <td>five thousands</td>\n",
       "      <td>0</td>\n",
       "      <td>7.0</td>\n",
       "      <td>1.0</td>\n",
       "    </tr>\n",
       "  </tbody>\n",
       "</table>\n",
       "</div>"
      ],
      "text/plain": [
       "                Timestamp Location of the house What is the rent paid  \\\n",
       "0 2020-12-08 09:17:45.583           Kiambu area                 12000   \n",
       "1 2020-12-08 09:20:45.177                 Other              10000000   \n",
       "2 2020-12-08 09:21:03.627               Nairobi                     0   \n",
       "3 2020-12-08 09:21:38.102               Nairobi                   002   \n",
       "4 2020-12-08 09:22:16.922                 Other        five thousands   \n",
       "\n",
       "   Number of bedrooms  which floor do you live on  \\\n",
       "0                   2                         0.0   \n",
       "1                  10                        10.0   \n",
       "2                   0                         0.0   \n",
       "3                   5                         0.0   \n",
       "4                   0                         7.0   \n",
       "\n",
       "   whats your household/family size  \n",
       "0                               2.0  \n",
       "1                               5.0  \n",
       "2                               1.0  \n",
       "3                               1.0  \n",
       "4                               1.0  "
      ]
     },
     "execution_count": 57,
     "metadata": {},
     "output_type": "execute_result"
    }
   ],
   "source": [
    "clean_bedr=[]\n",
    "for i in df['Number of bedrooms']:\n",
    "    if i=='five bedrooms':\n",
    "        clean_bedr.append(5)\n",
    "    else:\n",
    "        clean_bedr.append(i)\n",
    "df['Number of bedrooms']=clean_bedr\n",
    "df.head()"
   ]
  },
  {
   "cell_type": "code",
   "execution_count": 58,
   "metadata": {
    "ExecuteTime": {
     "end_time": "2020-12-14T16:06:42.698352Z",
     "start_time": "2020-12-14T16:06:42.690452Z"
    }
   },
   "outputs": [
    {
     "data": {
      "text/plain": [
       "0                 39\n",
       "30000              3\n",
       "6000               3\n",
       "45000              2\n",
       "100000             2\n",
       "15000              1\n",
       "7800               1\n",
       "85000              1\n",
       "7500               1\n",
       "90000              1\n",
       "10000000           1\n",
       "4500               1\n",
       "4000               1\n",
       "670000             1\n",
       "5500               1\n",
       "700000             1\n",
       "12000              1\n",
       "39000              1\n",
       "45                 1\n",
       "150000             1\n",
       "3000               1\n",
       "002                1\n",
       "10000              1\n",
       "36000              1\n",
       "five thousands     1\n",
       "3000000            1\n",
       "Name: What is the rent paid, dtype: int64"
      ]
     },
     "execution_count": 58,
     "metadata": {},
     "output_type": "execute_result"
    }
   ],
   "source": [
    "df['What is the rent paid'].value_counts()"
   ]
  },
  {
   "cell_type": "code",
   "execution_count": 2,
   "metadata": {
    "ExecuteTime": {
     "end_time": "2020-12-14T16:28:35.768198Z",
     "start_time": "2020-12-14T16:28:35.742380Z"
    }
   },
   "outputs": [
    {
     "ename": "NameError",
     "evalue": "name 'df' is not defined",
     "output_type": "error",
     "traceback": [
      "\u001b[0;31m---------------------------------------------------------------------------\u001b[0m",
      "\u001b[0;31mNameError\u001b[0m                                 Traceback (most recent call last)",
      "\u001b[0;32m<ipython-input-2-05c7b5bb099f>\u001b[0m in \u001b[0;36m<module>\u001b[0;34m\u001b[0m\n\u001b[1;32m      1\u001b[0m \u001b[0mclean_rent\u001b[0m\u001b[0;34m=\u001b[0m\u001b[0;34m[\u001b[0m\u001b[0;34m]\u001b[0m\u001b[0;34m\u001b[0m\u001b[0;34m\u001b[0m\u001b[0m\n\u001b[0;32m----> 2\u001b[0;31m \u001b[0;32mfor\u001b[0m \u001b[0mi\u001b[0m \u001b[0;32min\u001b[0m \u001b[0mdf\u001b[0m\u001b[0;34m[\u001b[0m\u001b[0;34m'What is the rent paid'\u001b[0m\u001b[0;34m]\u001b[0m\u001b[0;34m:\u001b[0m\u001b[0;34m\u001b[0m\u001b[0;34m\u001b[0m\u001b[0m\n\u001b[0m\u001b[1;32m      3\u001b[0m     \u001b[0;32mif\u001b[0m \u001b[0mi\u001b[0m\u001b[0;34m==\u001b[0m\u001b[0;34m'five thousands'\u001b[0m\u001b[0;34m:\u001b[0m\u001b[0;34m\u001b[0m\u001b[0;34m\u001b[0m\u001b[0m\n\u001b[1;32m      4\u001b[0m         \u001b[0mclean_rent\u001b[0m\u001b[0;34m.\u001b[0m\u001b[0mappend\u001b[0m\u001b[0;34m(\u001b[0m\u001b[0;36m5000\u001b[0m\u001b[0;34m)\u001b[0m\u001b[0;34m\u001b[0m\u001b[0;34m\u001b[0m\u001b[0m\n\u001b[1;32m      5\u001b[0m     \u001b[0;32melif\u001b[0m \u001b[0mint\u001b[0m\u001b[0;34m(\u001b[0m\u001b[0mi\u001b[0m\u001b[0;34m)\u001b[0m\u001b[0;34m>\u001b[0m\u001b[0;36m500000\u001b[0m\u001b[0;34m:\u001b[0m\u001b[0;34m\u001b[0m\u001b[0;34m\u001b[0m\u001b[0m\n",
      "\u001b[0;31mNameError\u001b[0m: name 'df' is not defined"
     ]
    }
   ],
   "source": [
    "clean_rent=[]\n",
    "for i in df['What is the rent paid']:\n",
    "    if i=='five thousands':\n",
    "        clean_rent.append(5000)\n",
    "    elif int(i)>500000:\n",
    "        clean_rent.append(0)\n",
    "    else:\n",
    "        clean_rent.append(int(i))\n",
    "df['What is the rent paid']=clean_rent\n",
    "df.head()"
   ]
  },
  {
   "cell_type": "code",
   "execution_count": 75,
   "metadata": {
    "ExecuteTime": {
     "end_time": "2020-12-14T16:28:39.841008Z",
     "start_time": "2020-12-14T16:28:39.628251Z"
    }
   },
   "outputs": [
    {
     "data": {
      "text/plain": [
       "(array([7., 0., 0., 0., 0., 0., 0., 0., 0., 1.]),\n",
       " array([1.00000e+00, 1.00009e+04, 2.00008e+04, 3.00007e+04, 4.00006e+04,\n",
       "        5.00005e+04, 6.00004e+04, 7.00003e+04, 8.00002e+04, 9.00001e+04,\n",
       "        1.00000e+05]),\n",
       " <BarContainer object of 10 artists>)"
      ]
     },
     "execution_count": 75,
     "metadata": {},
     "output_type": "execute_result"
    },
    {
     "data": {
      "image/png": "[encoded data removed]",
      "text/plain": [
       "<Figure size 432x288 with 1 Axes>"
      ]
     },
     "metadata": {
      "needs_background": "light"
     },
     "output_type": "display_data"
    }
   ],
   "source": [
    "import numpy as np\n",
    "import matplotlib.pyplot as plt\n",
    "\n",
    "plt.hist(np.array([100000,1000,23,78,90,100,100,1]))"
   ]
  },
  {
   "cell_type": "code",
   "execution_count": 76,
   "metadata": {
    "ExecuteTime": {
     "end_time": "2020-12-14T16:28:40.368413Z",
     "start_time": "2020-12-14T16:28:40.351780Z"
    }
   },
   "outputs": [
    {
     "data": {
      "text/plain": [
       "0         43\n",
       "6000       3\n",
       "30000      3\n",
       "100000     2\n",
       "45000      2\n",
       "45         1\n",
       "2          1\n",
       "90000      1\n",
       "5000       1\n",
       "10000      1\n",
       "4500       1\n",
       "15000      1\n",
       "4000       1\n",
       "150000     1\n",
       "12000      1\n",
       "7800       1\n",
       "36000      1\n",
       "3000       1\n",
       "85000      1\n",
       "7500       1\n",
       "39000      1\n",
       "5500       1\n",
       "Name: What is the rent paid, dtype: int64"
      ]
     },
     "execution_count": 76,
     "metadata": {},
     "output_type": "execute_result"
    }
   ],
   "source": [
    "df['What is the rent paid'].value_counts()"
   ]
  },
  {
   "cell_type": "code",
   "execution_count": 82,
   "metadata": {
    "ExecuteTime": {
     "end_time": "2020-12-14T16:33:33.793357Z",
     "start_time": "2020-12-14T16:33:33.658423Z"
    }
   },
   "outputs": [
    {
     "data": {
      "text/plain": [
       "<AxesSubplot:ylabel='Location of the house'>"
      ]
     },
     "execution_count": 82,
     "metadata": {},
     "output_type": "execute_result"
    },
    {
     "data": {
      "image/png": "[encoded data removed]",
      "text/plain": [
       "<Figure size 432x288 with 1 Axes>"
      ]
     },
     "metadata": {},
     "output_type": "display_data"
    }
   ],
   "source": [
    "df['Location of the house'].value_counts().plot(kind='pie')"
   ]
  },
  {
   "cell_type": "code",
   "execution_count": 86,
   "metadata": {
    "ExecuteTime": {
     "end_time": "2020-12-14T16:35:49.692443Z",
     "start_time": "2020-12-14T16:35:49.465244Z"
    }
   },
   "outputs": [
    {
     "data": {
      "text/plain": [
       "<AxesSubplot:>"
      ]
     },
     "execution_count": 86,
     "metadata": {},
     "output_type": "execute_result"
    },
    {
     "data": {
      "image/png": "[encoded data removed]",
      "text/plain": [
       "<Figure size 432x288 with 1 Axes>"
      ]
     },
     "metadata": {
      "needs_background": "light"
     },
     "output_type": "display_data"
    }
   ],
   "source": [
    "df['Number of bedrooms'].value_counts().plot(kind='barh')"
   ]
  },
  {
   "cell_type": "code",
   "execution_count": 90,
   "metadata": {
    "ExecuteTime": {
     "end_time": "2020-12-14T16:43:53.424604Z",
     "start_time": "2020-12-14T16:43:53.144137Z"
    }
   },
   "outputs": [
    {
     "data": {
      "text/plain": [
       "<AxesSubplot:xlabel='Number of bedrooms,Location of the house'>"
      ]
     },
     "execution_count": 90,
     "metadata": {},
     "output_type": "execute_result"
    },
    {
     "data": {
      "image/png": "[encoded data removed]",
      "text/plain": [
       "<Figure size 432x288 with 1 Axes>"
      ]
     },
     "metadata": {
      "needs_background": "light"
     },
     "output_type": "display_data"
    }
   ],
   "source": [
    "df.groupby(['Number of bedrooms','Location of the house'])['What is the rent paid'].agg(['mean']).plot(kind='bar')"
   ]
  },
  {
   "cell_type": "markdown",
   "metadata": {},
   "source": [
    "# machine learning"
   ]
  },
  {
   "cell_type": "markdown",
   "metadata": {},
   "source": [
    "## Split the data into x and y"
   ]
  },
  {
   "cell_type": "code",
   "execution_count": 94,
   "metadata": {
    "ExecuteTime": {
     "end_time": "2020-12-14T16:50:11.779028Z",
     "start_time": "2020-12-14T16:50:11.769013Z"
    }
   },
   "outputs": [],
   "source": [
    "x = df.drop(['What is the rent paid','Timestamp'],axis = 1)\n",
    "y = df['What is the rent paid']"
   ]
  },
  {
   "cell_type": "code",
   "execution_count": 111,
   "metadata": {
    "ExecuteTime": {
     "end_time": "2020-12-14T17:05:03.987140Z",
     "start_time": "2020-12-14T17:05:03.972577Z"
    }
   },
   "outputs": [
    {
     "data": {
      "text/html": [
       "<div>\n",
       "<style scoped>\n",
       "    .dataframe tbody tr th:only-of-type {\n",
       "        vertical-align: middle;\n",
       "    }\n",
       "\n",
       "    .dataframe tbody tr th {\n",
       "        vertical-align: top;\n",
       "    }\n",
       "\n",
       "    .dataframe thead th {\n",
       "        text-align: right;\n",
       "    }\n",
       "</style>\n",
       "<table border=\"1\" class=\"dataframe\">\n",
       "  <thead>\n",
       "    <tr style=\"text-align: right;\">\n",
       "      <th></th>\n",
       "      <th>Kiambu area</th>\n",
       "      <th>Nairobi</th>\n",
       "      <th>Other</th>\n",
       "      <th>Kiambu area</th>\n",
       "      <th>Nairobi</th>\n",
       "      <th>Other</th>\n",
       "      <th>Kiambu area</th>\n",
       "      <th>Nairobi</th>\n",
       "      <th>Other</th>\n",
       "      <th>Number of bedrooms</th>\n",
       "      <th>which floor do you live on</th>\n",
       "      <th>whats your household/family size</th>\n",
       "    </tr>\n",
       "  </thead>\n",
       "  <tbody>\n",
       "    <tr>\n",
       "      <th>0</th>\n",
       "      <td>1</td>\n",
       "      <td>0</td>\n",
       "      <td>0</td>\n",
       "      <td>1</td>\n",
       "      <td>0</td>\n",
       "      <td>0</td>\n",
       "      <td>1</td>\n",
       "      <td>0</td>\n",
       "      <td>0</td>\n",
       "      <td>2</td>\n",
       "      <td>0.0</td>\n",
       "      <td>2.0</td>\n",
       "    </tr>\n",
       "    <tr>\n",
       "      <th>1</th>\n",
       "      <td>0</td>\n",
       "      <td>0</td>\n",
       "      <td>1</td>\n",
       "      <td>0</td>\n",
       "      <td>0</td>\n",
       "      <td>1</td>\n",
       "      <td>0</td>\n",
       "      <td>0</td>\n",
       "      <td>1</td>\n",
       "      <td>10</td>\n",
       "      <td>10.0</td>\n",
       "      <td>5.0</td>\n",
       "    </tr>\n",
       "    <tr>\n",
       "      <th>2</th>\n",
       "      <td>0</td>\n",
       "      <td>1</td>\n",
       "      <td>0</td>\n",
       "      <td>0</td>\n",
       "      <td>1</td>\n",
       "      <td>0</td>\n",
       "      <td>0</td>\n",
       "      <td>1</td>\n",
       "      <td>0</td>\n",
       "      <td>0</td>\n",
       "      <td>0.0</td>\n",
       "      <td>1.0</td>\n",
       "    </tr>\n",
       "    <tr>\n",
       "      <th>3</th>\n",
       "      <td>0</td>\n",
       "      <td>1</td>\n",
       "      <td>0</td>\n",
       "      <td>0</td>\n",
       "      <td>1</td>\n",
       "      <td>0</td>\n",
       "      <td>0</td>\n",
       "      <td>1</td>\n",
       "      <td>0</td>\n",
       "      <td>5</td>\n",
       "      <td>0.0</td>\n",
       "      <td>1.0</td>\n",
       "    </tr>\n",
       "    <tr>\n",
       "      <th>4</th>\n",
       "      <td>0</td>\n",
       "      <td>0</td>\n",
       "      <td>1</td>\n",
       "      <td>0</td>\n",
       "      <td>0</td>\n",
       "      <td>1</td>\n",
       "      <td>0</td>\n",
       "      <td>0</td>\n",
       "      <td>1</td>\n",
       "      <td>0</td>\n",
       "      <td>7.0</td>\n",
       "      <td>1.0</td>\n",
       "    </tr>\n",
       "  </tbody>\n",
       "</table>\n",
       "</div>"
      ],
      "text/plain": [
       "   Kiambu area  Nairobi  Other  Kiambu area  Nairobi  Other  Kiambu area  \\\n",
       "0            1        0      0            1        0      0            1   \n",
       "1            0        0      1            0        0      1            0   \n",
       "2            0        1      0            0        1      0            0   \n",
       "3            0        1      0            0        1      0            0   \n",
       "4            0        0      1            0        0      1            0   \n",
       "\n",
       "   Nairobi  Other  Number of bedrooms  which floor do you live on  \\\n",
       "0        0      0                   2                         0.0   \n",
       "1        0      1                  10                        10.0   \n",
       "2        1      0                   0                         0.0   \n",
       "3        1      0                   5                         0.0   \n",
       "4        0      1                   0                         7.0   \n",
       "\n",
       "   whats your household/family size  \n",
       "0                               2.0  \n",
       "1                               5.0  \n",
       "2                               1.0  \n",
       "3                               1.0  \n",
       "4                               1.0  "
      ]
     },
     "execution_count": 111,
     "metadata": {},
     "output_type": "execute_result"
    }
   ],
   "source": [
    "dum = pd.get_dummies(df['Location of the house']).iloc[:,1:4]\n",
    "#x = x.drop(['Location of the house'],axis = 1)\n",
    "x = pd.concat((dum,x),axis =1)\n",
    "x.head()"
   ]
  },
  {
   "cell_type": "code",
   "execution_count": 130,
   "metadata": {
    "ExecuteTime": {
     "end_time": "2020-12-14T17:32:25.622560Z",
     "start_time": "2020-12-14T17:32:25.617640Z"
    }
   },
   "outputs": [],
   "source": [
    "#split the data into 4 prts\n",
    "from sklearn.model_selection import train_test_split\n",
    "x_train,x_test,y_train,y_test=train_test_split(x,y)"
   ]
  },
  {
   "cell_type": "code",
   "execution_count": 131,
   "metadata": {
    "ExecuteTime": {
     "end_time": "2020-12-14T17:32:25.921264Z",
     "start_time": "2020-12-14T17:32:25.914709Z"
    }
   },
   "outputs": [],
   "source": [
    "#initialize model\n",
    "from sklearn.linear_model import LinearRegression\n",
    "model=LinearRegression()"
   ]
  },
  {
   "cell_type": "code",
   "execution_count": 132,
   "metadata": {
    "ExecuteTime": {
     "end_time": "2020-12-14T17:32:26.330080Z",
     "start_time": "2020-12-14T17:32:26.316359Z"
    }
   },
   "outputs": [
    {
     "data": {
      "text/plain": [
       "LinearRegression()"
      ]
     },
     "execution_count": 132,
     "metadata": {},
     "output_type": "execute_result"
    }
   ],
   "source": [
    "#fit model\n",
    "model.fit(x_train,y_train)"
   ]
  },
  {
   "cell_type": "code",
   "execution_count": 133,
   "metadata": {
    "ExecuteTime": {
     "end_time": "2020-12-14T17:32:27.523450Z",
     "start_time": "2020-12-14T17:32:27.518868Z"
    }
   },
   "outputs": [],
   "source": [
    "#prediction\n",
    "pred1=model.predict(x_test)"
   ]
  },
  {
   "cell_type": "code",
   "execution_count": 134,
   "metadata": {
    "ExecuteTime": {
     "end_time": "2020-12-14T17:32:28.411927Z",
     "start_time": "2020-12-14T17:32:28.405450Z"
    }
   },
   "outputs": [
    {
     "data": {
      "text/plain": [
       "28485.699999999997"
      ]
     },
     "execution_count": 134,
     "metadata": {},
     "output_type": "execute_result"
    }
   ],
   "source": [
    "#compare\n",
    "from sklearn.metrics import mean_absolute_error\n",
    "mean_absolute_error(pred,y_test)"
   ]
  },
  {
   "cell_type": "code",
   "execution_count": 135,
   "metadata": {
    "ExecuteTime": {
     "end_time": "2020-12-14T17:32:34.599037Z",
     "start_time": "2020-12-14T17:32:29.016421Z"
    }
   },
   "outputs": [
    {
     "data": {
      "text/plain": [
       "23886.782055555555"
      ]
     },
     "execution_count": 135,
     "metadata": {},
     "output_type": "execute_result"
    }
   ],
   "source": [
    "from sklearn.ensemble import RandomForestRegressor\n",
    "model=RandomForestRegressor(n_estimators=5000)\n",
    "model.fit(x_train,y_train)\n",
    "pred=model.predict(x_test)\n",
    "from sklearn.metrics import mean_absolute_error\n",
    "mean_absolute_error(pred,y_test)"
   ]
  },
  {
   "cell_type": "code",
   "execution_count": 144,
   "metadata": {
    "ExecuteTime": {
     "end_time": "2020-12-14T17:35:03.608264Z",
     "start_time": "2020-12-14T17:35:03.601283Z"
    }
   },
   "outputs": [],
   "source": [
    "preds = pd.DataFrame(pred1,columns = ['logistic'])\n",
    "preds['RF'] = pred\n",
    "#preds['y_test'] = y_test\n",
    "pred3 = preds.mean(axis = 1)"
   ]
  },
  {
   "cell_type": "code",
   "execution_count": 145,
   "metadata": {
    "ExecuteTime": {
     "end_time": "2020-12-14T17:35:03.837671Z",
     "start_time": "2020-12-14T17:35:03.832472Z"
    }
   },
   "outputs": [
    {
     "data": {
      "text/plain": [
       "22960.48091063065"
      ]
     },
     "execution_count": 145,
     "metadata": {},
     "output_type": "execute_result"
    }
   ],
   "source": [
    "mean_absolute_error(pred3,y_test)"
   ]
  },
  {
   "cell_type": "code",
   "execution_count": null,
   "metadata": {},
   "outputs": [],
   "source": []
  }
 ],
 "metadata": {
  "kernelspec": {
   "display_name": "Python 3",
   "language": "python",
   "name": "python3"
  },
  "language_info": {
   "codemirror_mode": {
    "name": "ipython",
    "version": 3
   },
   "file_extension": ".py",
   "mimetype": "text/x-python",
   "name": "python",
   "nbconvert_exporter": "python",
   "pygments_lexer": "ipython3",
   "version": "3.7.6"
  },
  "toc": {
   "base_numbering": 1,
   "nav_menu": {},
   "number_sections": true,
   "sideBar": true,
   "skip_h1_title": false,
   "title_cell": "Table of Contents",
   "title_sidebar": "Contents",
   "toc_cell": false,
   "toc_position": {},
   "toc_section_display": true,
   "toc_window_display": false
  },
  "varInspector": {
   "cols": {
    "lenName": 16,
    "lenType": 16,
    "lenVar": 40
   },
   "kernels_config": {
    "python": {
     "delete_cmd_postfix": "",
     "delete_cmd_prefix": "del ",
     "library": "var_list.py",
     "varRefreshCmd": "print(var_dic_list())"
    },
    "r": {
     "delete_cmd_postfix": ") ",
     "delete_cmd_prefix": "rm(",
     "library": "var_list.r",
     "varRefreshCmd": "cat(var_dic_list()) "
    }
   },
   "types_to_exclude": [
    "module",
    "function",
    "builtin_function_or_method",
    "instance",
    "_Feature"
   ],
   "window_display": false
  }
 },
 "nbformat": 4,
 "nbformat_minor": 4
}
