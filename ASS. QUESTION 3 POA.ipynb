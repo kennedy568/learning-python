{
 "cells": [
  {
   "cell_type": "markdown",
   "metadata": {},
   "source": [
    "# FOR LOOP\n",
    "\n",
    "\n",
    "* This will analyse for loops\n",
    "* will aslo do an assinment "
   ]
  },
  {
   "cell_type": "markdown",
   "metadata": {},
   "source": [
    "# forloop john"
   ]
  },
  {
   "cell_type": "code",
   "execution_count": 19,
   "metadata": {},
   "outputs": [
    {
     "data": {
      "text/plain": [
       "['10M', '2M', '0.5M', '3M', '20M']"
      ]
     },
     "execution_count": 19,
     "metadata": {},
     "output_type": "execute_result"
    }
   ],
   "source": [
    "prices"
   ]
  },
  {
   "cell_type": "code",
   "execution_count": 20,
   "metadata": {},
   "outputs": [],
   "source": [
    "prices = [float(i.replace(\"M\",'')) for  i in prices] "
   ]
  },
  {
   "cell_type": "code",
   "execution_count": 21,
   "metadata": {},
   "outputs": [
    {
     "data": {
      "text/plain": [
       "[10.0, 2.0, 0.5, 3.0, 20.0]"
      ]
     },
     "execution_count": 21,
     "metadata": {},
     "output_type": "execute_result"
    }
   ],
   "source": [
    "prices"
   ]
  },
  {
   "cell_type": "code",
   "execution_count": 22,
   "metadata": {},
   "outputs": [
    {
     "name": "stdout",
     "output_type": "stream",
     "text": [
      "lambo : 10.0M.\n",
      "fiat : 2.0M.\n",
      "toyota : 0.5M.\n",
      "ferrari : 3.0M.\n",
      "Rolls royce : 20.0M.\n"
     ]
    }
   ],
   "source": [
    "for i in zip(prices, Products):\n",
    "    print(\"{} : {}M.\".format(i[1],i[0]))"
   ]
  },
  {
   "cell_type": "code",
   "execution_count": 23,
   "metadata": {},
   "outputs": [
    {
     "name": "stdout",
     "output_type": "stream",
     "text": [
      "toyota 0.5\n"
     ]
    }
   ],
   "source": [
    "for i in zip(prices, Products):\n",
    "    if i[0] == min(prices):\n",
    "        print(i[1],i[0])\n",
    "        "
   ]
  },
  {
   "cell_type": "code",
   "execution_count": 24,
   "metadata": {},
   "outputs": [
    {
     "name": "stdout",
     "output_type": "stream",
     "text": [
      "Rolls royce 20.0\n"
     ]
    }
   ],
   "source": [
    "for i in zip(prices, Products):\n",
    "    if i[0] == max(prices):\n",
    "        print(i[1],i[0])\n",
    "        "
   ]
  },
  {
   "cell_type": "code",
   "execution_count": 25,
   "metadata": {},
   "outputs": [
    {
     "data": {
      "text/plain": [
       "20.0"
      ]
     },
     "execution_count": 25,
     "metadata": {},
     "output_type": "execute_result"
    }
   ],
   "source": [
    "max(prices)"
   ]
  },
  {
   "cell_type": "code",
   "execution_count": 26,
   "metadata": {},
   "outputs": [
    {
     "name": "stdout",
     "output_type": "stream",
     "text": [
      "fiat 2.0\n",
      "toyota 0.5\n",
      "ferrari 3.0\n"
     ]
    }
   ],
   "source": [
    "for i in zip(prices, Products):\n",
    "    if i[0] <5:\n",
    "        print(i[1],i[0])\n",
    "        "
   ]
  },
  {
   "cell_type": "code",
   "execution_count": 27,
   "metadata": {},
   "outputs": [
    {
     "name": "stdout",
     "output_type": "stream",
     "text": [
      "product prices\n",
      "lambo 10.0\n",
      "product prices\n",
      "fiat 2.0\n",
      "product prices\n",
      "toyota 0.5\n",
      "product prices\n",
      "ferrari 3.0\n",
      "product prices\n",
      "Rolls royce 20.0\n",
      "----------\n",
      "      35.5\n",
      "----------\n"
     ]
    }
   ],
   "source": [
    "sums = 0\n",
    "\n",
    "for i in zip(prices, Products):\n",
    "    print(\"product prices\")\n",
    "    print(i[1],i[0])\n",
    "    sums += i[0]\n",
    "print(\"-\"*10)\n",
    "print(\"     \",sums)\n",
    "print(\"-\"*10)\n",
    "        "
   ]
  },
  {
   "cell_type": "code",
   "execution_count": null,
   "metadata": {},
   "outputs": [],
   "source": [
    "#Rolls Royce and lambo have a tax of 0.24%, loop through the lists and print out each vehicle with its price with the tax added for the respective vehicles.\n"
   ]
  }
 ],
 "metadata": {
  "kernelspec": {
   "display_name": "Python 3",
   "language": "python",
   "name": "python3"
  },
  "language_info": {
   "codemirror_mode": {
    "name": "ipython",
    "version": 3
   },
   "file_extension": ".py",
   "mimetype": "text/x-python",
   "name": "python",
   "nbconvert_exporter": "python",
   "pygments_lexer": "ipython3",
   "version": "3.8.5"
  }
 },
 "nbformat": 4,
 "nbformat_minor": 4
}
