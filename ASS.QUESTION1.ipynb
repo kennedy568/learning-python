{
 "cells": [
  {
   "cell_type": "markdown",
   "metadata": {},
   "source": [
    "FUNCTIONS"
   ]
  },
  {
   "cell_type": "code",
   "execution_count": 10,
   "metadata": {},
   "outputs": [],
   "source": [
    "def counter(text):\n",
    "    return\n",
    "    \n",
    "    text = (\"str()\")\n",
    "    d = dict() \n",
    "\n",
    "    for line in text: \n",
    "\n",
    "        line = line.strip() \n",
    "\n",
    "        line = line.lower()\n",
    "\n",
    "        words = line.split(\" \") \n",
    "\n",
    "        for word in words: \n",
    "            if word in d: \n",
    "                d[word] +=1\n",
    "\n",
    "            else: d[word] = 1\n",
    "    return d\n",
    "        \n",
    "         \n",
    "    \n",
    "counter('Cause I Wonder where you are and I wonder what you do But let me start by saying, I love you I love you I love you')\n"
   ]
  },
  {
   "cell_type": "code",
   "execution_count": 65,
   "metadata": {},
   "outputs": [
    {
     "ename": "AttributeError",
     "evalue": "'str' object has no attribute 'remove'",
     "output_type": "error",
     "traceback": [
      "\u001b[0;31m---------------------------------------------------------------------------\u001b[0m",
      "\u001b[0;31mAttributeError\u001b[0m                            Traceback (most recent call last)",
      "\u001b[0;32m<ipython-input-65-6a38cacd99aa>\u001b[0m in \u001b[0;36m<module>\u001b[0;34m\u001b[0m\n\u001b[1;32m     12\u001b[0m     \u001b[0;32mreturn\u001b[0m \u001b[0mcounts\u001b[0m\u001b[0;34m\u001b[0m\u001b[0;34m\u001b[0m\u001b[0m\n\u001b[1;32m     13\u001b[0m \u001b[0;34m\u001b[0m\u001b[0m\n\u001b[0;32m---> 14\u001b[0;31m \u001b[0mprint\u001b[0m\u001b[0;34m(\u001b[0m \u001b[0mword_count\u001b[0m\u001b[0;34m(\u001b[0m\u001b[0;34m'the quick RED brown fox Jumps over the lazy dog.'\u001b[0m\u001b[0;34m)\u001b[0m\u001b[0;34m)\u001b[0m\u001b[0;34m\u001b[0m\u001b[0;34m\u001b[0m\u001b[0m\n\u001b[0m",
      "\u001b[0;32m<ipython-input-65-6a38cacd99aa>\u001b[0m in \u001b[0;36mword_count\u001b[0;34m(str)\u001b[0m\n\u001b[1;32m      2\u001b[0m     \u001b[0mcounts\u001b[0m \u001b[0;34m=\u001b[0m \u001b[0mdict\u001b[0m\u001b[0;34m(\u001b[0m\u001b[0;34m)\u001b[0m\u001b[0;34m\u001b[0m\u001b[0;34m\u001b[0m\u001b[0m\n\u001b[1;32m      3\u001b[0m \u001b[0;34m\u001b[0m\u001b[0m\n\u001b[0;32m----> 4\u001b[0;31m     \u001b[0mwords\u001b[0m \u001b[0;34m=\u001b[0m \u001b[0mstr\u001b[0m\u001b[0;34m.\u001b[0m\u001b[0mremove\u001b[0m\u001b[0;34m(\u001b[0m\u001b[0;34m\"and\"\u001b[0m\u001b[0;34m,\u001b[0m\u001b[0;34m\"is\"\u001b[0m\u001b[0;34m,\u001b[0m\u001b[0;34m\"for\"\u001b[0m\u001b[0;34m,\u001b[0m\u001b[0;34m\"there\"\u001b[0m\u001b[0;34m,\u001b[0m\u001b[0;34m\"like\"\u001b[0m\u001b[0;34m,\u001b[0m\u001b[0;34m\"if\"\u001b[0m\u001b[0;34m)\u001b[0m\u001b[0;34m.\u001b[0m\u001b[0mlower\u001b[0m\u001b[0;34m(\u001b[0m\u001b[0;34m)\u001b[0m\u001b[0;34m.\u001b[0m\u001b[0msplit\u001b[0m\u001b[0;34m(\u001b[0m\u001b[0;34m)\u001b[0m\u001b[0;34m\u001b[0m\u001b[0;34m\u001b[0m\u001b[0m\n\u001b[0m\u001b[1;32m      5\u001b[0m \u001b[0;34m\u001b[0m\u001b[0m\n\u001b[1;32m      6\u001b[0m     \u001b[0;32mfor\u001b[0m \u001b[0mword\u001b[0m \u001b[0;32min\u001b[0m \u001b[0mwords\u001b[0m\u001b[0;34m:\u001b[0m\u001b[0;34m\u001b[0m\u001b[0;34m\u001b[0m\u001b[0m\n",
      "\u001b[0;31mAttributeError\u001b[0m: 'str' object has no attribute 'remove'"
     ]
    }
   ],
   "source": [
    "def word_count(str):\n",
    "    counts = dict()\n",
    "    \n",
    "    words = str.remove(\"and\",\"is\",\"for\",\"there\",\"like\",\"if\").lower().split()\n",
    "   \n",
    "    for word in words:\n",
    "        if word in counts:\n",
    "            counts[word] += 1\n",
    "        else:\n",
    "            counts[word] = 1\n",
    "\n",
    "    return counts\n",
    "\n",
    "print( word_count('the quick RED brown fox Jumps over the lazy dog.'))"
   ]
  },
  {
   "cell_type": "code",
   "execution_count": 9,
   "metadata": {},
   "outputs": [
    {
     "name": "stdout",
     "output_type": "stream",
     "text": [
      "{'cause': 1, 'i': 5, 'wonder': 2, 'where': 1, 'you': 5, 'are': 1, 'and': 1, 'what': 1, 'do': 1, 'but': 1, 'let': 1, 'me': 1, 'start': 1, 'by': 1, 'saying,': 1, 'love': 3}\n"
     ]
    }
   ],
   "source": [
    "def word_count(str):\n",
    "    counts = dict()\n",
    "    \n",
    "    words = str.lower().split()\n",
    "   \n",
    "    for word in words:\n",
    "        if word in counts:\n",
    "            counts[word] += 1\n",
    "        else:\n",
    "            counts[word] = 1\n",
    "\n",
    "    return counts\n",
    "\n",
    "print( word_count('Cause I Wonder wHere you are and I wonder what you do But let me start by saying, I love you I love you I love you'))"
   ]
  },
  {
   "cell_type": "code",
   "execution_count": 19,
   "metadata": {},
   "outputs": [],
   "source": [
    "stop = [\"and\",\"is\",\"for\",\"there\",\"like\",\"if\"]\n",
    "\n",
    "sent = \"god created the world and so it was good his there and like\"\n",
    "\n",
    "set1 = sent.split()\n",
    "\n",
    "empty = []\n",
    "\n",
    "for i in set1:\n",
    "    if i in stop:\n",
    "        pass\n",
    "    else:\n",
    "        empty.append(i)\n",
    "\n",
    "sent1 = \" \".join(empty)\n",
    "        "
   ]
  },
  {
   "cell_type": "code",
   "execution_count": 20,
   "metadata": {},
   "outputs": [
    {
     "data": {
      "text/plain": [
       "'god created the world so it was good his'"
      ]
     },
     "execution_count": 20,
     "metadata": {},
     "output_type": "execute_result"
    }
   ],
   "source": [
    "sent1"
   ]
  },
  {
   "cell_type": "code",
   "execution_count": null,
   "metadata": {},
   "outputs": [],
   "source": [
    "# remove stop words from the counter function. remove stopp words before it counts"
   ]
  }
 ],
 "metadata": {
  "kernelspec": {
   "display_name": "Python 3",
   "language": "python",
   "name": "python3"
  },
  "language_info": {
   "codemirror_mode": {
    "name": "ipython",
    "version": 3
   },
   "file_extension": ".py",
   "mimetype": "text/x-python",
   "name": "python",
   "nbconvert_exporter": "python",
   "pygments_lexer": "ipython3",
   "version": "3.7.6"
  }
 },
 "nbformat": 4,
 "nbformat_minor": 4
}
