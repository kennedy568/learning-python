{
 "cells": [
  {
   "cell_type": "code",
   "execution_count": 19,
   "metadata": {},
   "outputs": [],
   "source": [
    "Products = [\"lambo\",\"fiat\",\"toyota\",\"ferrari\",\"Rolls royce\"]\n",
    "\n",
    "prices = [\"10M\",\"2M\",\"0.5M\",\"3M\",\"20M\"]\n",
    "\n",
    "cars = []\n",
    "\n",
    "\n",
    "cars.append([\"lambo\",\"fiat\",\"toyota\",\"ferrari\",\"Rolls royce\"])\n",
    "\n",
    "cars.append([\"10M\",\"2M\",\"0.5M\",\"3M\",\"20M\"])\n",
    "\n"
   ]
  },
  {
   "cell_type": "code",
   "execution_count": 20,
   "metadata": {},
   "outputs": [
    {
     "name": "stdout",
     "output_type": "stream",
     "text": [
      "[['lambo', 'fiat', 'toyota', 'ferrari', 'Rolls royce'], ['10M', '2M', '0.5M', '3M', '20M']]\n"
     ]
    }
   ],
   "source": [
    "print(cars)"
   ]
  },
  {
   "cell_type": "code",
   "execution_count": null,
   "metadata": {},
   "outputs": [],
   "source": []
  }
 ],
 "metadata": {
  "kernelspec": {
   "display_name": "Python 3",
   "language": "python",
   "name": "python3"
  },
  "language_info": {
   "codemirror_mode": {
    "name": "ipython",
    "version": 3
   },
   "file_extension": ".py",
   "mimetype": "text/x-python",
   "name": "python",
   "nbconvert_exporter": "python",
   "pygments_lexer": "ipython3",
   "version": "3.7.6"
  }
 },
 "nbformat": 4,
 "nbformat_minor": 4
}
