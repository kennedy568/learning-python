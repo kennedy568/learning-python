{
 "cells": [
  {
   "cell_type": "markdown",
   "metadata": {
    "ExecuteTime": {
     "end_time": "2020-07-25T09:49:30.781793Z",
     "start_time": "2020-07-25T09:49:30.777796Z"
    }
   },
   "source": [
    "# <font color =\"teal\"> Zehira Heights</font>\n",
    "<img height =250 width =300 src = \"data:image/jpeg;base64,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\">"
   ]
  },
  {
   "cell_type": "code",
   "execution_count": 5,
   "metadata": {
    "ExecuteTime": {
     "end_time": "2020-07-25T09:59:19.694540Z",
     "start_time": "2020-07-25T09:59:19.686545Z"
    }
   },
   "outputs": [
    {
     "name": "stdout",
     "output_type": "stream",
     "text": [
      "LIST\\ COMPREHENSION.ipynb\r\n",
      "May\\ 2020\\ Zehira\\ Heights\\ Rent\\ Collection\\ Report.xlsx\r\n",
      "New\\ Assignment.ipynb\r\n",
      "Pandas(Extended\\ analysis).ipynb\r\n",
      "Statistical\\ Distributions.ipynb\r\n"
     ]
    }
   ],
   "source": [
    "# there is a library called OS, read more about it, it assist you in getting files from the operating system\n",
    "import os\n",
    "os.listdir() # it helps you see what files are in that folder ( it is similar tp dir command on the terminal)\n",
    "!dir #you can unhash this and see that they are similar --"
   ]
  },
  {
   "cell_type": "code",
   "execution_count": 26,
   "metadata": {
    "ExecuteTime": {
     "end_time": "2020-07-25T09:59:53.873618Z",
     "start_time": "2020-07-25T09:59:53.816651Z"
    }
   },
   "outputs": [
    {
     "name": "stdout",
     "output_type": "stream",
     "text": [
      "Cant read your file:LIST COMPREHENSION.ipynb\n",
      "Cant read your file:New Assignment.ipynb\n",
      "Cant read your file:Statistical Distributions.ipynb\n",
      "Cant read your file:Pandas(Extended analysis).ipynb\n",
      "Cant read your file:.ipynb_checkpoints\n"
     ]
    },
    {
     "data": {
      "text/html": [
       "<div>\n",
       "<style scoped>\n",
       "    .dataframe tbody tr th:only-of-type {\n",
       "        vertical-align: middle;\n",
       "    }\n",
       "\n",
       "    .dataframe tbody tr th {\n",
       "        vertical-align: top;\n",
       "    }\n",
       "\n",
       "    .dataframe thead th {\n",
       "        text-align: right;\n",
       "    }\n",
       "</style>\n",
       "<table border=\"1\" class=\"dataframe\">\n",
       "  <thead>\n",
       "    <tr style=\"text-align: right;\">\n",
       "      <th></th>\n",
       "      <th>HSE</th>\n",
       "      <th>TENANT</th>\n",
       "      <th>BAL B/F</th>\n",
       "      <th>RENT</th>\n",
       "      <th>WATER BILL</th>\n",
       "      <th>Unnamed: 5</th>\n",
       "      <th>Scharge</th>\n",
       "      <th>DEPOSIT</th>\n",
       "      <th>DEDUCTIONS</th>\n",
       "      <th>10%\\nPENALTY</th>\n",
       "      <th>PAYABLE</th>\n",
       "      <th>PAID</th>\n",
       "      <th>BAL C/F</th>\n",
       "      <th>Unnamed: 13</th>\n",
       "    </tr>\n",
       "  </thead>\n",
       "  <tbody>\n",
       "    <tr>\n",
       "      <th>0</th>\n",
       "      <td>1A</td>\n",
       "      <td>ALFRED JOE</td>\n",
       "      <td>0.0</td>\n",
       "      <td>0.0</td>\n",
       "      <td>(106-101)</td>\n",
       "      <td>500.0</td>\n",
       "      <td>0.0</td>\n",
       "      <td>0.0</td>\n",
       "      <td>0.0</td>\n",
       "      <td>0.0</td>\n",
       "      <td>0.0</td>\n",
       "      <td>0.0</td>\n",
       "      <td>0.0</td>\n",
       "      <td>NaN</td>\n",
       "    </tr>\n",
       "    <tr>\n",
       "      <th>1</th>\n",
       "      <td>1B</td>\n",
       "      <td>OLIVA ONDEDE</td>\n",
       "      <td>0.0</td>\n",
       "      <td>21000.0</td>\n",
       "      <td>(91-87)</td>\n",
       "      <td>600.0</td>\n",
       "      <td>250.0</td>\n",
       "      <td>0.0</td>\n",
       "      <td>0.0</td>\n",
       "      <td>0.0</td>\n",
       "      <td>21850.0</td>\n",
       "      <td>21850.0</td>\n",
       "      <td>0.0</td>\n",
       "      <td>NaN</td>\n",
       "    </tr>\n",
       "    <tr>\n",
       "      <th>2</th>\n",
       "      <td>2A</td>\n",
       "      <td>FIDELIS NYAMBURA</td>\n",
       "      <td>0.0</td>\n",
       "      <td>20000.0</td>\n",
       "      <td>(250-240)</td>\n",
       "      <td>1000.0</td>\n",
       "      <td>1000.0</td>\n",
       "      <td>0.0</td>\n",
       "      <td>0.0</td>\n",
       "      <td>0.0</td>\n",
       "      <td>22000.0</td>\n",
       "      <td>22000.0</td>\n",
       "      <td>0.0</td>\n",
       "      <td>NaN</td>\n",
       "    </tr>\n",
       "    <tr>\n",
       "      <th>3</th>\n",
       "      <td>2B</td>\n",
       "      <td>PAUL MUCHOKA</td>\n",
       "      <td>200.0</td>\n",
       "      <td>22000.0</td>\n",
       "      <td>(209-202)</td>\n",
       "      <td>1050.0</td>\n",
       "      <td>250.0</td>\n",
       "      <td>0.0</td>\n",
       "      <td>0.0</td>\n",
       "      <td>0.0</td>\n",
       "      <td>23100.0</td>\n",
       "      <td>15000.0</td>\n",
       "      <td>8100.0</td>\n",
       "      <td>NaN</td>\n",
       "    </tr>\n",
       "    <tr>\n",
       "      <th>4</th>\n",
       "      <td>2C</td>\n",
       "      <td>JAMES KINYANJUI</td>\n",
       "      <td>0.0</td>\n",
       "      <td>20000.0</td>\n",
       "      <td>(216-207)</td>\n",
       "      <td>1200.0</td>\n",
       "      <td>1000.0</td>\n",
       "      <td>0.0</td>\n",
       "      <td>0.0</td>\n",
       "      <td>0.0</td>\n",
       "      <td>22200.0</td>\n",
       "      <td>22200.0</td>\n",
       "      <td>0.0</td>\n",
       "      <td>NaN</td>\n",
       "    </tr>\n",
       "  </tbody>\n",
       "</table>\n",
       "</div>"
      ],
      "text/plain": [
       "  HSE            TENANT  BAL B/F     RENT    WATER BILL  Unnamed: 5  Scharge  \\\n",
       "0  1A        ALFRED JOE      0.0      0.0  (106-101)          500.0      0.0   \n",
       "1  1B      OLIVA ONDEDE      0.0  21000.0      (91-87)        600.0    250.0   \n",
       "2  2A  FIDELIS NYAMBURA      0.0  20000.0  (250-240)         1000.0   1000.0   \n",
       "3  2B      PAUL MUCHOKA    200.0  22000.0     (209-202)      1050.0    250.0   \n",
       "4  2C   JAMES KINYANJUI      0.0  20000.0  (216-207)         1200.0   1000.0   \n",
       "\n",
       "   DEPOSIT  DEDUCTIONS  10%\\nPENALTY  PAYABLE     PAID  BAL C/F  Unnamed: 13  \n",
       "0      0.0         0.0           0.0      0.0      0.0      0.0          NaN  \n",
       "1      0.0         0.0           0.0  21850.0  21850.0      0.0          NaN  \n",
       "2      0.0         0.0           0.0  22000.0  22000.0      0.0          NaN  \n",
       "3      0.0         0.0           0.0  23100.0  15000.0   8100.0          NaN  \n",
       "4      0.0         0.0           0.0  22200.0  22200.0      0.0          NaN  "
      ]
     },
     "execution_count": 26,
     "metadata": {},
     "output_type": "execute_result"
    }
   ],
   "source": [
    "# one advantage of using OS is that you can loop through the files and impose conditions(we shall visit this later)\n",
    "import pandas as pd\n",
    "for i in os.listdir():\n",
    "    #print(i)\n",
    "    if \"xlsx\" in i:\n",
    "        df = pd.read_excel(i,skiprows=2)\n",
    "    else:\n",
    "        print(f\"Cant read your file:{i}\")\n",
    "df.head()"
   ]
  },
  {
   "cell_type": "code",
   "execution_count": 27,
   "metadata": {},
   "outputs": [
    {
     "data": {
      "text/plain": [
       "163550.0"
      ]
     },
     "execution_count": 27,
     "metadata": {},
     "output_type": "execute_result"
    }
   ],
   "source": [
    "#What was the total rent collected?\n",
    "df[\"PAID\"].sum()"
   ]
  },
  {
   "cell_type": "code",
   "execution_count": 28,
   "metadata": {
    "ExecuteTime": {
     "end_time": "2020-07-25T10:00:27.246675Z",
     "start_time": "2020-07-25T10:00:27.242677Z"
    }
   },
   "outputs": [
    {
     "data": {
      "text/plain": [
       "8177.5"
      ]
     },
     "execution_count": 28,
     "metadata": {},
     "output_type": "execute_result"
    }
   ],
   "source": [
    "# suppose the agent is paid 5% of total rent paid, how much did the agent get paid\n",
    "\n",
    "df[\"commission\"] = (df[\"PAID\"]*0.05)\n",
    "#df.head(12)\n",
    "df[\"commission\"].sum()\n"
   ]
  },
  {
   "cell_type": "code",
   "execution_count": 29,
   "metadata": {},
   "outputs": [
    {
     "data": {
      "text/html": [
       "<div>\n",
       "<style scoped>\n",
       "    .dataframe tbody tr th:only-of-type {\n",
       "        vertical-align: middle;\n",
       "    }\n",
       "\n",
       "    .dataframe tbody tr th {\n",
       "        vertical-align: top;\n",
       "    }\n",
       "\n",
       "    .dataframe thead th {\n",
       "        text-align: right;\n",
       "    }\n",
       "</style>\n",
       "<table border=\"1\" class=\"dataframe\">\n",
       "  <thead>\n",
       "    <tr style=\"text-align: right;\">\n",
       "      <th></th>\n",
       "      <th>HSE</th>\n",
       "      <th>commission</th>\n",
       "    </tr>\n",
       "  </thead>\n",
       "  <tbody>\n",
       "    <tr>\n",
       "      <th>0</th>\n",
       "      <td>1A</td>\n",
       "      <td>0.0</td>\n",
       "    </tr>\n",
       "    <tr>\n",
       "      <th>1</th>\n",
       "      <td>1B</td>\n",
       "      <td>1092.5</td>\n",
       "    </tr>\n",
       "    <tr>\n",
       "      <th>2</th>\n",
       "      <td>2A</td>\n",
       "      <td>1100.0</td>\n",
       "    </tr>\n",
       "    <tr>\n",
       "      <th>3</th>\n",
       "      <td>2B</td>\n",
       "      <td>750.0</td>\n",
       "    </tr>\n",
       "    <tr>\n",
       "      <th>4</th>\n",
       "      <td>2C</td>\n",
       "      <td>1110.0</td>\n",
       "    </tr>\n",
       "    <tr>\n",
       "      <th>5</th>\n",
       "      <td>3A</td>\n",
       "      <td>0.0</td>\n",
       "    </tr>\n",
       "    <tr>\n",
       "      <th>6</th>\n",
       "      <td>3B</td>\n",
       "      <td>1105.0</td>\n",
       "    </tr>\n",
       "    <tr>\n",
       "      <th>7</th>\n",
       "      <td>3C</td>\n",
       "      <td>670.0</td>\n",
       "    </tr>\n",
       "    <tr>\n",
       "      <th>8</th>\n",
       "      <td>4A</td>\n",
       "      <td>1150.0</td>\n",
       "    </tr>\n",
       "    <tr>\n",
       "      <th>9</th>\n",
       "      <td>4B</td>\n",
       "      <td>0.0</td>\n",
       "    </tr>\n",
       "    <tr>\n",
       "      <th>10</th>\n",
       "      <td>4C</td>\n",
       "      <td>1200.0</td>\n",
       "    </tr>\n",
       "    <tr>\n",
       "      <th>11</th>\n",
       "      <td>5B</td>\n",
       "      <td>0.0</td>\n",
       "    </tr>\n",
       "  </tbody>\n",
       "</table>\n",
       "</div>"
      ],
      "text/plain": [
       "   HSE  commission\n",
       "0   1A         0.0\n",
       "1   1B      1092.5\n",
       "2   2A      1100.0\n",
       "3   2B       750.0\n",
       "4   2C      1110.0\n",
       "5   3A         0.0\n",
       "6   3B      1105.0\n",
       "7   3C       670.0\n",
       "8   4A      1150.0\n",
       "9   4B         0.0\n",
       "10  4C      1200.0\n",
       "11  5B         0.0"
      ]
     },
     "execution_count": 29,
     "metadata": {},
     "output_type": "execute_result"
    }
   ],
   "source": [
    "# how much did the agent get paid per each house ( multiply Rent per house  by the percentage)\n",
    "df[[\"HSE\",\"commission\"]].head(12)"
   ]
  },
  {
   "cell_type": "code",
   "execution_count": 30,
   "metadata": {},
   "outputs": [
    {
     "name": "stdout",
     "output_type": "stream",
     "text": [
      "The house that paid the agent the most is 4C\n"
     ]
    }
   ],
   "source": [
    "# which house paid the agent the most?\n",
    "\n",
    "for i in zip(df.HSE,df.commission):\n",
    "    #print(i)\n",
    "    if i[1] == max(df.commission):\n",
    "        print('The house that paid the agent the most is' ,i[0])\n",
    "\n",
    "\n",
    "    "
   ]
  },
  {
   "cell_type": "code",
   "execution_count": 31,
   "metadata": {
    "ExecuteTime": {
     "end_time": "2020-07-25T10:00:40.388252Z",
     "start_time": "2020-07-25T10:00:40.384254Z"
    }
   },
   "outputs": [
    {
     "data": {
      "text/plain": [
       "JAMES KINYANJUI     1\n",
       "NJERI HINGA         1\n",
       "MARY MBUGUA         1\n",
       "OLIVA ONDEDE        1\n",
       "PAUL MUCHOKA        1\n",
       "FIDELIS NYAMBURA    1\n",
       "BENARD MBURU        1\n",
       "MOLLY GONE          1\n",
       "JULIUS KIMANI       1\n",
       "KEN AWESOME         1\n",
       "FRANK               1\n",
       "ALFRED JOE          1\n",
       "Name: TENANT, dtype: int64"
      ]
     },
     "execution_count": 31,
     "metadata": {},
     "output_type": "execute_result"
    }
   ],
   "source": [
    "# How many tenants are there?\n",
    "df.TENANT.value_counts()\n",
    "\n",
    "#print('you thought i would forget value count hehhehheheheeeeeeeeeeeeeee')"
   ]
  },
  {
   "cell_type": "code",
   "execution_count": 32,
   "metadata": {},
   "outputs": [
    {
     "data": {
      "text/plain": [
       "Index(['HSE', 'TENANT', 'BAL B/F', 'RENT', 'WATER BILL', 'Unnamed: 5',\n",
       "       'Scharge', 'DEPOSIT', 'DEDUCTIONS', '10%\\nPENALTY', 'PAYABLE', 'PAID',\n",
       "       'BAL C/F', 'Unnamed: 13', 'commission'],\n",
       "      dtype='object')"
      ]
     },
     "execution_count": 32,
     "metadata": {},
     "output_type": "execute_result"
    }
   ],
   "source": [
    "df.columns"
   ]
  },
  {
   "cell_type": "code",
   "execution_count": 33,
   "metadata": {},
   "outputs": [
    {
     "data": {
      "text/plain": [
       "0        0.0\n",
       "1      250.0\n",
       "2     1000.0\n",
       "3      250.0\n",
       "4     1000.0\n",
       "5      250.0\n",
       "6     1000.0\n",
       "7      250.0\n",
       "8      250.0\n",
       "9     1000.0\n",
       "10       0.0\n",
       "11       0.0\n",
       "12       NaN\n",
       "13       NaN\n",
       "14       NaN\n",
       "Name: Scharge, dtype: float64"
      ]
     },
     "execution_count": 33,
     "metadata": {},
     "output_type": "execute_result"
    }
   ],
   "source": [
    "df.Scharge"
   ]
  },
  {
   "cell_type": "code",
   "execution_count": 34,
   "metadata": {
    "ExecuteTime": {
     "end_time": "2020-07-25T10:11:21.145400Z",
     "start_time": "2020-07-25T10:11:21.141402Z"
    }
   },
   "outputs": [
    {
     "name": "stdout",
     "output_type": "stream",
     "text": [
      "1B pays 250 serice charge\n",
      "2B pays 250 serice charge\n",
      "3A pays 250 serice charge\n",
      "3C pays 250 serice charge\n",
      "4A pays 250 serice charge\n"
     ]
    }
   ],
   "source": [
    "# How many units paid a service charge of Ksh 250\n",
    "\n",
    "for i in zip(df.HSE,df.Scharge):\n",
    "    #print(i)\n",
    "    if i[1]==250:\n",
    "        print((i[0]), 'pays 250 serice charge')\n",
    "    "
   ]
  },
  {
   "cell_type": "code",
   "execution_count": 35,
   "metadata": {
    "ExecuteTime": {
     "end_time": "2020-07-25T10:12:40.435756Z",
     "start_time": "2020-07-25T10:12:40.431762Z"
    }
   },
   "outputs": [
    {
     "data": {
      "text/plain": [
       "0         0.0\n",
       "1         0.0\n",
       "2         0.0\n",
       "3      8100.0\n",
       "4         0.0\n",
       "5     46902.0\n",
       "6         0.0\n",
       "7      2000.0\n",
       "8       500.0\n",
       "9     21100.0\n",
       "10     -430.0\n",
       "11        0.0\n",
       "12        NaN\n",
       "13        NaN\n",
       "14        NaN\n",
       "Name: variance, dtype: float64"
      ]
     },
     "execution_count": 35,
     "metadata": {},
     "output_type": "execute_result"
    }
   ],
   "source": [
    "# create a new variable \"variance\" where variance = rentpayable - rentpaid\n",
    "\n",
    "df[\"variance\"] = (df[\"PAYABLE\"]-df[\"PAID\"])\n",
    "\n",
    "df.variance"
   ]
  },
  {
   "cell_type": "code",
   "execution_count": 36,
   "metadata": {},
   "outputs": [
    {
     "name": "stdout",
     "output_type": "stream",
     "text": [
      "1A paid rent in full\n",
      "1B paid rent in full\n",
      "2A paid rent in full\n",
      "2C paid rent in full\n",
      "3B paid rent in full\n",
      "5B paid rent in full\n"
     ]
    }
   ],
   "source": [
    "# identify tenants that paid fully(variance =0)\n",
    "\n",
    "for i in zip(df.HSE,df.variance):\n",
    "    #print(i)\n",
    "    if i[1]==0:\n",
    "        print( (i[0]),'paid rent in full')"
   ]
  },
  {
   "cell_type": "code",
   "execution_count": 37,
   "metadata": {},
   "outputs": [
    {
     "name": "stdout",
     "output_type": "stream",
     "text": [
      "4C overpaid\n"
     ]
    }
   ],
   "source": [
    "# identify tenants who overpaid\n",
    "\n",
    "for i in zip(df.HSE,df.variance):\n",
    "    #print(i)\n",
    "    if i[1]<0:\n",
    "        print( (i[0]),'overpaid')"
   ]
  },
  {
   "cell_type": "code",
   "execution_count": 38,
   "metadata": {
    "ExecuteTime": {
     "end_time": "2020-07-25T10:13:51.982874Z",
     "start_time": "2020-07-25T10:13:51.978878Z"
    }
   },
   "outputs": [
    {
     "name": "stdout",
     "output_type": "stream",
     "text": [
      "('2B', 8100.0)\n",
      "('3A', 46902.0)\n",
      "('3C', 2000.0)\n",
      "('4A', 500.0)\n",
      "('4B', 21100.0)\n"
     ]
    }
   ],
   "source": [
    "# among those that underpaid, sort the dataframe so that you can identify tenants who underpaid by the largest margin\n",
    "\n",
    "for i in zip(df.HSE,df.variance):\n",
    "    #print(i)\n",
    "    if i[1]>0:\n",
    "        print(i)\n",
    "        "
   ]
  },
  {
   "cell_type": "code",
   "execution_count": 39,
   "metadata": {},
   "outputs": [
    {
     "data": {
      "text/html": [
       "<div>\n",
       "<style scoped>\n",
       "    .dataframe tbody tr th:only-of-type {\n",
       "        vertical-align: middle;\n",
       "    }\n",
       "\n",
       "    .dataframe tbody tr th {\n",
       "        vertical-align: top;\n",
       "    }\n",
       "\n",
       "    .dataframe thead th {\n",
       "        text-align: right;\n",
       "    }\n",
       "</style>\n",
       "<table border=\"1\" class=\"dataframe\">\n",
       "  <thead>\n",
       "    <tr style=\"text-align: right;\">\n",
       "      <th></th>\n",
       "      <th>HSE</th>\n",
       "      <th>TENANT</th>\n",
       "      <th>BAL B/F</th>\n",
       "      <th>RENT</th>\n",
       "      <th>WATER BILL</th>\n",
       "      <th>Unnamed: 5</th>\n",
       "      <th>Scharge</th>\n",
       "      <th>DEPOSIT</th>\n",
       "      <th>DEDUCTIONS</th>\n",
       "      <th>10%\\nPENALTY</th>\n",
       "      <th>PAYABLE</th>\n",
       "      <th>PAID</th>\n",
       "      <th>BAL C/F</th>\n",
       "      <th>Unnamed: 13</th>\n",
       "      <th>commission</th>\n",
       "      <th>variance</th>\n",
       "    </tr>\n",
       "  </thead>\n",
       "  <tbody>\n",
       "    <tr>\n",
       "      <th>5</th>\n",
       "      <td>3A</td>\n",
       "      <td>JULIUS KIMANI</td>\n",
       "      <td>24302.0</td>\n",
       "      <td>21000.0</td>\n",
       "      <td>(207-198)</td>\n",
       "      <td>1350.0</td>\n",
       "      <td>250.0</td>\n",
       "      <td>0.0</td>\n",
       "      <td>0.0</td>\n",
       "      <td>0.0</td>\n",
       "      <td>46902.0</td>\n",
       "      <td>0.0</td>\n",
       "      <td>46902.0</td>\n",
       "      <td>NaN</td>\n",
       "      <td>0.0</td>\n",
       "      <td>46902.0</td>\n",
       "    </tr>\n",
       "    <tr>\n",
       "      <th>9</th>\n",
       "      <td>4B</td>\n",
       "      <td>NJERI HINGA</td>\n",
       "      <td>0.0</td>\n",
       "      <td>20000.0</td>\n",
       "      <td>(56-55)</td>\n",
       "      <td>100.0</td>\n",
       "      <td>1000.0</td>\n",
       "      <td>0.0</td>\n",
       "      <td>0.0</td>\n",
       "      <td>0.0</td>\n",
       "      <td>21100.0</td>\n",
       "      <td>0.0</td>\n",
       "      <td>21100.0</td>\n",
       "      <td>NaN</td>\n",
       "      <td>0.0</td>\n",
       "      <td>21100.0</td>\n",
       "    </tr>\n",
       "    <tr>\n",
       "      <th>3</th>\n",
       "      <td>2B</td>\n",
       "      <td>PAUL MUCHOKA</td>\n",
       "      <td>200.0</td>\n",
       "      <td>22000.0</td>\n",
       "      <td>(209-202)</td>\n",
       "      <td>1050.0</td>\n",
       "      <td>250.0</td>\n",
       "      <td>0.0</td>\n",
       "      <td>0.0</td>\n",
       "      <td>0.0</td>\n",
       "      <td>23100.0</td>\n",
       "      <td>15000.0</td>\n",
       "      <td>8100.0</td>\n",
       "      <td>NaN</td>\n",
       "      <td>750.0</td>\n",
       "      <td>8100.0</td>\n",
       "    </tr>\n",
       "    <tr>\n",
       "      <th>7</th>\n",
       "      <td>3C</td>\n",
       "      <td>BENARD MBURU</td>\n",
       "      <td>2000.0</td>\n",
       "      <td>11500.0</td>\n",
       "      <td>(281-270)</td>\n",
       "      <td>1650.0</td>\n",
       "      <td>250.0</td>\n",
       "      <td>0.0</td>\n",
       "      <td>0.0</td>\n",
       "      <td>0.0</td>\n",
       "      <td>15400.0</td>\n",
       "      <td>13400.0</td>\n",
       "      <td>2000.0</td>\n",
       "      <td>NaN</td>\n",
       "      <td>670.0</td>\n",
       "      <td>2000.0</td>\n",
       "    </tr>\n",
       "    <tr>\n",
       "      <th>8</th>\n",
       "      <td>4A</td>\n",
       "      <td>FRANK</td>\n",
       "      <td>0.0</td>\n",
       "      <td>22500.0</td>\n",
       "      <td>(184-179)</td>\n",
       "      <td>750.0</td>\n",
       "      <td>250.0</td>\n",
       "      <td>0.0</td>\n",
       "      <td>0.0</td>\n",
       "      <td>0.0</td>\n",
       "      <td>23500.0</td>\n",
       "      <td>23000.0</td>\n",
       "      <td>500.0</td>\n",
       "      <td>NaN</td>\n",
       "      <td>1150.0</td>\n",
       "      <td>500.0</td>\n",
       "    </tr>\n",
       "  </tbody>\n",
       "</table>\n",
       "</div>"
      ],
      "text/plain": [
       "  HSE         TENANT  BAL B/F     RENT    WATER BILL  Unnamed: 5  Scharge  \\\n",
       "5  3A  JULIUS KIMANI  24302.0  21000.0     (207-198)      1350.0    250.0   \n",
       "9  4B    NJERI HINGA      0.0  20000.0       (56-55)       100.0   1000.0   \n",
       "3  2B   PAUL MUCHOKA    200.0  22000.0     (209-202)      1050.0    250.0   \n",
       "7  3C   BENARD MBURU   2000.0  11500.0    (281-270)       1650.0    250.0   \n",
       "8  4A          FRANK      0.0  22500.0  (184-179)          750.0    250.0   \n",
       "\n",
       "   DEPOSIT  DEDUCTIONS  10%\\nPENALTY  PAYABLE     PAID  BAL C/F  Unnamed: 13  \\\n",
       "5      0.0         0.0           0.0  46902.0      0.0  46902.0          NaN   \n",
       "9      0.0         0.0           0.0  21100.0      0.0  21100.0          NaN   \n",
       "3      0.0         0.0           0.0  23100.0  15000.0   8100.0          NaN   \n",
       "7      0.0         0.0           0.0  15400.0  13400.0   2000.0          NaN   \n",
       "8      0.0         0.0           0.0  23500.0  23000.0    500.0          NaN   \n",
       "\n",
       "   commission  variance  \n",
       "5         0.0   46902.0  \n",
       "9         0.0   21100.0  \n",
       "3       750.0    8100.0  \n",
       "7       670.0    2000.0  \n",
       "8      1150.0     500.0  "
      ]
     },
     "execution_count": 39,
     "metadata": {},
     "output_type": "execute_result"
    }
   ],
   "source": [
    "df[df.variance>0].sort_values(\"variance\", ascending = False)\n",
    "  "
   ]
  },
  {
   "cell_type": "code",
   "execution_count": 40,
   "metadata": {},
   "outputs": [
    {
     "data": {
      "text/html": [
       "<div>\n",
       "<style scoped>\n",
       "    .dataframe tbody tr th:only-of-type {\n",
       "        vertical-align: middle;\n",
       "    }\n",
       "\n",
       "    .dataframe tbody tr th {\n",
       "        vertical-align: top;\n",
       "    }\n",
       "\n",
       "    .dataframe thead th {\n",
       "        text-align: right;\n",
       "    }\n",
       "</style>\n",
       "<table border=\"1\" class=\"dataframe\">\n",
       "  <thead>\n",
       "    <tr style=\"text-align: right;\">\n",
       "      <th></th>\n",
       "      <th>HSE</th>\n",
       "      <th>TENANT</th>\n",
       "      <th>BAL B/F</th>\n",
       "      <th>RENT</th>\n",
       "      <th>WATER BILL</th>\n",
       "      <th>Unnamed: 5</th>\n",
       "      <th>Scharge</th>\n",
       "      <th>DEPOSIT</th>\n",
       "      <th>DEDUCTIONS</th>\n",
       "      <th>10%\\nPENALTY</th>\n",
       "      <th>PAYABLE</th>\n",
       "      <th>PAID</th>\n",
       "      <th>BAL C/F</th>\n",
       "      <th>Unnamed: 13</th>\n",
       "      <th>commission</th>\n",
       "      <th>variance</th>\n",
       "    </tr>\n",
       "  </thead>\n",
       "  <tbody>\n",
       "    <tr>\n",
       "      <th>5</th>\n",
       "      <td>3A</td>\n",
       "      <td>JULIUS KIMANI</td>\n",
       "      <td>24302.0</td>\n",
       "      <td>21000.0</td>\n",
       "      <td>(207-198)</td>\n",
       "      <td>1350.0</td>\n",
       "      <td>250.0</td>\n",
       "      <td>0.0</td>\n",
       "      <td>0.0</td>\n",
       "      <td>0.0</td>\n",
       "      <td>46902.0</td>\n",
       "      <td>0.0</td>\n",
       "      <td>46902.0</td>\n",
       "      <td>NaN</td>\n",
       "      <td>0.0</td>\n",
       "      <td>46902.0</td>\n",
       "    </tr>\n",
       "    <tr>\n",
       "      <th>9</th>\n",
       "      <td>4B</td>\n",
       "      <td>NJERI HINGA</td>\n",
       "      <td>0.0</td>\n",
       "      <td>20000.0</td>\n",
       "      <td>(56-55)</td>\n",
       "      <td>100.0</td>\n",
       "      <td>1000.0</td>\n",
       "      <td>0.0</td>\n",
       "      <td>0.0</td>\n",
       "      <td>0.0</td>\n",
       "      <td>21100.0</td>\n",
       "      <td>0.0</td>\n",
       "      <td>21100.0</td>\n",
       "      <td>NaN</td>\n",
       "      <td>0.0</td>\n",
       "      <td>21100.0</td>\n",
       "    </tr>\n",
       "  </tbody>\n",
       "</table>\n",
       "</div>"
      ],
      "text/plain": [
       "  HSE         TENANT  BAL B/F     RENT WATER BILL  Unnamed: 5  Scharge  \\\n",
       "5  3A  JULIUS KIMANI  24302.0  21000.0  (207-198)      1350.0    250.0   \n",
       "9  4B    NJERI HINGA      0.0  20000.0    (56-55)       100.0   1000.0   \n",
       "\n",
       "   DEPOSIT  DEDUCTIONS  10%\\nPENALTY  PAYABLE  PAID  BAL C/F  Unnamed: 13  \\\n",
       "5      0.0         0.0           0.0  46902.0   0.0  46902.0          NaN   \n",
       "9      0.0         0.0           0.0  21100.0   0.0  21100.0          NaN   \n",
       "\n",
       "   commission  variance  \n",
       "5         0.0   46902.0  \n",
       "9         0.0   21100.0  "
      ]
     },
     "execution_count": 40,
     "metadata": {},
     "output_type": "execute_result"
    }
   ],
   "source": [
    "# print top 2 underpayers\n",
    "\n",
    "(df[df.variance>0].sort_values(\"variance\", ascending = False)).head(2)"
   ]
  },
  {
   "cell_type": "code",
   "execution_count": 41,
   "metadata": {
    "ExecuteTime": {
     "end_time": "2020-07-25T10:16:19.062754Z",
     "start_time": "2020-07-25T10:16:19.059757Z"
    }
   },
   "outputs": [
    {
     "data": {
      "text/html": [
       "<div>\n",
       "<style scoped>\n",
       "    .dataframe tbody tr th:only-of-type {\n",
       "        vertical-align: middle;\n",
       "    }\n",
       "\n",
       "    .dataframe tbody tr th {\n",
       "        vertical-align: top;\n",
       "    }\n",
       "\n",
       "    .dataframe thead th {\n",
       "        text-align: right;\n",
       "    }\n",
       "</style>\n",
       "<table border=\"1\" class=\"dataframe\">\n",
       "  <thead>\n",
       "    <tr style=\"text-align: right;\">\n",
       "      <th></th>\n",
       "      <th>HSE</th>\n",
       "      <th>TENANT</th>\n",
       "      <th>BAL B/F</th>\n",
       "      <th>RENT</th>\n",
       "      <th>WATER BILL</th>\n",
       "      <th>Unnamed: 5</th>\n",
       "      <th>Scharge</th>\n",
       "      <th>DEPOSIT</th>\n",
       "      <th>DEDUCTIONS</th>\n",
       "      <th>10%\\nPENALTY</th>\n",
       "      <th>PAYABLE</th>\n",
       "      <th>PAID</th>\n",
       "      <th>BAL C/F</th>\n",
       "      <th>Unnamed: 13</th>\n",
       "      <th>commission</th>\n",
       "      <th>variance</th>\n",
       "    </tr>\n",
       "  </thead>\n",
       "  <tbody>\n",
       "    <tr>\n",
       "      <th>5</th>\n",
       "      <td>3A</td>\n",
       "      <td>JULIUS KIMANI</td>\n",
       "      <td>24302.0</td>\n",
       "      <td>21000.0</td>\n",
       "      <td>(207-198)</td>\n",
       "      <td>1350.0</td>\n",
       "      <td>250.0</td>\n",
       "      <td>0.0</td>\n",
       "      <td>0.0</td>\n",
       "      <td>0.0</td>\n",
       "      <td>46902.0</td>\n",
       "      <td>0.0</td>\n",
       "      <td>46902.0</td>\n",
       "      <td>NaN</td>\n",
       "      <td>0.0</td>\n",
       "      <td>46902.0</td>\n",
       "    </tr>\n",
       "    <tr>\n",
       "      <th>9</th>\n",
       "      <td>4B</td>\n",
       "      <td>NJERI HINGA</td>\n",
       "      <td>0.0</td>\n",
       "      <td>20000.0</td>\n",
       "      <td>(56-55)</td>\n",
       "      <td>100.0</td>\n",
       "      <td>1000.0</td>\n",
       "      <td>0.0</td>\n",
       "      <td>0.0</td>\n",
       "      <td>0.0</td>\n",
       "      <td>21100.0</td>\n",
       "      <td>0.0</td>\n",
       "      <td>21100.0</td>\n",
       "      <td>NaN</td>\n",
       "      <td>0.0</td>\n",
       "      <td>21100.0</td>\n",
       "    </tr>\n",
       "    <tr>\n",
       "      <th>3</th>\n",
       "      <td>2B</td>\n",
       "      <td>PAUL MUCHOKA</td>\n",
       "      <td>200.0</td>\n",
       "      <td>22000.0</td>\n",
       "      <td>(209-202)</td>\n",
       "      <td>1050.0</td>\n",
       "      <td>250.0</td>\n",
       "      <td>0.0</td>\n",
       "      <td>0.0</td>\n",
       "      <td>0.0</td>\n",
       "      <td>23100.0</td>\n",
       "      <td>15000.0</td>\n",
       "      <td>8100.0</td>\n",
       "      <td>NaN</td>\n",
       "      <td>750.0</td>\n",
       "      <td>8100.0</td>\n",
       "    </tr>\n",
       "    <tr>\n",
       "      <th>7</th>\n",
       "      <td>3C</td>\n",
       "      <td>BENARD MBURU</td>\n",
       "      <td>2000.0</td>\n",
       "      <td>11500.0</td>\n",
       "      <td>(281-270)</td>\n",
       "      <td>1650.0</td>\n",
       "      <td>250.0</td>\n",
       "      <td>0.0</td>\n",
       "      <td>0.0</td>\n",
       "      <td>0.0</td>\n",
       "      <td>15400.0</td>\n",
       "      <td>13400.0</td>\n",
       "      <td>2000.0</td>\n",
       "      <td>NaN</td>\n",
       "      <td>670.0</td>\n",
       "      <td>2000.0</td>\n",
       "    </tr>\n",
       "    <tr>\n",
       "      <th>8</th>\n",
       "      <td>4A</td>\n",
       "      <td>FRANK</td>\n",
       "      <td>0.0</td>\n",
       "      <td>22500.0</td>\n",
       "      <td>(184-179)</td>\n",
       "      <td>750.0</td>\n",
       "      <td>250.0</td>\n",
       "      <td>0.0</td>\n",
       "      <td>0.0</td>\n",
       "      <td>0.0</td>\n",
       "      <td>23500.0</td>\n",
       "      <td>23000.0</td>\n",
       "      <td>500.0</td>\n",
       "      <td>NaN</td>\n",
       "      <td>1150.0</td>\n",
       "      <td>500.0</td>\n",
       "    </tr>\n",
       "  </tbody>\n",
       "</table>\n",
       "</div>"
      ],
      "text/plain": [
       "  HSE         TENANT  BAL B/F     RENT    WATER BILL  Unnamed: 5  Scharge  \\\n",
       "5  3A  JULIUS KIMANI  24302.0  21000.0     (207-198)      1350.0    250.0   \n",
       "9  4B    NJERI HINGA      0.0  20000.0       (56-55)       100.0   1000.0   \n",
       "3  2B   PAUL MUCHOKA    200.0  22000.0     (209-202)      1050.0    250.0   \n",
       "7  3C   BENARD MBURU   2000.0  11500.0    (281-270)       1650.0    250.0   \n",
       "8  4A          FRANK      0.0  22500.0  (184-179)          750.0    250.0   \n",
       "\n",
       "   DEPOSIT  DEDUCTIONS  10%\\nPENALTY  PAYABLE     PAID  BAL C/F  Unnamed: 13  \\\n",
       "5      0.0         0.0           0.0  46902.0      0.0  46902.0          NaN   \n",
       "9      0.0         0.0           0.0  21100.0      0.0  21100.0          NaN   \n",
       "3      0.0         0.0           0.0  23100.0  15000.0   8100.0          NaN   \n",
       "7      0.0         0.0           0.0  15400.0  13400.0   2000.0          NaN   \n",
       "8      0.0         0.0           0.0  23500.0  23000.0    500.0          NaN   \n",
       "\n",
       "   commission  variance  \n",
       "5         0.0   46902.0  \n",
       "9         0.0   21100.0  \n",
       "3       750.0    8100.0  \n",
       "7       670.0    2000.0  \n",
       "8      1150.0     500.0  "
      ]
     },
     "execution_count": 41,
     "metadata": {},
     "output_type": "execute_result"
    }
   ],
   "source": [
    "# which floor has the most underpayers\n",
    "\n",
    "(df[df.variance>0].sort_values(\"variance\", ascending = False)).head(14)"
   ]
  },
  {
   "cell_type": "code",
   "execution_count": 42,
   "metadata": {},
   "outputs": [
    {
     "data": {
      "text/html": [
       "<div>\n",
       "<style scoped>\n",
       "    .dataframe tbody tr th:only-of-type {\n",
       "        vertical-align: middle;\n",
       "    }\n",
       "\n",
       "    .dataframe tbody tr th {\n",
       "        vertical-align: top;\n",
       "    }\n",
       "\n",
       "    .dataframe thead th {\n",
       "        text-align: right;\n",
       "    }\n",
       "</style>\n",
       "<table border=\"1\" class=\"dataframe\">\n",
       "  <thead>\n",
       "    <tr style=\"text-align: right;\">\n",
       "      <th></th>\n",
       "      <th>HSE</th>\n",
       "      <th>TENANT</th>\n",
       "      <th>BAL B/F</th>\n",
       "      <th>RENT</th>\n",
       "      <th>WATER BILL</th>\n",
       "      <th>Unnamed: 5</th>\n",
       "      <th>Scharge</th>\n",
       "      <th>DEPOSIT</th>\n",
       "      <th>DEDUCTIONS</th>\n",
       "      <th>10%\\nPENALTY</th>\n",
       "      <th>PAYABLE</th>\n",
       "      <th>PAID</th>\n",
       "      <th>BAL C/F</th>\n",
       "      <th>Unnamed: 13</th>\n",
       "      <th>commission</th>\n",
       "      <th>variance</th>\n",
       "    </tr>\n",
       "  </thead>\n",
       "  <tbody>\n",
       "    <tr>\n",
       "      <th>10</th>\n",
       "      <td>4C</td>\n",
       "      <td>MARY MBUGUA</td>\n",
       "      <td>-480.0</td>\n",
       "      <td>23000.0</td>\n",
       "      <td>(139-132)</td>\n",
       "      <td>1050.0</td>\n",
       "      <td>0.0</td>\n",
       "      <td>0.0</td>\n",
       "      <td>0.0</td>\n",
       "      <td>0.0</td>\n",
       "      <td>23570.0</td>\n",
       "      <td>24000.0</td>\n",
       "      <td>-430.0</td>\n",
       "      <td>NaN</td>\n",
       "      <td>1200.0</td>\n",
       "      <td>-430.0</td>\n",
       "    </tr>\n",
       "  </tbody>\n",
       "</table>\n",
       "</div>"
      ],
      "text/plain": [
       "   HSE       TENANT  BAL B/F     RENT     WATER BILL  Unnamed: 5  Scharge  \\\n",
       "10  4C  MARY MBUGUA   -480.0  23000.0  (139-132)          1050.0      0.0   \n",
       "\n",
       "    DEPOSIT  DEDUCTIONS  10%\\nPENALTY  PAYABLE     PAID  BAL C/F  Unnamed: 13  \\\n",
       "10      0.0         0.0           0.0  23570.0  24000.0   -430.0          NaN   \n",
       "\n",
       "    commission  variance  \n",
       "10      1200.0    -430.0  "
      ]
     },
     "execution_count": 42,
     "metadata": {},
     "output_type": "execute_result"
    }
   ],
   "source": [
    "# which floor has the most overpayers\n",
    "(df[df.variance<0].sort_values(\"variance\", ascending = False)).head(2)"
   ]
  },
  {
   "cell_type": "markdown",
   "metadata": {
    "ExecuteTime": {
     "end_time": "2020-07-25T10:23:10.664747Z",
     "start_time": "2020-07-25T10:23:10.660749Z"
    }
   },
   "source": [
    "# <font color =\"red\"> Slightly Advanced Questions</font>"
   ]
  },
  {
   "cell_type": "code",
   "execution_count": 43,
   "metadata": {
    "ExecuteTime": {
     "end_time": "2020-07-25T10:26:17.349491Z",
     "start_time": "2020-07-25T10:26:17.325506Z"
    }
   },
   "outputs": [
    {
     "name": "stdout",
     "output_type": "stream",
     "text": [
      "           Name\n",
      "0    John Kamau\n",
      "1    Njau Ngaga\n",
      "2  Donald Trump\n"
     ]
    },
    {
     "data": {
      "text/html": [
       "<div>\n",
       "<style scoped>\n",
       "    .dataframe tbody tr th:only-of-type {\n",
       "        vertical-align: middle;\n",
       "    }\n",
       "\n",
       "    .dataframe tbody tr th {\n",
       "        vertical-align: top;\n",
       "    }\n",
       "\n",
       "    .dataframe thead th {\n",
       "        text-align: right;\n",
       "    }\n",
       "</style>\n",
       "<table border=\"1\" class=\"dataframe\">\n",
       "  <thead>\n",
       "    <tr style=\"text-align: right;\">\n",
       "      <th></th>\n",
       "      <th>Name</th>\n",
       "      <th>First name</th>\n",
       "      <th>Second name</th>\n",
       "    </tr>\n",
       "  </thead>\n",
       "  <tbody>\n",
       "    <tr>\n",
       "      <th>0</th>\n",
       "      <td>John Kamau</td>\n",
       "      <td>John</td>\n",
       "      <td>Kamau</td>\n",
       "    </tr>\n",
       "    <tr>\n",
       "      <th>1</th>\n",
       "      <td>Njau Ngaga</td>\n",
       "      <td>Njau</td>\n",
       "      <td>Ngaga</td>\n",
       "    </tr>\n",
       "    <tr>\n",
       "      <th>2</th>\n",
       "      <td>Donald Trump</td>\n",
       "      <td>Donald</td>\n",
       "      <td>Trump</td>\n",
       "    </tr>\n",
       "  </tbody>\n",
       "</table>\n",
       "</div>"
      ],
      "text/plain": [
       "           Name First name Second name\n",
       "0    John Kamau       John       Kamau\n",
       "1    Njau Ngaga       Njau       Ngaga\n",
       "2  Donald Trump     Donald       Trump"
      ]
     },
     "execution_count": 43,
     "metadata": {},
     "output_type": "execute_result"
    }
   ],
   "source": [
    "#example of text splits\n",
    "\n",
    "table = pd.DataFrame([\"John Kamau\",\"Njau Ngaga\",\"Donald Trump\"],columns =[\"Name\"])\n",
    "print(table.head())\n",
    "table[\"First name\"] = [i.split()[0] for i in table.Name]\n",
    "table[\"Second name\"] = [i.split()[1] for i in table.Name]\n",
    "table.head()"
   ]
  },
  {
   "cell_type": "code",
   "execution_count": 44,
   "metadata": {},
   "outputs": [
    {
     "name": "stdout",
     "output_type": "stream",
     "text": [
      "  HSE            TENANT  BAL B/F     RENT    WATER BILL  Unnamed: 5  Scharge  \\\n",
      "0  1A        ALFRED JOE      0.0      0.0  (106-101)          500.0      0.0   \n",
      "1  1B      OLIVA ONDEDE      0.0  21000.0      (91-87)        600.0    250.0   \n",
      "2  2A  FIDELIS NYAMBURA      0.0  20000.0  (250-240)         1000.0   1000.0   \n",
      "3  2B      PAUL MUCHOKA    200.0  22000.0     (209-202)      1050.0    250.0   \n",
      "4  2C   JAMES KINYANJUI      0.0  20000.0  (216-207)         1200.0   1000.0   \n",
      "\n",
      "   DEPOSIT  DEDUCTIONS  10%\\nPENALTY  PAYABLE     PAID  BAL C/F  Unnamed: 13  \\\n",
      "0      0.0         0.0           0.0      0.0      0.0      0.0          NaN   \n",
      "1      0.0         0.0           0.0  21850.0  21850.0      0.0          NaN   \n",
      "2      0.0         0.0           0.0  22000.0  22000.0      0.0          NaN   \n",
      "3      0.0         0.0           0.0  23100.0  15000.0   8100.0          NaN   \n",
      "4      0.0         0.0           0.0  22200.0  22200.0      0.0          NaN   \n",
      "\n",
      "   commission  variance  \n",
      "0         0.0       0.0  \n",
      "1      1092.5       0.0  \n",
      "2      1100.0       0.0  \n",
      "3       750.0    8100.0  \n",
      "4      1110.0       0.0  \n"
     ]
    },
    {
     "ename": "AttributeError",
     "evalue": "'float' object has no attribute 'split'",
     "output_type": "error",
     "traceback": [
      "\u001b[0;31m---------------------------------------------------------------------------\u001b[0m",
      "\u001b[0;31mAttributeError\u001b[0m                            Traceback (most recent call last)",
      "\u001b[0;32m<ipython-input-44-75480687a367>\u001b[0m in \u001b[0;36m<module>\u001b[0;34m\u001b[0m\n\u001b[1;32m      3\u001b[0m \u001b[0mprint\u001b[0m\u001b[0;34m(\u001b[0m\u001b[0mtable\u001b[0m\u001b[0;34m.\u001b[0m\u001b[0mhead\u001b[0m\u001b[0;34m(\u001b[0m\u001b[0;34m)\u001b[0m\u001b[0;34m)\u001b[0m\u001b[0;34m\u001b[0m\u001b[0;34m\u001b[0m\u001b[0m\n\u001b[1;32m      4\u001b[0m \u001b[0;34m\u001b[0m\u001b[0m\n\u001b[0;32m----> 5\u001b[0;31m \u001b[0mtable\u001b[0m\u001b[0;34m[\u001b[0m\u001b[0;34m\"First name\"\u001b[0m\u001b[0;34m]\u001b[0m \u001b[0;34m=\u001b[0m \u001b[0;34m[\u001b[0m\u001b[0mi\u001b[0m\u001b[0;34m.\u001b[0m\u001b[0msplit\u001b[0m\u001b[0;34m(\u001b[0m\u001b[0;34m)\u001b[0m\u001b[0;34m[\u001b[0m\u001b[0;36m0\u001b[0m\u001b[0;34m]\u001b[0m \u001b[0;32mfor\u001b[0m \u001b[0mi\u001b[0m \u001b[0;32min\u001b[0m \u001b[0mtable\u001b[0m\u001b[0;34m.\u001b[0m\u001b[0mTENANT\u001b[0m\u001b[0;34m]\u001b[0m\u001b[0;34m\u001b[0m\u001b[0;34m\u001b[0m\u001b[0m\n\u001b[0m\u001b[1;32m      6\u001b[0m \u001b[0mtable\u001b[0m\u001b[0;34m[\u001b[0m\u001b[0;34m\"Second name\"\u001b[0m\u001b[0;34m]\u001b[0m \u001b[0;34m=\u001b[0m \u001b[0;34m[\u001b[0m\u001b[0mi\u001b[0m\u001b[0;34m.\u001b[0m\u001b[0msplit\u001b[0m\u001b[0;34m(\u001b[0m\u001b[0;34m)\u001b[0m\u001b[0;34m[\u001b[0m\u001b[0;36m1\u001b[0m\u001b[0;34m]\u001b[0m \u001b[0;32mfor\u001b[0m \u001b[0mi\u001b[0m \u001b[0;32min\u001b[0m \u001b[0mtable\u001b[0m\u001b[0;34m.\u001b[0m\u001b[0mTENANT\u001b[0m\u001b[0;34m]\u001b[0m\u001b[0;34m\u001b[0m\u001b[0;34m\u001b[0m\u001b[0m\n\u001b[1;32m      7\u001b[0m \u001b[0mtable\u001b[0m\u001b[0;34m.\u001b[0m\u001b[0mhead\u001b[0m\u001b[0;34m(\u001b[0m\u001b[0;34m)\u001b[0m\u001b[0;34m\u001b[0m\u001b[0;34m\u001b[0m\u001b[0m\n",
      "\u001b[0;32m<ipython-input-44-75480687a367>\u001b[0m in \u001b[0;36m<listcomp>\u001b[0;34m(.0)\u001b[0m\n\u001b[1;32m      3\u001b[0m \u001b[0mprint\u001b[0m\u001b[0;34m(\u001b[0m\u001b[0mtable\u001b[0m\u001b[0;34m.\u001b[0m\u001b[0mhead\u001b[0m\u001b[0;34m(\u001b[0m\u001b[0;34m)\u001b[0m\u001b[0;34m)\u001b[0m\u001b[0;34m\u001b[0m\u001b[0;34m\u001b[0m\u001b[0m\n\u001b[1;32m      4\u001b[0m \u001b[0;34m\u001b[0m\u001b[0m\n\u001b[0;32m----> 5\u001b[0;31m \u001b[0mtable\u001b[0m\u001b[0;34m[\u001b[0m\u001b[0;34m\"First name\"\u001b[0m\u001b[0;34m]\u001b[0m \u001b[0;34m=\u001b[0m \u001b[0;34m[\u001b[0m\u001b[0mi\u001b[0m\u001b[0;34m.\u001b[0m\u001b[0msplit\u001b[0m\u001b[0;34m(\u001b[0m\u001b[0;34m)\u001b[0m\u001b[0;34m[\u001b[0m\u001b[0;36m0\u001b[0m\u001b[0;34m]\u001b[0m \u001b[0;32mfor\u001b[0m \u001b[0mi\u001b[0m \u001b[0;32min\u001b[0m \u001b[0mtable\u001b[0m\u001b[0;34m.\u001b[0m\u001b[0mTENANT\u001b[0m\u001b[0;34m]\u001b[0m\u001b[0;34m\u001b[0m\u001b[0;34m\u001b[0m\u001b[0m\n\u001b[0m\u001b[1;32m      6\u001b[0m \u001b[0mtable\u001b[0m\u001b[0;34m[\u001b[0m\u001b[0;34m\"Second name\"\u001b[0m\u001b[0;34m]\u001b[0m \u001b[0;34m=\u001b[0m \u001b[0;34m[\u001b[0m\u001b[0mi\u001b[0m\u001b[0;34m.\u001b[0m\u001b[0msplit\u001b[0m\u001b[0;34m(\u001b[0m\u001b[0;34m)\u001b[0m\u001b[0;34m[\u001b[0m\u001b[0;36m1\u001b[0m\u001b[0;34m]\u001b[0m \u001b[0;32mfor\u001b[0m \u001b[0mi\u001b[0m \u001b[0;32min\u001b[0m \u001b[0mtable\u001b[0m\u001b[0;34m.\u001b[0m\u001b[0mTENANT\u001b[0m\u001b[0;34m]\u001b[0m\u001b[0;34m\u001b[0m\u001b[0;34m\u001b[0m\u001b[0m\n\u001b[1;32m      7\u001b[0m \u001b[0mtable\u001b[0m\u001b[0;34m.\u001b[0m\u001b[0mhead\u001b[0m\u001b[0;34m(\u001b[0m\u001b[0;34m)\u001b[0m\u001b[0;34m\u001b[0m\u001b[0;34m\u001b[0m\u001b[0m\n",
      "\u001b[0;31mAttributeError\u001b[0m: 'float' object has no attribute 'split'"
     ]
    }
   ],
   "source": [
    "table = df\n",
    "\n",
    "print(table.head())\n",
    "\n",
    "table[\"First name\"] = [i.split()[0] for i in table.TENANT]\n",
    "table[\"Second name\"] = [i.split()[1] for i in table.TENANT]\n",
    "table.head()\n",
    "\n",
    "\n"
   ]
  },
  {
   "cell_type": "code",
   "execution_count": 45,
   "metadata": {},
   "outputs": [
    {
     "data": {
      "text/html": [
       "<div>\n",
       "<style scoped>\n",
       "    .dataframe tbody tr th:only-of-type {\n",
       "        vertical-align: middle;\n",
       "    }\n",
       "\n",
       "    .dataframe tbody tr th {\n",
       "        vertical-align: top;\n",
       "    }\n",
       "\n",
       "    .dataframe thead th {\n",
       "        text-align: right;\n",
       "    }\n",
       "</style>\n",
       "<table border=\"1\" class=\"dataframe\">\n",
       "  <thead>\n",
       "    <tr style=\"text-align: right;\">\n",
       "      <th></th>\n",
       "      <th>HSE</th>\n",
       "      <th>PAID</th>\n",
       "      <th>floor</th>\n",
       "    </tr>\n",
       "  </thead>\n",
       "  <tbody>\n",
       "    <tr>\n",
       "      <th>0</th>\n",
       "      <td>1A</td>\n",
       "      <td>0.0</td>\n",
       "      <td>1</td>\n",
       "    </tr>\n",
       "    <tr>\n",
       "      <th>1</th>\n",
       "      <td>1B</td>\n",
       "      <td>21850.0</td>\n",
       "      <td>1</td>\n",
       "    </tr>\n",
       "    <tr>\n",
       "      <th>2</th>\n",
       "      <td>2A</td>\n",
       "      <td>22000.0</td>\n",
       "      <td>2</td>\n",
       "    </tr>\n",
       "    <tr>\n",
       "      <th>3</th>\n",
       "      <td>2B</td>\n",
       "      <td>15000.0</td>\n",
       "      <td>2</td>\n",
       "    </tr>\n",
       "    <tr>\n",
       "      <th>4</th>\n",
       "      <td>2C</td>\n",
       "      <td>22200.0</td>\n",
       "      <td>2</td>\n",
       "    </tr>\n",
       "  </tbody>\n",
       "</table>\n",
       "</div>"
      ],
      "text/plain": [
       "  HSE     PAID floor\n",
       "0  1A      0.0     1\n",
       "1  1B  21850.0     1\n",
       "2  2A  22000.0     2\n",
       "3  2B  15000.0     2\n",
       "4  2C  22200.0     2"
      ]
     },
     "execution_count": 45,
     "metadata": {},
     "output_type": "execute_result"
    }
   ],
   "source": [
    "# create two columns one called \"first name\" the other \"second name\"\n",
    "# split the tenant name into 2 and add the names to the appropriate column (use a for loop as you have learned)\n",
    "\n",
    "#df[\"First name\"] = [i.split()[0] for i in df.TENANT]\n",
    "#df[\"Second name\"] = [i.split()[1] for i in df.TENANT]\n",
    "df.head()\n",
    "\n",
    "dx = df[[\"HSE\",\"PAID\"]]\n",
    "dx = dx.head(12)\n",
    "empty = []\n",
    "\n",
    "for i in dx.HSE:\n",
    "    #print(i)\n",
    "    j = str(i)[0]\n",
    "    #print(j)\n",
    "    empty.append(j)\n",
    "dx[\"floor\"] = empty\n",
    "dx.head()"
   ]
  },
  {
   "cell_type": "code",
   "execution_count": 46,
   "metadata": {},
   "outputs": [
    {
     "data": {
      "text/plain": [
       "23.5"
      ]
     },
     "execution_count": 46,
     "metadata": {},
     "output_type": "execute_result"
    }
   ],
   "source": [
    "def meaner(x):\n",
    "    return sum(x)/len(x)\n",
    "meaner([23,24])"
   ]
  },
  {
   "cell_type": "code",
   "execution_count": 47,
   "metadata": {},
   "outputs": [
    {
     "data": {
      "text/html": [
       "<div>\n",
       "<style scoped>\n",
       "    .dataframe tbody tr th:only-of-type {\n",
       "        vertical-align: middle;\n",
       "    }\n",
       "\n",
       "    .dataframe tbody tr th {\n",
       "        vertical-align: top;\n",
       "    }\n",
       "\n",
       "    .dataframe thead th {\n",
       "        text-align: right;\n",
       "    }\n",
       "</style>\n",
       "<table border=\"1\" class=\"dataframe\">\n",
       "  <thead>\n",
       "    <tr style=\"text-align: right;\">\n",
       "      <th></th>\n",
       "      <th>PAID</th>\n",
       "    </tr>\n",
       "    <tr>\n",
       "      <th>floor</th>\n",
       "      <th></th>\n",
       "    </tr>\n",
       "  </thead>\n",
       "  <tbody>\n",
       "    <tr>\n",
       "      <th>1</th>\n",
       "      <td>21850.0</td>\n",
       "    </tr>\n",
       "    <tr>\n",
       "      <th>2</th>\n",
       "      <td>59200.0</td>\n",
       "    </tr>\n",
       "    <tr>\n",
       "      <th>3</th>\n",
       "      <td>35500.0</td>\n",
       "    </tr>\n",
       "    <tr>\n",
       "      <th>4</th>\n",
       "      <td>47000.0</td>\n",
       "    </tr>\n",
       "    <tr>\n",
       "      <th>5</th>\n",
       "      <td>0.0</td>\n",
       "    </tr>\n",
       "  </tbody>\n",
       "</table>\n",
       "</div>"
      ],
      "text/plain": [
       "          PAID\n",
       "floor         \n",
       "1      21850.0\n",
       "2      59200.0\n",
       "3      35500.0\n",
       "4      47000.0\n",
       "5          0.0"
      ]
     },
     "execution_count": 47,
     "metadata": {},
     "output_type": "execute_result"
    }
   ],
   "source": [
    "dx.groupby(\"floor\").sum()\n"
   ]
  },
  {
   "cell_type": "code",
   "execution_count": 48,
   "metadata": {},
   "outputs": [
    {
     "data": {
      "text/html": [
       "<div>\n",
       "<style scoped>\n",
       "    .dataframe tbody tr th:only-of-type {\n",
       "        vertical-align: middle;\n",
       "    }\n",
       "\n",
       "    .dataframe tbody tr th {\n",
       "        vertical-align: top;\n",
       "    }\n",
       "\n",
       "    .dataframe thead tr th {\n",
       "        text-align: left;\n",
       "    }\n",
       "\n",
       "    .dataframe thead tr:last-of-type th {\n",
       "        text-align: right;\n",
       "    }\n",
       "</style>\n",
       "<table border=\"1\" class=\"dataframe\">\n",
       "  <thead>\n",
       "    <tr>\n",
       "      <th></th>\n",
       "      <th></th>\n",
       "      <th colspan=\"3\" halign=\"left\">PAID</th>\n",
       "    </tr>\n",
       "    <tr>\n",
       "      <th></th>\n",
       "      <th></th>\n",
       "      <th>meaner</th>\n",
       "      <th>median</th>\n",
       "      <th>min</th>\n",
       "    </tr>\n",
       "    <tr>\n",
       "      <th>floor</th>\n",
       "      <th>HSE</th>\n",
       "      <th></th>\n",
       "      <th></th>\n",
       "      <th></th>\n",
       "    </tr>\n",
       "  </thead>\n",
       "  <tbody>\n",
       "    <tr>\n",
       "      <th rowspan=\"2\" valign=\"top\">1</th>\n",
       "      <th>1A</th>\n",
       "      <td>0.0</td>\n",
       "      <td>0.0</td>\n",
       "      <td>0.0</td>\n",
       "    </tr>\n",
       "    <tr>\n",
       "      <th>1B</th>\n",
       "      <td>21850.0</td>\n",
       "      <td>21850.0</td>\n",
       "      <td>21850.0</td>\n",
       "    </tr>\n",
       "    <tr>\n",
       "      <th rowspan=\"3\" valign=\"top\">2</th>\n",
       "      <th>2A</th>\n",
       "      <td>22000.0</td>\n",
       "      <td>22000.0</td>\n",
       "      <td>22000.0</td>\n",
       "    </tr>\n",
       "    <tr>\n",
       "      <th>2B</th>\n",
       "      <td>15000.0</td>\n",
       "      <td>15000.0</td>\n",
       "      <td>15000.0</td>\n",
       "    </tr>\n",
       "    <tr>\n",
       "      <th>2C</th>\n",
       "      <td>22200.0</td>\n",
       "      <td>22200.0</td>\n",
       "      <td>22200.0</td>\n",
       "    </tr>\n",
       "    <tr>\n",
       "      <th rowspan=\"3\" valign=\"top\">3</th>\n",
       "      <th>3A</th>\n",
       "      <td>0.0</td>\n",
       "      <td>0.0</td>\n",
       "      <td>0.0</td>\n",
       "    </tr>\n",
       "    <tr>\n",
       "      <th>3B</th>\n",
       "      <td>22100.0</td>\n",
       "      <td>22100.0</td>\n",
       "      <td>22100.0</td>\n",
       "    </tr>\n",
       "    <tr>\n",
       "      <th>3C</th>\n",
       "      <td>13400.0</td>\n",
       "      <td>13400.0</td>\n",
       "      <td>13400.0</td>\n",
       "    </tr>\n",
       "    <tr>\n",
       "      <th rowspan=\"3\" valign=\"top\">4</th>\n",
       "      <th>4A</th>\n",
       "      <td>23000.0</td>\n",
       "      <td>23000.0</td>\n",
       "      <td>23000.0</td>\n",
       "    </tr>\n",
       "    <tr>\n",
       "      <th>4B</th>\n",
       "      <td>0.0</td>\n",
       "      <td>0.0</td>\n",
       "      <td>0.0</td>\n",
       "    </tr>\n",
       "    <tr>\n",
       "      <th>4C</th>\n",
       "      <td>24000.0</td>\n",
       "      <td>24000.0</td>\n",
       "      <td>24000.0</td>\n",
       "    </tr>\n",
       "    <tr>\n",
       "      <th>5</th>\n",
       "      <th>5B</th>\n",
       "      <td>0.0</td>\n",
       "      <td>0.0</td>\n",
       "      <td>0.0</td>\n",
       "    </tr>\n",
       "  </tbody>\n",
       "</table>\n",
       "</div>"
      ],
      "text/plain": [
       "              PAID                  \n",
       "            meaner   median      min\n",
       "floor HSE                           \n",
       "1     1A       0.0      0.0      0.0\n",
       "      1B   21850.0  21850.0  21850.0\n",
       "2     2A   22000.0  22000.0  22000.0\n",
       "      2B   15000.0  15000.0  15000.0\n",
       "      2C   22200.0  22200.0  22200.0\n",
       "3     3A       0.0      0.0      0.0\n",
       "      3B   22100.0  22100.0  22100.0\n",
       "      3C   13400.0  13400.0  13400.0\n",
       "4     4A   23000.0  23000.0  23000.0\n",
       "      4B       0.0      0.0      0.0\n",
       "      4C   24000.0  24000.0  24000.0\n",
       "5     5B       0.0      0.0      0.0"
      ]
     },
     "execution_count": 48,
     "metadata": {},
     "output_type": "execute_result"
    }
   ],
   "source": [
    "dx.groupby([\"floor\",\"HSE\"]).agg([meaner,\"median\",\"min\"])"
   ]
  },
  {
   "cell_type": "code",
   "execution_count": null,
   "metadata": {
    "ExecuteTime": {
     "end_time": "2020-07-25T10:33:59.443358Z",
     "start_time": "2020-07-25T10:33:59.415376Z"
    }
   },
   "outputs": [],
   "source": [
    "# Example 2 ( Group-BYS)\n",
    "table = pd.DataFrame([\"1A\",\"1B\",\"2A\",\"2B\"],columns =[\"HouseName\"])\n",
    "table[\"rent\"] = [200,300,100,200]\n",
    "print(table.head())\n",
    "table[\"floor\"] = [i[0] for  i in table.HouseName]\n",
    "print(table.head())\n",
    "table[\"floor\"] = [\"1st floor\" if int(i)==1 else \"second floor\" for i in table.floor]\n",
    "print(table.head())\n",
    "\n",
    "print(\"Cumulative sum per floor\")\n",
    "print(\"$\"*30)\n",
    "print(table.groupby(\"floor\").sum())\n",
    "print(\"$\"*30)"
   ]
  },
  {
   "cell_type": "code",
   "execution_count": null,
   "metadata": {},
   "outputs": [],
   "source": [
    "df.head(15)"
   ]
  },
  {
   "cell_type": "code",
   "execution_count": null,
   "metadata": {},
   "outputs": [],
   "source": [
    "#How many units did each house pay? use the waterbill column\n",
    "# what was the total units consumed by each floor? us a groupby command (learn more about it)"
   ]
  },
  {
   "cell_type": "markdown",
   "metadata": {},
   "source": [
    "# <font color =\"cyan\">Visualizations</font>"
   ]
  },
  {
   "cell_type": "code",
   "execution_count": null,
   "metadata": {
    "ExecuteTime": {
     "end_time": "2020-07-25T10:17:12.642124Z",
     "start_time": "2020-07-25T10:17:12.611145Z"
    }
   },
   "outputs": [],
   "source": [
    "df.head()\n",
    "# create a histogram of the PAYABLE COLUMN\n",
    "# label it accordingly\n",
    "\n",
    "import numpy as np\n",
    "hist_plot = df['PAYABLE'].hist(bins=12)\n",
    "hist_plot.set_title(\"RENT PAYABLE\")\n",
    "hist_plot.set_xlabel(\"RENT\")\n",
    "hist_plot.set_ylabel(\"TENANTS\")"
   ]
  },
  {
   "cell_type": "code",
   "execution_count": null,
   "metadata": {},
   "outputs": [],
   "source": [
    "# how many tenants pay the lowest rent (read from the histogram)\n",
    "2"
   ]
  },
  {
   "cell_type": "code",
   "execution_count": null,
   "metadata": {},
   "outputs": [],
   "source": [
    "# create a correlation heatmap between variance column and service charge ( is there a correlation?)i\n",
    "import seaborn as sns\n",
    "sns.heatmap(df[['variance' , 'Scharge']].corr())"
   ]
  },
  {
   "cell_type": "code",
   "execution_count": 1,
   "metadata": {},
   "outputs": [
    {
     "data": {
      "text/plain": [
       "['small', 'Long', 'Long', 'Mid', 'Long']"
      ]
     },
     "execution_count": 1,
     "metadata": {},
     "output_type": "execute_result"
    }
   ],
   "source": [
    "colors = [\"red\",\"yellow\",\"green\",\"grey\",\"turquoise\"]\n",
    "\n",
    "def njau(x):\n",
    "    empty = []\n",
    "    for i in x:\n",
    "        if len(i)<4:\n",
    "            empty.append(\"small\")\n",
    "        elif len(i)<5:\n",
    "            empty.append(\"Mid\")\n",
    "        else:\n",
    "            empty.append(\"Long\")\n",
    "    return empty\n",
    "njau(colors)"
   ]
  },
  {
   "cell_type": "code",
   "execution_count": null,
   "metadata": {},
   "outputs": [],
   "source": [
    "#empty = [njau wants i  to be \"small\" if len(i)<4 else njau wants i to be \"mid\" if len(i)<5 else \"Long\" for i in colors]\n",
    "empty = [\"small\" if len(i)<4 else  \"mid\" if len(i)<5 else \"Long\" for i in colors]\n",
    "empty"
   ]
  },
  {
   "cell_type": "code",
   "execution_count": null,
   "metadata": {},
   "outputs": [],
   "source": []
  }
 ],
 "metadata": {
  "kernelspec": {
   "display_name": "Python 3",
   "language": "python",
   "name": "python3"
  },
  "language_info": {
   "codemirror_mode": {
    "name": "ipython",
    "version": 3
   },
   "file_extension": ".py",
   "mimetype": "text/x-python",
   "name": "python",
   "nbconvert_exporter": "python",
   "pygments_lexer": "ipython3",
   "version": "3.7.6"
  },
  "latex_envs": {
   "LaTeX_envs_menu_present": true,
   "autoclose": false,
   "autocomplete": true,
   "bibliofile": "biblio.bib",
   "cite_by": "apalike",
   "current_citInitial": 1,
   "eqLabelWithNumbers": true,
   "eqNumInitial": 1,
   "hotkeys": {
    "equation": "Ctrl-E",
    "itemize": "Ctrl-I"
   },
   "labels_anchors": false,
   "latex_user_defs": false,
   "report_style_numbering": false,
   "user_envs_cfg": false
  },
  "toc": {
   "base_numbering": 1,
   "nav_menu": {},
   "number_sections": true,
   "sideBar": true,
   "skip_h1_title": false,
   "title_cell": "Table of Contents",
   "title_sidebar": "Contents",
   "toc_cell": false,
   "toc_position": {},
   "toc_section_display": true,
   "toc_window_display": false
  }
 },
 "nbformat": 4,
 "nbformat_minor": 2
}
